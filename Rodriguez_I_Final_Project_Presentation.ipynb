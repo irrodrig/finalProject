{
 "cells": [
  {
   "cell_type": "markdown",
   "metadata": {
    "slideshow": {
     "slide_type": "slide"
    }
   },
   "source": [
    "# Rodriguez, I. MIS 665, 16 SEP 2019\n",
    "K-State Honor Code: \"On my honor, as a student, I have neither given nor received unauthorized aid on this academic work.\""
   ]
  },
  {
   "cell_type": "code",
   "execution_count": 283,
   "metadata": {
    "slideshow": {
     "slide_type": "skip"
    }
   },
   "outputs": [],
   "source": [
    "# load key data analysis packages\n",
    "import pandas as pd\n",
    "import numpy as np\n",
    "from scipy import stats\n",
    "import matplotlib.pyplot as plt\n",
    "%matplotlib inline\n",
    "import scikitplot as skplt\n",
    "\n",
    "# Visualization Tools\n",
    "\n",
    "# load plotly visualization functionality\n",
    "import plotly.graph_objects as go\n",
    "import plotly.express as px\n",
    "\n",
    "# load seaborn visualization functionality\n",
    "import seaborn as sns\n",
    "\n",
    "# load scatter_matrix functionality\n",
    "from pandas.plotting import scatter_matrix\n",
    "# load scatter_matrix functionality\n",
    "\n",
    "# load plotly visualization functionality\n",
    "import plotly.graph_objects as go\n",
    "import plotly.express as px\n",
    "\n",
    "# load seaborn visualization functionality\n",
    "import seaborn as sns\n",
    "%matplotlib inline\n",
    "\n",
    "\n",
    "# Statistics Tools\n",
    "\n",
    "# load  pingouin statistics functionality\n",
    "import pingouin as pg\n",
    "\n",
    "# f regression\n",
    "from sklearn.feature_selection import f_regression\n",
    "from sklearn.feature_selection import SelectKBest\n",
    "\n",
    "#stats model\n",
    "import statsmodels.api as sm\n",
    "from statsmodels.formula.api import ols\n",
    "\n",
    "#import decisiontreeclassifier\n",
    "from sklearn import tree\n",
    "from sklearn.tree import DecisionTreeClassifier, export_graphviz\n",
    "from IPython.display import SVG\n",
    "\n",
    "#from graphviz import Source\n",
    "from IPython.display import display\n",
    "\n",
    "#import logisticregression classifier\n",
    "from sklearn.linear_model import LogisticRegression\n",
    "import statsmodels.api as sm\n",
    "\n",
    "#import knn classifier\n",
    "from sklearn.neighbors import KNeighborsClassifier\n",
    "\n",
    "# feature selection\n",
    "from sklearn.feature_selection import RFE\n",
    "from sklearn.ensemble import ExtraTreesClassifier\n",
    "from sklearn.feature_selection import SelectKBest\n",
    "from sklearn.feature_selection import chi2\n",
    "\n",
    "#for validating your classification model\n",
    "from sklearn.metrics import classification_report, f1_score, accuracy_score, confusion_matrix\n",
    "from sklearn.model_selection import StratifiedKFold, cross_val_score, train_test_split, GridSearchCV \n",
    "from sklearn import metrics\n",
    "from sklearn.metrics import roc_curve, auc\n",
    "\n",
    "#linear model\n",
    "import sklearn.linear_model as lm\n",
    "from sklearn.metrics import mean_squared_error\n",
    "from sklearn.metrics import explained_variance_score\n",
    "\n",
    "\n",
    "import warnings\n",
    "warnings.filterwarnings(\"ignore\")"
   ]
  },
  {
   "cell_type": "markdown",
   "metadata": {
    "slideshow": {
     "slide_type": "slide"
    }
   },
   "source": [
    "## Data Cleaning and Preparation:  \n",
    "\n",
    "- Data Quality: \n",
    "    - The Data received extension preparation of the initial portion of this project\n",
    "\n",
    "- Data Transformations:\n",
    "    - Dropped extraneous columns\n",
    "    - Created new imdb score quadriles\n",
    "    - Filtered for modern content ratings\n",
    "    - Created dummy variables for content ratings, foreign language, and foreign production\n",
    "    "
   ]
  },
  {
   "cell_type": "code",
   "execution_count": 284,
   "metadata": {
    "slideshow": {
     "slide_type": "skip"
    }
   },
   "outputs": [],
   "source": [
    "#m3 = pd.read_csv(\"data/movies3.csv\")\n",
    "m3 = pd.read_csv(\"https://raw.githubusercontent.com/irrodrig/finalProject/master/data/movies3.csv\")"
   ]
  },
  {
   "cell_type": "code",
   "execution_count": 285,
   "metadata": {
    "slideshow": {
     "slide_type": "skip"
    }
   },
   "outputs": [
    {
     "data": {
      "text/html": [
       "<div>\n",
       "<style scoped>\n",
       "    .dataframe tbody tr th:only-of-type {\n",
       "        vertical-align: middle;\n",
       "    }\n",
       "\n",
       "    .dataframe tbody tr th {\n",
       "        vertical-align: top;\n",
       "    }\n",
       "\n",
       "    .dataframe thead th {\n",
       "        text-align: right;\n",
       "    }\n",
       "</style>\n",
       "<table border=\"1\" class=\"dataframe\">\n",
       "  <thead>\n",
       "    <tr style=\"text-align: right;\">\n",
       "      <th></th>\n",
       "      <th>year_index</th>\n",
       "      <th>num_critic_for_reviews</th>\n",
       "      <th>duration</th>\n",
       "      <th>director_facebook_likes</th>\n",
       "      <th>actor_3_facebook_likes</th>\n",
       "      <th>actor_1_facebook_likes</th>\n",
       "      <th>gross</th>\n",
       "      <th>genres</th>\n",
       "      <th>movie_title</th>\n",
       "      <th>num_voted_users</th>\n",
       "      <th>...</th>\n",
       "      <th>content_rating</th>\n",
       "      <th>budget</th>\n",
       "      <th>title_year</th>\n",
       "      <th>actor_2_facebook_likes</th>\n",
       "      <th>imdb_score</th>\n",
       "      <th>movie_facebook_likes</th>\n",
       "      <th>profit</th>\n",
       "      <th>foreign_film</th>\n",
       "      <th>origin</th>\n",
       "      <th>origin_language</th>\n",
       "    </tr>\n",
       "  </thead>\n",
       "  <tbody>\n",
       "    <tr>\n",
       "      <th>0</th>\n",
       "      <td>2009-01-01</td>\n",
       "      <td>723.0</td>\n",
       "      <td>178.0</td>\n",
       "      <td>0.0</td>\n",
       "      <td>855.0</td>\n",
       "      <td>1000.0</td>\n",
       "      <td>760505847.0</td>\n",
       "      <td>Action|Adventure|Fantasy|Sci-Fi</td>\n",
       "      <td>Avatar</td>\n",
       "      <td>886204</td>\n",
       "      <td>...</td>\n",
       "      <td>PG-13</td>\n",
       "      <td>237000000.0</td>\n",
       "      <td>2009.0</td>\n",
       "      <td>936.0</td>\n",
       "      <td>7.9</td>\n",
       "      <td>33000</td>\n",
       "      <td>523505847.0</td>\n",
       "      <td>USA</td>\n",
       "      <td>American</td>\n",
       "      <td>English</td>\n",
       "    </tr>\n",
       "  </tbody>\n",
       "</table>\n",
       "<p>1 rows × 25 columns</p>\n",
       "</div>"
      ],
      "text/plain": [
       "   year_index  num_critic_for_reviews  duration  director_facebook_likes  \\\n",
       "0  2009-01-01                   723.0     178.0                      0.0   \n",
       "\n",
       "   actor_3_facebook_likes  actor_1_facebook_likes        gross  \\\n",
       "0                   855.0                  1000.0  760505847.0   \n",
       "\n",
       "                            genres movie_title  num_voted_users  ...  \\\n",
       "0  Action|Adventure|Fantasy|Sci-Fi     Avatar            886204  ...   \n",
       "\n",
       "   content_rating       budget  title_year actor_2_facebook_likes imdb_score  \\\n",
       "0           PG-13  237000000.0      2009.0                  936.0        7.9   \n",
       "\n",
       "  movie_facebook_likes       profit  foreign_film    origin  origin_language  \n",
       "0                33000  523505847.0           USA  American          English  \n",
       "\n",
       "[1 rows x 25 columns]"
      ]
     },
     "execution_count": 285,
     "metadata": {},
     "output_type": "execute_result"
    }
   ],
   "source": [
    "m3.head(1)"
   ]
  },
  {
   "cell_type": "code",
   "execution_count": 286,
   "metadata": {
    "slideshow": {
     "slide_type": "skip"
    }
   },
   "outputs": [
    {
     "name": "stdout",
     "output_type": "stream",
     "text": [
      "<class 'pandas.core.frame.DataFrame'>\n",
      "RangeIndex: 4614 entries, 0 to 4613\n",
      "Data columns (total 25 columns):\n",
      "year_index                   4614 non-null object\n",
      "num_critic_for_reviews       4614 non-null float64\n",
      "duration                     4614 non-null float64\n",
      "director_facebook_likes      4614 non-null float64\n",
      "actor_3_facebook_likes       4614 non-null float64\n",
      "actor_1_facebook_likes       4614 non-null float64\n",
      "gross                        4614 non-null float64\n",
      "genres                       4614 non-null object\n",
      "movie_title                  4614 non-null object\n",
      "num_voted_users              4614 non-null int64\n",
      "cast_total_facebook_likes    4614 non-null int64\n",
      "movie_imdb_link              4614 non-null object\n",
      "num_user_for_reviews         4614 non-null float64\n",
      "language                     4614 non-null object\n",
      "country                      4614 non-null object\n",
      "content_rating               4614 non-null object\n",
      "budget                       4614 non-null float64\n",
      "title_year                   4614 non-null float64\n",
      "actor_2_facebook_likes       4614 non-null float64\n",
      "imdb_score                   4614 non-null float64\n",
      "movie_facebook_likes         4614 non-null int64\n",
      "profit                       4614 non-null float64\n",
      "foreign_film                 4614 non-null object\n",
      "origin                       4614 non-null object\n",
      "origin_language              4614 non-null object\n",
      "dtypes: float64(12), int64(3), object(10)\n",
      "memory usage: 901.2+ KB\n"
     ]
    }
   ],
   "source": [
    "m3.info()"
   ]
  },
  {
   "cell_type": "code",
   "execution_count": 287,
   "metadata": {
    "slideshow": {
     "slide_type": "skip"
    }
   },
   "outputs": [
    {
     "data": {
      "text/html": [
       "<div>\n",
       "<style scoped>\n",
       "    .dataframe tbody tr th:only-of-type {\n",
       "        vertical-align: middle;\n",
       "    }\n",
       "\n",
       "    .dataframe tbody tr th {\n",
       "        vertical-align: top;\n",
       "    }\n",
       "\n",
       "    .dataframe thead th {\n",
       "        text-align: right;\n",
       "    }\n",
       "</style>\n",
       "<table border=\"1\" class=\"dataframe\">\n",
       "  <thead>\n",
       "    <tr style=\"text-align: right;\">\n",
       "      <th></th>\n",
       "      <th>year_index</th>\n",
       "      <th>num_critic_for_reviews</th>\n",
       "      <th>duration</th>\n",
       "      <th>director_facebook_likes</th>\n",
       "      <th>actor_3_facebook_likes</th>\n",
       "      <th>actor_1_facebook_likes</th>\n",
       "      <th>gross</th>\n",
       "      <th>genres</th>\n",
       "      <th>movie_title</th>\n",
       "      <th>num_voted_users</th>\n",
       "      <th>...</th>\n",
       "      <th>country</th>\n",
       "      <th>content_rating</th>\n",
       "      <th>budget</th>\n",
       "      <th>actor_2_facebook_likes</th>\n",
       "      <th>imdb_score</th>\n",
       "      <th>movie_facebook_likes</th>\n",
       "      <th>profit</th>\n",
       "      <th>foreign_film</th>\n",
       "      <th>origin</th>\n",
       "      <th>origin_language</th>\n",
       "    </tr>\n",
       "  </thead>\n",
       "  <tbody>\n",
       "    <tr>\n",
       "      <th>0</th>\n",
       "      <td>2009-01-01</td>\n",
       "      <td>723.0</td>\n",
       "      <td>178.0</td>\n",
       "      <td>0.0</td>\n",
       "      <td>855.0</td>\n",
       "      <td>1000.0</td>\n",
       "      <td>760505847.0</td>\n",
       "      <td>Action|Adventure|Fantasy|Sci-Fi</td>\n",
       "      <td>Avatar</td>\n",
       "      <td>886204</td>\n",
       "      <td>...</td>\n",
       "      <td>USA</td>\n",
       "      <td>PG-13</td>\n",
       "      <td>237000000.0</td>\n",
       "      <td>936.0</td>\n",
       "      <td>7.9</td>\n",
       "      <td>33000</td>\n",
       "      <td>523505847.0</td>\n",
       "      <td>USA</td>\n",
       "      <td>American</td>\n",
       "      <td>English</td>\n",
       "    </tr>\n",
       "    <tr>\n",
       "      <th>1</th>\n",
       "      <td>2007-01-01</td>\n",
       "      <td>302.0</td>\n",
       "      <td>169.0</td>\n",
       "      <td>563.0</td>\n",
       "      <td>1000.0</td>\n",
       "      <td>40000.0</td>\n",
       "      <td>309404152.0</td>\n",
       "      <td>Action|Adventure|Fantasy</td>\n",
       "      <td>Pirates of the Caribbean: At World's End</td>\n",
       "      <td>471220</td>\n",
       "      <td>...</td>\n",
       "      <td>USA</td>\n",
       "      <td>PG-13</td>\n",
       "      <td>300000000.0</td>\n",
       "      <td>5000.0</td>\n",
       "      <td>7.1</td>\n",
       "      <td>0</td>\n",
       "      <td>9404152.0</td>\n",
       "      <td>USA</td>\n",
       "      <td>American</td>\n",
       "      <td>English</td>\n",
       "    </tr>\n",
       "  </tbody>\n",
       "</table>\n",
       "<p>2 rows × 23 columns</p>\n",
       "</div>"
      ],
      "text/plain": [
       "   year_index  num_critic_for_reviews  duration  director_facebook_likes  \\\n",
       "0  2009-01-01                   723.0     178.0                      0.0   \n",
       "1  2007-01-01                   302.0     169.0                    563.0   \n",
       "\n",
       "   actor_3_facebook_likes  actor_1_facebook_likes        gross  \\\n",
       "0                   855.0                  1000.0  760505847.0   \n",
       "1                  1000.0                 40000.0  309404152.0   \n",
       "\n",
       "                            genres                                movie_title  \\\n",
       "0  Action|Adventure|Fantasy|Sci-Fi                                    Avatar    \n",
       "1         Action|Adventure|Fantasy  Pirates of the Caribbean: At World's End    \n",
       "\n",
       "   num_voted_users  ...  country  content_rating       budget  \\\n",
       "0           886204  ...      USA           PG-13  237000000.0   \n",
       "1           471220  ...      USA           PG-13  300000000.0   \n",
       "\n",
       "  actor_2_facebook_likes imdb_score  movie_facebook_likes       profit  \\\n",
       "0                  936.0        7.9                 33000  523505847.0   \n",
       "1                 5000.0        7.1                     0    9404152.0   \n",
       "\n",
       "   foreign_film    origin  origin_language  \n",
       "0           USA  American          English  \n",
       "1           USA  American          English  \n",
       "\n",
       "[2 rows x 23 columns]"
      ]
     },
     "execution_count": 287,
     "metadata": {},
     "output_type": "execute_result"
    }
   ],
   "source": [
    "# drop extraneous columns\n",
    "m3 = m3.drop(['movie_imdb_link','title_year'], axis=1)\n",
    "\n",
    "# simplify column names\n",
    "# m2.rename(columns={'num_user_for_reviews': 'reviewers', 'content_rating': 'rating','year_index': 'yearindex','director_name': 'director', 'num_critic_for_reviews': 'critical', 'movie_title': 'title','num_voted_users': 'votedusers', 'cast_total_facebook_likes': 'castfacebook','imdb_score': 'score', 'origin_language': 'originlanguage','foreign_film': 'foreign','movie_facebook_likes': 'facebook','num_user_for_reviews': 'reviewers', 'content_rating': 'rating'}, inplace=True)\n",
    "\n",
    "\n",
    "m3.head(2)"
   ]
  },
  {
   "cell_type": "code",
   "execution_count": 288,
   "metadata": {
    "slideshow": {
     "slide_type": "slide"
    }
   },
   "outputs": [],
   "source": [
    "m3['score_quads'] = pd.qcut(m3['imdb_score'], 4, labels=['1', '2', '3', '4'])\n"
   ]
  },
  {
   "cell_type": "code",
   "execution_count": 289,
   "metadata": {
    "slideshow": {
     "slide_type": "skip"
    }
   },
   "outputs": [],
   "source": [
    "### Categorical Transformations:  rating, origin, language"
   ]
  },
  {
   "cell_type": "code",
   "execution_count": 290,
   "metadata": {
    "slideshow": {
     "slide_type": "skip"
    }
   },
   "outputs": [
    {
     "data": {
      "text/plain": [
       "Index(['year_index', 'num_critic_for_reviews', 'duration',\n",
       "       'director_facebook_likes', 'actor_3_facebook_likes',\n",
       "       'actor_1_facebook_likes', 'gross', 'genres', 'movie_title',\n",
       "       'num_voted_users', 'cast_total_facebook_likes', 'num_user_for_reviews',\n",
       "       'language', 'country', 'content_rating', 'budget',\n",
       "       'actor_2_facebook_likes', 'imdb_score', 'movie_facebook_likes',\n",
       "       'profit', 'foreign_film', 'origin', 'origin_language', 'score_quads'],\n",
       "      dtype='object')"
      ]
     },
     "execution_count": 290,
     "metadata": {},
     "output_type": "execute_result"
    }
   ],
   "source": [
    "m3.columns"
   ]
  },
  {
   "cell_type": "code",
   "execution_count": 291,
   "metadata": {
    "slideshow": {
     "slide_type": "skip"
    }
   },
   "outputs": [
    {
     "data": {
      "text/html": [
       "<div>\n",
       "<style scoped>\n",
       "    .dataframe tbody tr th:only-of-type {\n",
       "        vertical-align: middle;\n",
       "    }\n",
       "\n",
       "    .dataframe tbody tr th {\n",
       "        vertical-align: top;\n",
       "    }\n",
       "\n",
       "    .dataframe thead th {\n",
       "        text-align: right;\n",
       "    }\n",
       "</style>\n",
       "<table border=\"1\" class=\"dataframe\">\n",
       "  <thead>\n",
       "    <tr style=\"text-align: right;\">\n",
       "      <th></th>\n",
       "      <th>year_index</th>\n",
       "      <th>num_critic_for_reviews</th>\n",
       "      <th>duration</th>\n",
       "      <th>director_facebook_likes</th>\n",
       "      <th>actor_3_facebook_likes</th>\n",
       "      <th>actor_1_facebook_likes</th>\n",
       "      <th>gross</th>\n",
       "      <th>genres</th>\n",
       "      <th>movie_title</th>\n",
       "      <th>num_voted_users</th>\n",
       "      <th>...</th>\n",
       "      <th>country</th>\n",
       "      <th>content_rating</th>\n",
       "      <th>budget</th>\n",
       "      <th>actor_2_facebook_likes</th>\n",
       "      <th>imdb_score</th>\n",
       "      <th>movie_facebook_likes</th>\n",
       "      <th>profit</th>\n",
       "      <th>foreign_film</th>\n",
       "      <th>origin_language</th>\n",
       "      <th>score_quads</th>\n",
       "    </tr>\n",
       "    <tr>\n",
       "      <th>origin</th>\n",
       "      <th></th>\n",
       "      <th></th>\n",
       "      <th></th>\n",
       "      <th></th>\n",
       "      <th></th>\n",
       "      <th></th>\n",
       "      <th></th>\n",
       "      <th></th>\n",
       "      <th></th>\n",
       "      <th></th>\n",
       "      <th></th>\n",
       "      <th></th>\n",
       "      <th></th>\n",
       "      <th></th>\n",
       "      <th></th>\n",
       "      <th></th>\n",
       "      <th></th>\n",
       "      <th></th>\n",
       "      <th></th>\n",
       "      <th></th>\n",
       "      <th></th>\n",
       "    </tr>\n",
       "  </thead>\n",
       "  <tbody>\n",
       "    <tr>\n",
       "      <th>American</th>\n",
       "      <td>3560</td>\n",
       "      <td>3560</td>\n",
       "      <td>3560</td>\n",
       "      <td>3560</td>\n",
       "      <td>3560</td>\n",
       "      <td>3560</td>\n",
       "      <td>3560</td>\n",
       "      <td>3560</td>\n",
       "      <td>3560</td>\n",
       "      <td>3560</td>\n",
       "      <td>...</td>\n",
       "      <td>3560</td>\n",
       "      <td>3560</td>\n",
       "      <td>3560</td>\n",
       "      <td>3560</td>\n",
       "      <td>3560</td>\n",
       "      <td>3560</td>\n",
       "      <td>3560</td>\n",
       "      <td>3560</td>\n",
       "      <td>3560</td>\n",
       "      <td>3560</td>\n",
       "    </tr>\n",
       "    <tr>\n",
       "      <th>Foreign</th>\n",
       "      <td>1054</td>\n",
       "      <td>1054</td>\n",
       "      <td>1054</td>\n",
       "      <td>1054</td>\n",
       "      <td>1054</td>\n",
       "      <td>1054</td>\n",
       "      <td>1054</td>\n",
       "      <td>1054</td>\n",
       "      <td>1054</td>\n",
       "      <td>1054</td>\n",
       "      <td>...</td>\n",
       "      <td>1054</td>\n",
       "      <td>1054</td>\n",
       "      <td>1054</td>\n",
       "      <td>1054</td>\n",
       "      <td>1054</td>\n",
       "      <td>1054</td>\n",
       "      <td>1054</td>\n",
       "      <td>1054</td>\n",
       "      <td>1054</td>\n",
       "      <td>1054</td>\n",
       "    </tr>\n",
       "  </tbody>\n",
       "</table>\n",
       "<p>2 rows × 23 columns</p>\n",
       "</div>"
      ],
      "text/plain": [
       "          year_index  num_critic_for_reviews  duration  \\\n",
       "origin                                                   \n",
       "American        3560                    3560      3560   \n",
       "Foreign         1054                    1054      1054   \n",
       "\n",
       "          director_facebook_likes  actor_3_facebook_likes  \\\n",
       "origin                                                      \n",
       "American                     3560                    3560   \n",
       "Foreign                      1054                    1054   \n",
       "\n",
       "          actor_1_facebook_likes  gross  genres  movie_title  num_voted_users  \\\n",
       "origin                                                                          \n",
       "American                    3560   3560    3560         3560             3560   \n",
       "Foreign                     1054   1054    1054         1054             1054   \n",
       "\n",
       "          ...  country  content_rating  budget  actor_2_facebook_likes  \\\n",
       "origin    ...                                                            \n",
       "American  ...     3560            3560    3560                    3560   \n",
       "Foreign   ...     1054            1054    1054                    1054   \n",
       "\n",
       "          imdb_score  movie_facebook_likes  profit  foreign_film  \\\n",
       "origin                                                             \n",
       "American        3560                  3560    3560          3560   \n",
       "Foreign         1054                  1054    1054          1054   \n",
       "\n",
       "          origin_language  score_quads  \n",
       "origin                                  \n",
       "American             3560         3560  \n",
       "Foreign              1054         1054  \n",
       "\n",
       "[2 rows x 23 columns]"
      ]
     },
     "execution_count": 291,
     "metadata": {},
     "output_type": "execute_result"
    }
   ],
   "source": [
    "m3.groupby('origin').count()"
   ]
  },
  {
   "cell_type": "code",
   "execution_count": 292,
   "metadata": {
    "slideshow": {
     "slide_type": "skip"
    }
   },
   "outputs": [
    {
     "data": {
      "text/html": [
       "<div>\n",
       "<style scoped>\n",
       "    .dataframe tbody tr th:only-of-type {\n",
       "        vertical-align: middle;\n",
       "    }\n",
       "\n",
       "    .dataframe tbody tr th {\n",
       "        vertical-align: top;\n",
       "    }\n",
       "\n",
       "    .dataframe thead th {\n",
       "        text-align: right;\n",
       "    }\n",
       "</style>\n",
       "<table border=\"1\" class=\"dataframe\">\n",
       "  <thead>\n",
       "    <tr style=\"text-align: right;\">\n",
       "      <th></th>\n",
       "      <th>year_index</th>\n",
       "      <th>num_critic_for_reviews</th>\n",
       "      <th>duration</th>\n",
       "      <th>director_facebook_likes</th>\n",
       "      <th>actor_3_facebook_likes</th>\n",
       "      <th>actor_1_facebook_likes</th>\n",
       "      <th>gross</th>\n",
       "      <th>genres</th>\n",
       "      <th>movie_title</th>\n",
       "      <th>num_voted_users</th>\n",
       "      <th>...</th>\n",
       "      <th>country</th>\n",
       "      <th>content_rating</th>\n",
       "      <th>budget</th>\n",
       "      <th>actor_2_facebook_likes</th>\n",
       "      <th>imdb_score</th>\n",
       "      <th>movie_facebook_likes</th>\n",
       "      <th>profit</th>\n",
       "      <th>foreign_film</th>\n",
       "      <th>origin</th>\n",
       "      <th>score_quads</th>\n",
       "    </tr>\n",
       "    <tr>\n",
       "      <th>origin_language</th>\n",
       "      <th></th>\n",
       "      <th></th>\n",
       "      <th></th>\n",
       "      <th></th>\n",
       "      <th></th>\n",
       "      <th></th>\n",
       "      <th></th>\n",
       "      <th></th>\n",
       "      <th></th>\n",
       "      <th></th>\n",
       "      <th></th>\n",
       "      <th></th>\n",
       "      <th></th>\n",
       "      <th></th>\n",
       "      <th></th>\n",
       "      <th></th>\n",
       "      <th></th>\n",
       "      <th></th>\n",
       "      <th></th>\n",
       "      <th></th>\n",
       "      <th></th>\n",
       "    </tr>\n",
       "  </thead>\n",
       "  <tbody>\n",
       "    <tr>\n",
       "      <th>English</th>\n",
       "      <td>4388</td>\n",
       "      <td>4388</td>\n",
       "      <td>4388</td>\n",
       "      <td>4388</td>\n",
       "      <td>4388</td>\n",
       "      <td>4388</td>\n",
       "      <td>4388</td>\n",
       "      <td>4388</td>\n",
       "      <td>4388</td>\n",
       "      <td>4388</td>\n",
       "      <td>...</td>\n",
       "      <td>4388</td>\n",
       "      <td>4388</td>\n",
       "      <td>4388</td>\n",
       "      <td>4388</td>\n",
       "      <td>4388</td>\n",
       "      <td>4388</td>\n",
       "      <td>4388</td>\n",
       "      <td>4388</td>\n",
       "      <td>4388</td>\n",
       "      <td>4388</td>\n",
       "    </tr>\n",
       "    <tr>\n",
       "      <th>Foreign</th>\n",
       "      <td>226</td>\n",
       "      <td>226</td>\n",
       "      <td>226</td>\n",
       "      <td>226</td>\n",
       "      <td>226</td>\n",
       "      <td>226</td>\n",
       "      <td>226</td>\n",
       "      <td>226</td>\n",
       "      <td>226</td>\n",
       "      <td>226</td>\n",
       "      <td>...</td>\n",
       "      <td>226</td>\n",
       "      <td>226</td>\n",
       "      <td>226</td>\n",
       "      <td>226</td>\n",
       "      <td>226</td>\n",
       "      <td>226</td>\n",
       "      <td>226</td>\n",
       "      <td>226</td>\n",
       "      <td>226</td>\n",
       "      <td>226</td>\n",
       "    </tr>\n",
       "  </tbody>\n",
       "</table>\n",
       "<p>2 rows × 23 columns</p>\n",
       "</div>"
      ],
      "text/plain": [
       "                 year_index  num_critic_for_reviews  duration  \\\n",
       "origin_language                                                 \n",
       "English                4388                    4388      4388   \n",
       "Foreign                 226                     226       226   \n",
       "\n",
       "                 director_facebook_likes  actor_3_facebook_likes  \\\n",
       "origin_language                                                    \n",
       "English                             4388                    4388   \n",
       "Foreign                              226                     226   \n",
       "\n",
       "                 actor_1_facebook_likes  gross  genres  movie_title  \\\n",
       "origin_language                                                       \n",
       "English                            4388   4388    4388         4388   \n",
       "Foreign                             226    226     226          226   \n",
       "\n",
       "                 num_voted_users  ...  country  content_rating  budget  \\\n",
       "origin_language                   ...                                    \n",
       "English                     4388  ...     4388            4388    4388   \n",
       "Foreign                      226  ...      226             226     226   \n",
       "\n",
       "                 actor_2_facebook_likes  imdb_score  movie_facebook_likes  \\\n",
       "origin_language                                                             \n",
       "English                            4388        4388                  4388   \n",
       "Foreign                             226         226                   226   \n",
       "\n",
       "                 profit  foreign_film  origin  score_quads  \n",
       "origin_language                                             \n",
       "English            4388          4388    4388         4388  \n",
       "Foreign             226           226     226          226  \n",
       "\n",
       "[2 rows x 23 columns]"
      ]
     },
     "execution_count": 292,
     "metadata": {},
     "output_type": "execute_result"
    }
   ],
   "source": [
    "m3.groupby('origin_language').count()"
   ]
  },
  {
   "cell_type": "code",
   "execution_count": 293,
   "metadata": {
    "slideshow": {
     "slide_type": "skip"
    }
   },
   "outputs": [],
   "source": [
    "# Tranform ratings into categorical values"
   ]
  },
  {
   "cell_type": "code",
   "execution_count": 294,
   "metadata": {
    "slideshow": {
     "slide_type": "skip"
    }
   },
   "outputs": [
    {
     "data": {
      "text/plain": [
       "content_rating\n",
       "R            2089\n",
       "PG-13        1441\n",
       "PG            694\n",
       "Not Rated     113\n",
       "G             112\n",
       "Unrated        60\n",
       "Approved       55\n",
       "X              13\n",
       "Passed          9\n",
       "NC-17           7\n",
       "GP              6\n",
       "M               5\n",
       "TV-G            4\n",
       "TV-PG           3\n",
       "TV-14           3\n",
       "dtype: int64"
      ]
     },
     "execution_count": 294,
     "metadata": {},
     "output_type": "execute_result"
    }
   ],
   "source": [
    "m3.groupby('content_rating').size().sort_values(ascending=False)\n",
    "\n"
   ]
  },
  {
   "cell_type": "code",
   "execution_count": 295,
   "metadata": {
    "scrolled": false,
    "slideshow": {
     "slide_type": "skip"
    }
   },
   "outputs": [
    {
     "data": {
      "text/html": [
       "<div>\n",
       "<style scoped>\n",
       "    .dataframe tbody tr th:only-of-type {\n",
       "        vertical-align: middle;\n",
       "    }\n",
       "\n",
       "    .dataframe tbody tr th {\n",
       "        vertical-align: top;\n",
       "    }\n",
       "\n",
       "    .dataframe thead th {\n",
       "        text-align: right;\n",
       "    }\n",
       "</style>\n",
       "<table border=\"1\" class=\"dataframe\">\n",
       "  <thead>\n",
       "    <tr style=\"text-align: right;\">\n",
       "      <th></th>\n",
       "      <th>year_index</th>\n",
       "      <th>num_critic_for_reviews</th>\n",
       "      <th>duration</th>\n",
       "      <th>director_facebook_likes</th>\n",
       "      <th>actor_3_facebook_likes</th>\n",
       "      <th>actor_1_facebook_likes</th>\n",
       "      <th>gross</th>\n",
       "      <th>genres</th>\n",
       "      <th>movie_title</th>\n",
       "      <th>num_voted_users</th>\n",
       "      <th>...</th>\n",
       "      <th>content_rating</th>\n",
       "      <th>budget</th>\n",
       "      <th>actor_2_facebook_likes</th>\n",
       "      <th>imdb_score</th>\n",
       "      <th>movie_facebook_likes</th>\n",
       "      <th>profit</th>\n",
       "      <th>foreign_film</th>\n",
       "      <th>origin</th>\n",
       "      <th>origin_language</th>\n",
       "      <th>score_quads</th>\n",
       "    </tr>\n",
       "  </thead>\n",
       "  <tbody>\n",
       "    <tr>\n",
       "      <th>2624</th>\n",
       "      <td>1927-01-01</td>\n",
       "      <td>260.0</td>\n",
       "      <td>145.0</td>\n",
       "      <td>756.0</td>\n",
       "      <td>18.0</td>\n",
       "      <td>136.0</td>\n",
       "      <td>26435.0</td>\n",
       "      <td>Drama|Sci-Fi</td>\n",
       "      <td>Metropolis</td>\n",
       "      <td>111841</td>\n",
       "      <td>...</td>\n",
       "      <td>Not Rated</td>\n",
       "      <td>6000000.0</td>\n",
       "      <td>23.0</td>\n",
       "      <td>8.3</td>\n",
       "      <td>12000</td>\n",
       "      <td>-5973565.0</td>\n",
       "      <td>Germany</td>\n",
       "      <td>Foreign</td>\n",
       "      <td>Foreign</td>\n",
       "      <td>4</td>\n",
       "    </tr>\n",
       "    <tr>\n",
       "      <th>4342</th>\n",
       "      <td>1929-01-01</td>\n",
       "      <td>71.0</td>\n",
       "      <td>110.0</td>\n",
       "      <td>21.0</td>\n",
       "      <td>3.0</td>\n",
       "      <td>426.0</td>\n",
       "      <td>9950.0</td>\n",
       "      <td>Crime|Drama|Romance</td>\n",
       "      <td>Pandora's Box</td>\n",
       "      <td>7431</td>\n",
       "      <td>...</td>\n",
       "      <td>Not Rated</td>\n",
       "      <td>39752620.0</td>\n",
       "      <td>20.0</td>\n",
       "      <td>8.0</td>\n",
       "      <td>926</td>\n",
       "      <td>-39742670.0</td>\n",
       "      <td>Germany</td>\n",
       "      <td>Foreign</td>\n",
       "      <td>Foreign</td>\n",
       "      <td>4</td>\n",
       "    </tr>\n",
       "    <tr>\n",
       "      <th>4133</th>\n",
       "      <td>1939-01-01</td>\n",
       "      <td>96.0</td>\n",
       "      <td>120.0</td>\n",
       "      <td>964.0</td>\n",
       "      <td>248.0</td>\n",
       "      <td>607.0</td>\n",
       "      <td>48468407.0</td>\n",
       "      <td>Comedy|Drama</td>\n",
       "      <td>Mr. Smith Goes to Washington</td>\n",
       "      <td>77392</td>\n",
       "      <td>...</td>\n",
       "      <td>Not Rated</td>\n",
       "      <td>1500000.0</td>\n",
       "      <td>319.0</td>\n",
       "      <td>8.2</td>\n",
       "      <td>0</td>\n",
       "      <td>46968407.0</td>\n",
       "      <td>USA</td>\n",
       "      <td>American</td>\n",
       "      <td>English</td>\n",
       "      <td>4</td>\n",
       "    </tr>\n",
       "    <tr>\n",
       "      <th>4190</th>\n",
       "      <td>1940-01-01</td>\n",
       "      <td>144.0</td>\n",
       "      <td>130.0</td>\n",
       "      <td>13000.0</td>\n",
       "      <td>333.0</td>\n",
       "      <td>1000.0</td>\n",
       "      <td>48468407.0</td>\n",
       "      <td>Drama|Film-Noir|Mystery|Thriller</td>\n",
       "      <td>Rebecca</td>\n",
       "      <td>87424</td>\n",
       "      <td>...</td>\n",
       "      <td>Not Rated</td>\n",
       "      <td>1288000.0</td>\n",
       "      <td>991.0</td>\n",
       "      <td>8.2</td>\n",
       "      <td>0</td>\n",
       "      <td>47180407.0</td>\n",
       "      <td>USA</td>\n",
       "      <td>American</td>\n",
       "      <td>English</td>\n",
       "      <td>4</td>\n",
       "    </tr>\n",
       "    <tr>\n",
       "      <th>4192</th>\n",
       "      <td>1945-01-01</td>\n",
       "      <td>97.0</td>\n",
       "      <td>101.0</td>\n",
       "      <td>0.0</td>\n",
       "      <td>66.0</td>\n",
       "      <td>287.0</td>\n",
       "      <td>48468407.0</td>\n",
       "      <td>Drama|Film-Noir</td>\n",
       "      <td>The Lost Weekend</td>\n",
       "      <td>24959</td>\n",
       "      <td>...</td>\n",
       "      <td>Not Rated</td>\n",
       "      <td>1250000.0</td>\n",
       "      <td>160.0</td>\n",
       "      <td>8.0</td>\n",
       "      <td>0</td>\n",
       "      <td>47218407.0</td>\n",
       "      <td>USA</td>\n",
       "      <td>American</td>\n",
       "      <td>English</td>\n",
       "      <td>4</td>\n",
       "    </tr>\n",
       "  </tbody>\n",
       "</table>\n",
       "<p>5 rows × 24 columns</p>\n",
       "</div>"
      ],
      "text/plain": [
       "      year_index  num_critic_for_reviews  duration  director_facebook_likes  \\\n",
       "2624  1927-01-01                   260.0     145.0                    756.0   \n",
       "4342  1929-01-01                    71.0     110.0                     21.0   \n",
       "4133  1939-01-01                    96.0     120.0                    964.0   \n",
       "4190  1940-01-01                   144.0     130.0                  13000.0   \n",
       "4192  1945-01-01                    97.0     101.0                      0.0   \n",
       "\n",
       "      actor_3_facebook_likes  actor_1_facebook_likes       gross  \\\n",
       "2624                    18.0                   136.0     26435.0   \n",
       "4342                     3.0                   426.0      9950.0   \n",
       "4133                   248.0                   607.0  48468407.0   \n",
       "4190                   333.0                  1000.0  48468407.0   \n",
       "4192                    66.0                   287.0  48468407.0   \n",
       "\n",
       "                                genres                    movie_title  \\\n",
       "2624                      Drama|Sci-Fi                    Metropolis    \n",
       "4342               Crime|Drama|Romance                 Pandora's Box    \n",
       "4133                      Comedy|Drama  Mr. Smith Goes to Washington    \n",
       "4190  Drama|Film-Noir|Mystery|Thriller                       Rebecca    \n",
       "4192                   Drama|Film-Noir              The Lost Weekend    \n",
       "\n",
       "      num_voted_users  ...  content_rating      budget actor_2_facebook_likes  \\\n",
       "2624           111841  ...       Not Rated   6000000.0                   23.0   \n",
       "4342             7431  ...       Not Rated  39752620.0                   20.0   \n",
       "4133            77392  ...       Not Rated   1500000.0                  319.0   \n",
       "4190            87424  ...       Not Rated   1288000.0                  991.0   \n",
       "4192            24959  ...       Not Rated   1250000.0                  160.0   \n",
       "\n",
       "     imdb_score movie_facebook_likes      profit  foreign_film    origin  \\\n",
       "2624        8.3                12000  -5973565.0       Germany   Foreign   \n",
       "4342        8.0                  926 -39742670.0       Germany   Foreign   \n",
       "4133        8.2                    0  46968407.0           USA  American   \n",
       "4190        8.2                    0  47180407.0           USA  American   \n",
       "4192        8.0                    0  47218407.0           USA  American   \n",
       "\n",
       "      origin_language  score_quads  \n",
       "2624          Foreign            4  \n",
       "4342          Foreign            4  \n",
       "4133          English            4  \n",
       "4190          English            4  \n",
       "4192          English            4  \n",
       "\n",
       "[5 rows x 24 columns]"
      ]
     },
     "execution_count": 295,
     "metadata": {},
     "output_type": "execute_result"
    }
   ],
   "source": [
    "m3[(m3['content_rating'] == 'Not Rated')].sort_values('year_index').head()\n",
    "\n",
    "# Approved movies timeframe 1933-1967\n",
    "# Passed movies timeframe 1921-1951\n",
    "# GP timeframe 1969 to 1972\n",
    "# M timeframe 1967-1969\n",
    "# TV-G 1965-2012(Notably High School Musical 1 and 2)\n",
    "# TV-PG 2010-2011\n",
    "# TV-14 2010-2015(Notably Sharknado)\n",
    "\n",
    "# Drop all records TV-G,PG,14 and Passed, Approved, GP, and M\n",
    "# Combine Unrated and Not Rated\n",
    "\n",
    "\n",
    "\n",
    "\n"
   ]
  },
  {
   "cell_type": "code",
   "execution_count": 296,
   "metadata": {
    "slideshow": {
     "slide_type": "skip"
    }
   },
   "outputs": [],
   "source": [
    "m3 = m3[(m3['content_rating'] != 'Approved' )]"
   ]
  },
  {
   "cell_type": "code",
   "execution_count": 297,
   "metadata": {
    "slideshow": {
     "slide_type": "skip"
    }
   },
   "outputs": [],
   "source": [
    "m3 = m3[(m3['content_rating'] != 'Passed' )]\n",
    "m3 = m3[(m3['content_rating'] != 'TV-G' )]\n",
    "m3 = m3[(m3['content_rating'] != 'TV-PG' )]\n",
    "m3 = m3[(m3['content_rating'] != 'TV-14')]\n",
    "m3 = m3[(m3['content_rating'] != 'M')]\n",
    "m3 = m3[(m3['content_rating'] != 'GP')]"
   ]
  },
  {
   "cell_type": "code",
   "execution_count": 298,
   "metadata": {
    "slideshow": {
     "slide_type": "slide"
    }
   },
   "outputs": [
    {
     "data": {
      "text/plain": [
       "content_rating\n",
       "R            2089\n",
       "PG-13        1441\n",
       "PG            694\n",
       "Not Rated     113\n",
       "G             112\n",
       "Unrated        60\n",
       "X              13\n",
       "NC-17           7\n",
       "dtype: int64"
      ]
     },
     "execution_count": 298,
     "metadata": {},
     "output_type": "execute_result"
    }
   ],
   "source": [
    "m3.groupby('content_rating').size().sort_values(ascending=False)\n"
   ]
  },
  {
   "cell_type": "code",
   "execution_count": 299,
   "metadata": {
    "slideshow": {
     "slide_type": "skip"
    }
   },
   "outputs": [
    {
     "name": "stdout",
     "output_type": "stream",
     "text": [
      "<class 'pandas.core.frame.DataFrame'>\n",
      "Int64Index: 4529 entries, 0 to 4613\n",
      "Data columns (total 24 columns):\n",
      "year_index                   4529 non-null object\n",
      "num_critic_for_reviews       4529 non-null float64\n",
      "duration                     4529 non-null float64\n",
      "director_facebook_likes      4529 non-null float64\n",
      "actor_3_facebook_likes       4529 non-null float64\n",
      "actor_1_facebook_likes       4529 non-null float64\n",
      "gross                        4529 non-null float64\n",
      "genres                       4529 non-null object\n",
      "movie_title                  4529 non-null object\n",
      "num_voted_users              4529 non-null int64\n",
      "cast_total_facebook_likes    4529 non-null int64\n",
      "num_user_for_reviews         4529 non-null float64\n",
      "language                     4529 non-null object\n",
      "country                      4529 non-null object\n",
      "content_rating               4529 non-null object\n",
      "budget                       4529 non-null float64\n",
      "actor_2_facebook_likes       4529 non-null float64\n",
      "imdb_score                   4529 non-null float64\n",
      "movie_facebook_likes         4529 non-null int64\n",
      "profit                       4529 non-null float64\n",
      "foreign_film                 4529 non-null object\n",
      "origin                       4529 non-null object\n",
      "origin_language              4529 non-null object\n",
      "score_quads                  4529 non-null category\n",
      "dtypes: category(1), float64(11), int64(3), object(9)\n",
      "memory usage: 853.8+ KB\n"
     ]
    }
   ],
   "source": [
    "# Set dataframe for regression analysis\n",
    "m3Regression = m3\n",
    "m3Regression.info()"
   ]
  },
  {
   "cell_type": "code",
   "execution_count": 300,
   "metadata": {
    "slideshow": {
     "slide_type": "skip"
    }
   },
   "outputs": [],
   "source": [
    "# Set dataframe from classification analysis by creating dummy variables for rating, origin, and originlanguage values\n",
    "\n",
    "m3 =  pd.get_dummies(m3, columns=[\"content_rating\", \"origin\", \"origin_language\"],\n",
    "                         prefix=[\"rating\", \"origin\", \"originlang\"], drop_first=True)"
   ]
  },
  {
   "cell_type": "markdown",
   "metadata": {
    "slideshow": {
     "slide_type": "slide"
    }
   },
   "source": [
    "# Correlation Analysis\n",
    "\n",
    "- Two Dataframes developed: \n",
    "    - m3:  Comprehensive dataframe with dummy variables and categorical IMDB scores\n",
    "    - m3Regression:  Dataframe without dummy variables and continous IMDB scores\n"
   ]
  },
  {
   "cell_type": "code",
   "execution_count": 301,
   "metadata": {
    "slideshow": {
     "slide_type": "skip"
    }
   },
   "outputs": [
    {
     "name": "stdout",
     "output_type": "stream",
     "text": [
      "<class 'pandas.core.frame.DataFrame'>\n",
      "Int64Index: 4529 entries, 0 to 4613\n",
      "Data columns (total 30 columns):\n",
      "year_index                   4529 non-null object\n",
      "num_critic_for_reviews       4529 non-null float64\n",
      "duration                     4529 non-null float64\n",
      "director_facebook_likes      4529 non-null float64\n",
      "actor_3_facebook_likes       4529 non-null float64\n",
      "actor_1_facebook_likes       4529 non-null float64\n",
      "gross                        4529 non-null float64\n",
      "genres                       4529 non-null object\n",
      "movie_title                  4529 non-null object\n",
      "num_voted_users              4529 non-null int64\n",
      "cast_total_facebook_likes    4529 non-null int64\n",
      "num_user_for_reviews         4529 non-null float64\n",
      "language                     4529 non-null object\n",
      "country                      4529 non-null object\n",
      "budget                       4529 non-null float64\n",
      "actor_2_facebook_likes       4529 non-null float64\n",
      "imdb_score                   4529 non-null float64\n",
      "movie_facebook_likes         4529 non-null int64\n",
      "profit                       4529 non-null float64\n",
      "foreign_film                 4529 non-null object\n",
      "score_quads                  4529 non-null category\n",
      "rating_NC-17                 4529 non-null uint8\n",
      "rating_Not Rated             4529 non-null uint8\n",
      "rating_PG                    4529 non-null uint8\n",
      "rating_PG-13                 4529 non-null uint8\n",
      "rating_R                     4529 non-null uint8\n",
      "rating_Unrated               4529 non-null uint8\n",
      "rating_X                     4529 non-null uint8\n",
      "origin_Foreign               4529 non-null uint8\n",
      "originlang_Foreign           4529 non-null uint8\n",
      "dtypes: category(1), float64(11), int64(3), object(6), uint8(9)\n",
      "memory usage: 787.5+ KB\n"
     ]
    }
   ],
   "source": [
    "m3.info()"
   ]
  },
  {
   "cell_type": "code",
   "execution_count": 302,
   "metadata": {
    "slideshow": {
     "slide_type": "slide"
    }
   },
   "outputs": [
    {
     "data": {
      "text/html": [
       "<div>\n",
       "<style scoped>\n",
       "    .dataframe tbody tr th:only-of-type {\n",
       "        vertical-align: middle;\n",
       "    }\n",
       "\n",
       "    .dataframe tbody tr th {\n",
       "        vertical-align: top;\n",
       "    }\n",
       "\n",
       "    .dataframe thead th {\n",
       "        text-align: right;\n",
       "    }\n",
       "</style>\n",
       "<table border=\"1\" class=\"dataframe\">\n",
       "  <thead>\n",
       "    <tr style=\"text-align: right;\">\n",
       "      <th></th>\n",
       "      <th>num_critic_for_reviews</th>\n",
       "      <th>duration</th>\n",
       "      <th>director_facebook_likes</th>\n",
       "      <th>actor_3_facebook_likes</th>\n",
       "      <th>actor_1_facebook_likes</th>\n",
       "      <th>gross</th>\n",
       "      <th>num_voted_users</th>\n",
       "      <th>cast_total_facebook_likes</th>\n",
       "      <th>num_user_for_reviews</th>\n",
       "      <th>budget</th>\n",
       "      <th>...</th>\n",
       "      <th>profit</th>\n",
       "      <th>rating_NC-17</th>\n",
       "      <th>rating_Not Rated</th>\n",
       "      <th>rating_PG</th>\n",
       "      <th>rating_PG-13</th>\n",
       "      <th>rating_R</th>\n",
       "      <th>rating_Unrated</th>\n",
       "      <th>rating_X</th>\n",
       "      <th>origin_Foreign</th>\n",
       "      <th>originlang_Foreign</th>\n",
       "    </tr>\n",
       "  </thead>\n",
       "  <tbody>\n",
       "    <tr>\n",
       "      <th>num_critic_for_reviews</th>\n",
       "      <td>1.000000</td>\n",
       "      <td>0.259948</td>\n",
       "      <td>0.179328</td>\n",
       "      <td>0.257717</td>\n",
       "      <td>0.189729</td>\n",
       "      <td>0.450114</td>\n",
       "      <td>0.613245</td>\n",
       "      <td>0.258498</td>\n",
       "      <td>0.592001</td>\n",
       "      <td>0.466323</td>\n",
       "      <td>...</td>\n",
       "      <td>0.200700</td>\n",
       "      <td>0.011068</td>\n",
       "      <td>-0.074137</td>\n",
       "      <td>-0.104880</td>\n",
       "      <td>0.133436</td>\n",
       "      <td>0.007639</td>\n",
       "      <td>-0.069360</td>\n",
       "      <td>-0.000691</td>\n",
       "      <td>-0.023177</td>\n",
       "      <td>-0.041052</td>\n",
       "    </tr>\n",
       "    <tr>\n",
       "      <th>duration</th>\n",
       "      <td>0.259948</td>\n",
       "      <td>1.000000</td>\n",
       "      <td>0.184439</td>\n",
       "      <td>0.132207</td>\n",
       "      <td>0.099726</td>\n",
       "      <td>0.249015</td>\n",
       "      <td>0.356991</td>\n",
       "      <td>0.136205</td>\n",
       "      <td>0.368067</td>\n",
       "      <td>0.293857</td>\n",
       "      <td>...</td>\n",
       "      <td>0.082272</td>\n",
       "      <td>-0.011780</td>\n",
       "      <td>-0.004879</td>\n",
       "      <td>-0.070421</td>\n",
       "      <td>0.087540</td>\n",
       "      <td>0.004263</td>\n",
       "      <td>-0.029558</td>\n",
       "      <td>-0.039140</td>\n",
       "      <td>0.032983</td>\n",
       "      <td>0.041306</td>\n",
       "    </tr>\n",
       "    <tr>\n",
       "      <th>director_facebook_likes</th>\n",
       "      <td>0.179328</td>\n",
       "      <td>0.184439</td>\n",
       "      <td>1.000000</td>\n",
       "      <td>0.122494</td>\n",
       "      <td>0.096364</td>\n",
       "      <td>0.140925</td>\n",
       "      <td>0.301537</td>\n",
       "      <td>0.125216</td>\n",
       "      <td>0.222726</td>\n",
       "      <td>0.098207</td>\n",
       "      <td>...</td>\n",
       "      <td>0.101153</td>\n",
       "      <td>-0.007508</td>\n",
       "      <td>-0.024884</td>\n",
       "      <td>0.008985</td>\n",
       "      <td>0.010050</td>\n",
       "      <td>0.006833</td>\n",
       "      <td>-0.014881</td>\n",
       "      <td>-0.011418</td>\n",
       "      <td>-0.081653</td>\n",
       "      <td>-0.030921</td>\n",
       "    </tr>\n",
       "    <tr>\n",
       "      <th>actor_3_facebook_likes</th>\n",
       "      <td>0.257717</td>\n",
       "      <td>0.132207</td>\n",
       "      <td>0.122494</td>\n",
       "      <td>1.000000</td>\n",
       "      <td>0.257009</td>\n",
       "      <td>0.286448</td>\n",
       "      <td>0.271807</td>\n",
       "      <td>0.484514</td>\n",
       "      <td>0.217470</td>\n",
       "      <td>0.268083</td>\n",
       "      <td>...</td>\n",
       "      <td>0.150716</td>\n",
       "      <td>-0.009029</td>\n",
       "      <td>-0.046372</td>\n",
       "      <td>0.004196</td>\n",
       "      <td>0.103417</td>\n",
       "      <td>-0.065636</td>\n",
       "      <td>-0.037377</td>\n",
       "      <td>-0.013660</td>\n",
       "      <td>-0.088107</td>\n",
       "      <td>-0.078177</td>\n",
       "    </tr>\n",
       "    <tr>\n",
       "      <th>actor_1_facebook_likes</th>\n",
       "      <td>0.189729</td>\n",
       "      <td>0.099726</td>\n",
       "      <td>0.096364</td>\n",
       "      <td>0.257009</td>\n",
       "      <td>1.000000</td>\n",
       "      <td>0.145959</td>\n",
       "      <td>0.194363</td>\n",
       "      <td>0.948373</td>\n",
       "      <td>0.143428</td>\n",
       "      <td>0.172231</td>\n",
       "      <td>...</td>\n",
       "      <td>0.048232</td>\n",
       "      <td>-0.006814</td>\n",
       "      <td>-0.061404</td>\n",
       "      <td>-0.017125</td>\n",
       "      <td>0.069776</td>\n",
       "      <td>-0.008649</td>\n",
       "      <td>-0.049947</td>\n",
       "      <td>-0.001600</td>\n",
       "      <td>-0.080113</td>\n",
       "      <td>-0.091933</td>\n",
       "    </tr>\n",
       "    <tr>\n",
       "      <th>gross</th>\n",
       "      <td>0.450114</td>\n",
       "      <td>0.249015</td>\n",
       "      <td>0.140925</td>\n",
       "      <td>0.286448</td>\n",
       "      <td>0.145959</td>\n",
       "      <td>1.000000</td>\n",
       "      <td>0.619943</td>\n",
       "      <td>0.230738</td>\n",
       "      <td>0.545482</td>\n",
       "      <td>0.621534</td>\n",
       "      <td>...</td>\n",
       "      <td>0.778176</td>\n",
       "      <td>-0.023467</td>\n",
       "      <td>-0.058826</td>\n",
       "      <td>0.138089</td>\n",
       "      <td>0.164248</td>\n",
       "      <td>-0.241879</td>\n",
       "      <td>-0.046315</td>\n",
       "      <td>-0.019700</td>\n",
       "      <td>-0.160709</td>\n",
       "      <td>-0.126379</td>\n",
       "    </tr>\n",
       "    <tr>\n",
       "      <th>num_voted_users</th>\n",
       "      <td>0.613245</td>\n",
       "      <td>0.356991</td>\n",
       "      <td>0.301537</td>\n",
       "      <td>0.271807</td>\n",
       "      <td>0.194363</td>\n",
       "      <td>0.619943</td>\n",
       "      <td>1.000000</td>\n",
       "      <td>0.262398</td>\n",
       "      <td>0.793387</td>\n",
       "      <td>0.406237</td>\n",
       "      <td>...</td>\n",
       "      <td>0.465651</td>\n",
       "      <td>-0.009240</td>\n",
       "      <td>-0.072004</td>\n",
       "      <td>-0.047804</td>\n",
       "      <td>0.089166</td>\n",
       "      <td>-0.010743</td>\n",
       "      <td>-0.056840</td>\n",
       "      <td>-0.012906</td>\n",
       "      <td>-0.083839</td>\n",
       "      <td>-0.067863</td>\n",
       "    </tr>\n",
       "    <tr>\n",
       "      <th>cast_total_facebook_likes</th>\n",
       "      <td>0.258498</td>\n",
       "      <td>0.136205</td>\n",
       "      <td>0.125216</td>\n",
       "      <td>0.484514</td>\n",
       "      <td>0.948373</td>\n",
       "      <td>0.230738</td>\n",
       "      <td>0.262398</td>\n",
       "      <td>1.000000</td>\n",
       "      <td>0.200969</td>\n",
       "      <td>0.248422</td>\n",
       "      <td>...</td>\n",
       "      <td>0.095367</td>\n",
       "      <td>-0.010681</td>\n",
       "      <td>-0.072830</td>\n",
       "      <td>-0.015680</td>\n",
       "      <td>0.092553</td>\n",
       "      <td>-0.022494</td>\n",
       "      <td>-0.058790</td>\n",
       "      <td>-0.007869</td>\n",
       "      <td>-0.106796</td>\n",
       "      <td>-0.112171</td>\n",
       "    </tr>\n",
       "    <tr>\n",
       "      <th>num_user_for_reviews</th>\n",
       "      <td>0.592001</td>\n",
       "      <td>0.368067</td>\n",
       "      <td>0.222726</td>\n",
       "      <td>0.217470</td>\n",
       "      <td>0.143428</td>\n",
       "      <td>0.545482</td>\n",
       "      <td>0.793387</td>\n",
       "      <td>0.200969</td>\n",
       "      <td>1.000000</td>\n",
       "      <td>0.424684</td>\n",
       "      <td>...</td>\n",
       "      <td>0.355816</td>\n",
       "      <td>0.000618</td>\n",
       "      <td>-0.076188</td>\n",
       "      <td>-0.078483</td>\n",
       "      <td>0.119205</td>\n",
       "      <td>-0.007385</td>\n",
       "      <td>-0.051061</td>\n",
       "      <td>0.003333</td>\n",
       "      <td>-0.056018</td>\n",
       "      <td>-0.068901</td>\n",
       "    </tr>\n",
       "    <tr>\n",
       "      <th>budget</th>\n",
       "      <td>0.466323</td>\n",
       "      <td>0.293857</td>\n",
       "      <td>0.098207</td>\n",
       "      <td>0.268083</td>\n",
       "      <td>0.172231</td>\n",
       "      <td>0.621534</td>\n",
       "      <td>0.406237</td>\n",
       "      <td>0.248422</td>\n",
       "      <td>0.424684</td>\n",
       "      <td>1.000000</td>\n",
       "      <td>...</td>\n",
       "      <td>-0.008341</td>\n",
       "      <td>-0.026873</td>\n",
       "      <td>-0.090576</td>\n",
       "      <td>0.116131</td>\n",
       "      <td>0.239613</td>\n",
       "      <td>-0.268580</td>\n",
       "      <td>-0.067214</td>\n",
       "      <td>-0.042747</td>\n",
       "      <td>-0.092980</td>\n",
       "      <td>-0.073659</td>\n",
       "    </tr>\n",
       "    <tr>\n",
       "      <th>actor_2_facebook_likes</th>\n",
       "      <td>0.268501</td>\n",
       "      <td>0.140441</td>\n",
       "      <td>0.120220</td>\n",
       "      <td>0.552700</td>\n",
       "      <td>0.392087</td>\n",
       "      <td>0.249063</td>\n",
       "      <td>0.256569</td>\n",
       "      <td>0.637072</td>\n",
       "      <td>0.205657</td>\n",
       "      <td>0.256831</td>\n",
       "      <td>...</td>\n",
       "      <td>0.112017</td>\n",
       "      <td>-0.013099</td>\n",
       "      <td>-0.052124</td>\n",
       "      <td>-0.013963</td>\n",
       "      <td>0.069535</td>\n",
       "      <td>-0.012193</td>\n",
       "      <td>-0.042431</td>\n",
       "      <td>-0.018191</td>\n",
       "      <td>-0.088702</td>\n",
       "      <td>-0.085284</td>\n",
       "    </tr>\n",
       "    <tr>\n",
       "      <th>imdb_score</th>\n",
       "      <td>0.355673</td>\n",
       "      <td>0.367885</td>\n",
       "      <td>0.183960</td>\n",
       "      <td>0.064808</td>\n",
       "      <td>0.095677</td>\n",
       "      <td>0.185630</td>\n",
       "      <td>0.449661</td>\n",
       "      <td>0.107403</td>\n",
       "      <td>0.321989</td>\n",
       "      <td>0.057063</td>\n",
       "      <td>...</td>\n",
       "      <td>0.191202</td>\n",
       "      <td>0.004722</td>\n",
       "      <td>0.026706</td>\n",
       "      <td>-0.044016</td>\n",
       "      <td>-0.095195</td>\n",
       "      <td>0.094539</td>\n",
       "      <td>0.050859</td>\n",
       "      <td>0.004356</td>\n",
       "      <td>0.111176</td>\n",
       "      <td>0.155080</td>\n",
       "    </tr>\n",
       "    <tr>\n",
       "      <th>movie_facebook_likes</th>\n",
       "      <td>0.691031</td>\n",
       "      <td>0.226542</td>\n",
       "      <td>0.162087</td>\n",
       "      <td>0.264962</td>\n",
       "      <td>0.136675</td>\n",
       "      <td>0.363395</td>\n",
       "      <td>0.530471</td>\n",
       "      <td>0.207344</td>\n",
       "      <td>0.391085</td>\n",
       "      <td>0.316590</td>\n",
       "      <td>...</td>\n",
       "      <td>0.210049</td>\n",
       "      <td>-0.005778</td>\n",
       "      <td>-0.037315</td>\n",
       "      <td>-0.043955</td>\n",
       "      <td>0.096544</td>\n",
       "      <td>-0.025901</td>\n",
       "      <td>-0.041351</td>\n",
       "      <td>-0.016727</td>\n",
       "      <td>-0.027492</td>\n",
       "      <td>-0.037273</td>\n",
       "    </tr>\n",
       "    <tr>\n",
       "      <th>profit</th>\n",
       "      <td>0.200700</td>\n",
       "      <td>0.082272</td>\n",
       "      <td>0.101153</td>\n",
       "      <td>0.150716</td>\n",
       "      <td>0.048232</td>\n",
       "      <td>0.778176</td>\n",
       "      <td>0.465651</td>\n",
       "      <td>0.095367</td>\n",
       "      <td>0.355816</td>\n",
       "      <td>-0.008341</td>\n",
       "      <td>...</td>\n",
       "      <td>1.000000</td>\n",
       "      <td>-0.008410</td>\n",
       "      <td>-0.002474</td>\n",
       "      <td>0.083163</td>\n",
       "      <td>0.017558</td>\n",
       "      <td>-0.093428</td>\n",
       "      <td>-0.005233</td>\n",
       "      <td>0.009123</td>\n",
       "      <td>-0.130597</td>\n",
       "      <td>-0.102265</td>\n",
       "    </tr>\n",
       "    <tr>\n",
       "      <th>rating_NC-17</th>\n",
       "      <td>0.011068</td>\n",
       "      <td>-0.011780</td>\n",
       "      <td>-0.007508</td>\n",
       "      <td>-0.009029</td>\n",
       "      <td>-0.006814</td>\n",
       "      <td>-0.023467</td>\n",
       "      <td>-0.009240</td>\n",
       "      <td>-0.010681</td>\n",
       "      <td>0.000618</td>\n",
       "      <td>-0.026873</td>\n",
       "      <td>...</td>\n",
       "      <td>-0.008410</td>\n",
       "      <td>1.000000</td>\n",
       "      <td>-0.006294</td>\n",
       "      <td>-0.016737</td>\n",
       "      <td>-0.026877</td>\n",
       "      <td>-0.036405</td>\n",
       "      <td>-0.004559</td>\n",
       "      <td>-0.002111</td>\n",
       "      <td>0.005246</td>\n",
       "      <td>-0.008954</td>\n",
       "    </tr>\n",
       "    <tr>\n",
       "      <th>rating_Not Rated</th>\n",
       "      <td>-0.074137</td>\n",
       "      <td>-0.004879</td>\n",
       "      <td>-0.024884</td>\n",
       "      <td>-0.046372</td>\n",
       "      <td>-0.061404</td>\n",
       "      <td>-0.058826</td>\n",
       "      <td>-0.072004</td>\n",
       "      <td>-0.072830</td>\n",
       "      <td>-0.076188</td>\n",
       "      <td>-0.090576</td>\n",
       "      <td>...</td>\n",
       "      <td>-0.002474</td>\n",
       "      <td>-0.006294</td>\n",
       "      <td>1.000000</td>\n",
       "      <td>-0.068049</td>\n",
       "      <td>-0.109274</td>\n",
       "      <td>-0.148013</td>\n",
       "      <td>-0.018535</td>\n",
       "      <td>-0.008583</td>\n",
       "      <td>0.128072</td>\n",
       "      <td>0.153336</td>\n",
       "    </tr>\n",
       "    <tr>\n",
       "      <th>rating_PG</th>\n",
       "      <td>-0.104880</td>\n",
       "      <td>-0.070421</td>\n",
       "      <td>0.008985</td>\n",
       "      <td>0.004196</td>\n",
       "      <td>-0.017125</td>\n",
       "      <td>0.138089</td>\n",
       "      <td>-0.047804</td>\n",
       "      <td>-0.015680</td>\n",
       "      <td>-0.078483</td>\n",
       "      <td>0.116131</td>\n",
       "      <td>...</td>\n",
       "      <td>0.083163</td>\n",
       "      <td>-0.016737</td>\n",
       "      <td>-0.068049</td>\n",
       "      <td>1.000000</td>\n",
       "      <td>-0.290597</td>\n",
       "      <td>-0.393615</td>\n",
       "      <td>-0.049291</td>\n",
       "      <td>-0.022824</td>\n",
       "      <td>-0.025306</td>\n",
       "      <td>-0.034482</td>\n",
       "    </tr>\n",
       "    <tr>\n",
       "      <th>rating_PG-13</th>\n",
       "      <td>0.133436</td>\n",
       "      <td>0.087540</td>\n",
       "      <td>0.010050</td>\n",
       "      <td>0.103417</td>\n",
       "      <td>0.069776</td>\n",
       "      <td>0.164248</td>\n",
       "      <td>0.089166</td>\n",
       "      <td>0.092553</td>\n",
       "      <td>0.119205</td>\n",
       "      <td>0.239613</td>\n",
       "      <td>...</td>\n",
       "      <td>0.017558</td>\n",
       "      <td>-0.026877</td>\n",
       "      <td>-0.109274</td>\n",
       "      <td>-0.290597</td>\n",
       "      <td>1.000000</td>\n",
       "      <td>-0.632074</td>\n",
       "      <td>-0.079152</td>\n",
       "      <td>-0.036651</td>\n",
       "      <td>-0.093436</td>\n",
       "      <td>-0.072198</td>\n",
       "    </tr>\n",
       "    <tr>\n",
       "      <th>rating_R</th>\n",
       "      <td>0.007639</td>\n",
       "      <td>0.004263</td>\n",
       "      <td>0.006833</td>\n",
       "      <td>-0.065636</td>\n",
       "      <td>-0.008649</td>\n",
       "      <td>-0.241879</td>\n",
       "      <td>-0.010743</td>\n",
       "      <td>-0.022494</td>\n",
       "      <td>-0.007385</td>\n",
       "      <td>-0.268580</td>\n",
       "      <td>...</td>\n",
       "      <td>-0.093428</td>\n",
       "      <td>-0.036405</td>\n",
       "      <td>-0.148013</td>\n",
       "      <td>-0.393615</td>\n",
       "      <td>-0.632074</td>\n",
       "      <td>1.000000</td>\n",
       "      <td>-0.107212</td>\n",
       "      <td>-0.049644</td>\n",
       "      <td>0.055078</td>\n",
       "      <td>0.022808</td>\n",
       "    </tr>\n",
       "    <tr>\n",
       "      <th>rating_Unrated</th>\n",
       "      <td>-0.069360</td>\n",
       "      <td>-0.029558</td>\n",
       "      <td>-0.014881</td>\n",
       "      <td>-0.037377</td>\n",
       "      <td>-0.049947</td>\n",
       "      <td>-0.046315</td>\n",
       "      <td>-0.056840</td>\n",
       "      <td>-0.058790</td>\n",
       "      <td>-0.051061</td>\n",
       "      <td>-0.067214</td>\n",
       "      <td>...</td>\n",
       "      <td>-0.005233</td>\n",
       "      <td>-0.004559</td>\n",
       "      <td>-0.018535</td>\n",
       "      <td>-0.049291</td>\n",
       "      <td>-0.079152</td>\n",
       "      <td>-0.107212</td>\n",
       "      <td>1.000000</td>\n",
       "      <td>-0.006217</td>\n",
       "      <td>0.046935</td>\n",
       "      <td>0.089663</td>\n",
       "    </tr>\n",
       "    <tr>\n",
       "      <th>rating_X</th>\n",
       "      <td>-0.000691</td>\n",
       "      <td>-0.039140</td>\n",
       "      <td>-0.011418</td>\n",
       "      <td>-0.013660</td>\n",
       "      <td>-0.001600</td>\n",
       "      <td>-0.019700</td>\n",
       "      <td>-0.012906</td>\n",
       "      <td>-0.007869</td>\n",
       "      <td>0.003333</td>\n",
       "      <td>-0.042747</td>\n",
       "      <td>...</td>\n",
       "      <td>0.009123</td>\n",
       "      <td>-0.002111</td>\n",
       "      <td>-0.008583</td>\n",
       "      <td>-0.022824</td>\n",
       "      <td>-0.036651</td>\n",
       "      <td>-0.049644</td>\n",
       "      <td>-0.006217</td>\n",
       "      <td>1.000000</td>\n",
       "      <td>-0.019480</td>\n",
       "      <td>0.006865</td>\n",
       "    </tr>\n",
       "    <tr>\n",
       "      <th>origin_Foreign</th>\n",
       "      <td>-0.023177</td>\n",
       "      <td>0.032983</td>\n",
       "      <td>-0.081653</td>\n",
       "      <td>-0.088107</td>\n",
       "      <td>-0.080113</td>\n",
       "      <td>-0.160709</td>\n",
       "      <td>-0.083839</td>\n",
       "      <td>-0.106796</td>\n",
       "      <td>-0.056018</td>\n",
       "      <td>-0.092980</td>\n",
       "      <td>...</td>\n",
       "      <td>-0.130597</td>\n",
       "      <td>0.005246</td>\n",
       "      <td>0.128072</td>\n",
       "      <td>-0.025306</td>\n",
       "      <td>-0.093436</td>\n",
       "      <td>0.055078</td>\n",
       "      <td>0.046935</td>\n",
       "      <td>-0.019480</td>\n",
       "      <td>1.000000</td>\n",
       "      <td>0.380426</td>\n",
       "    </tr>\n",
       "    <tr>\n",
       "      <th>originlang_Foreign</th>\n",
       "      <td>-0.041052</td>\n",
       "      <td>0.041306</td>\n",
       "      <td>-0.030921</td>\n",
       "      <td>-0.078177</td>\n",
       "      <td>-0.091933</td>\n",
       "      <td>-0.126379</td>\n",
       "      <td>-0.067863</td>\n",
       "      <td>-0.112171</td>\n",
       "      <td>-0.068901</td>\n",
       "      <td>-0.073659</td>\n",
       "      <td>...</td>\n",
       "      <td>-0.102265</td>\n",
       "      <td>-0.008954</td>\n",
       "      <td>0.153336</td>\n",
       "      <td>-0.034482</td>\n",
       "      <td>-0.072198</td>\n",
       "      <td>0.022808</td>\n",
       "      <td>0.089663</td>\n",
       "      <td>0.006865</td>\n",
       "      <td>0.380426</td>\n",
       "      <td>1.000000</td>\n",
       "    </tr>\n",
       "  </tbody>\n",
       "</table>\n",
       "<p>23 rows × 23 columns</p>\n",
       "</div>"
      ],
      "text/plain": [
       "                           num_critic_for_reviews  duration  \\\n",
       "num_critic_for_reviews                   1.000000  0.259948   \n",
       "duration                                 0.259948  1.000000   \n",
       "director_facebook_likes                  0.179328  0.184439   \n",
       "actor_3_facebook_likes                   0.257717  0.132207   \n",
       "actor_1_facebook_likes                   0.189729  0.099726   \n",
       "gross                                    0.450114  0.249015   \n",
       "num_voted_users                          0.613245  0.356991   \n",
       "cast_total_facebook_likes                0.258498  0.136205   \n",
       "num_user_for_reviews                     0.592001  0.368067   \n",
       "budget                                   0.466323  0.293857   \n",
       "actor_2_facebook_likes                   0.268501  0.140441   \n",
       "imdb_score                               0.355673  0.367885   \n",
       "movie_facebook_likes                     0.691031  0.226542   \n",
       "profit                                   0.200700  0.082272   \n",
       "rating_NC-17                             0.011068 -0.011780   \n",
       "rating_Not Rated                        -0.074137 -0.004879   \n",
       "rating_PG                               -0.104880 -0.070421   \n",
       "rating_PG-13                             0.133436  0.087540   \n",
       "rating_R                                 0.007639  0.004263   \n",
       "rating_Unrated                          -0.069360 -0.029558   \n",
       "rating_X                                -0.000691 -0.039140   \n",
       "origin_Foreign                          -0.023177  0.032983   \n",
       "originlang_Foreign                      -0.041052  0.041306   \n",
       "\n",
       "                           director_facebook_likes  actor_3_facebook_likes  \\\n",
       "num_critic_for_reviews                    0.179328                0.257717   \n",
       "duration                                  0.184439                0.132207   \n",
       "director_facebook_likes                   1.000000                0.122494   \n",
       "actor_3_facebook_likes                    0.122494                1.000000   \n",
       "actor_1_facebook_likes                    0.096364                0.257009   \n",
       "gross                                     0.140925                0.286448   \n",
       "num_voted_users                           0.301537                0.271807   \n",
       "cast_total_facebook_likes                 0.125216                0.484514   \n",
       "num_user_for_reviews                      0.222726                0.217470   \n",
       "budget                                    0.098207                0.268083   \n",
       "actor_2_facebook_likes                    0.120220                0.552700   \n",
       "imdb_score                                0.183960                0.064808   \n",
       "movie_facebook_likes                      0.162087                0.264962   \n",
       "profit                                    0.101153                0.150716   \n",
       "rating_NC-17                             -0.007508               -0.009029   \n",
       "rating_Not Rated                         -0.024884               -0.046372   \n",
       "rating_PG                                 0.008985                0.004196   \n",
       "rating_PG-13                              0.010050                0.103417   \n",
       "rating_R                                  0.006833               -0.065636   \n",
       "rating_Unrated                           -0.014881               -0.037377   \n",
       "rating_X                                 -0.011418               -0.013660   \n",
       "origin_Foreign                           -0.081653               -0.088107   \n",
       "originlang_Foreign                       -0.030921               -0.078177   \n",
       "\n",
       "                           actor_1_facebook_likes     gross  num_voted_users  \\\n",
       "num_critic_for_reviews                   0.189729  0.450114         0.613245   \n",
       "duration                                 0.099726  0.249015         0.356991   \n",
       "director_facebook_likes                  0.096364  0.140925         0.301537   \n",
       "actor_3_facebook_likes                   0.257009  0.286448         0.271807   \n",
       "actor_1_facebook_likes                   1.000000  0.145959         0.194363   \n",
       "gross                                    0.145959  1.000000         0.619943   \n",
       "num_voted_users                          0.194363  0.619943         1.000000   \n",
       "cast_total_facebook_likes                0.948373  0.230738         0.262398   \n",
       "num_user_for_reviews                     0.143428  0.545482         0.793387   \n",
       "budget                                   0.172231  0.621534         0.406237   \n",
       "actor_2_facebook_likes                   0.392087  0.249063         0.256569   \n",
       "imdb_score                               0.095677  0.185630         0.449661   \n",
       "movie_facebook_likes                     0.136675  0.363395         0.530471   \n",
       "profit                                   0.048232  0.778176         0.465651   \n",
       "rating_NC-17                            -0.006814 -0.023467        -0.009240   \n",
       "rating_Not Rated                        -0.061404 -0.058826        -0.072004   \n",
       "rating_PG                               -0.017125  0.138089        -0.047804   \n",
       "rating_PG-13                             0.069776  0.164248         0.089166   \n",
       "rating_R                                -0.008649 -0.241879        -0.010743   \n",
       "rating_Unrated                          -0.049947 -0.046315        -0.056840   \n",
       "rating_X                                -0.001600 -0.019700        -0.012906   \n",
       "origin_Foreign                          -0.080113 -0.160709        -0.083839   \n",
       "originlang_Foreign                      -0.091933 -0.126379        -0.067863   \n",
       "\n",
       "                           cast_total_facebook_likes  num_user_for_reviews  \\\n",
       "num_critic_for_reviews                      0.258498              0.592001   \n",
       "duration                                    0.136205              0.368067   \n",
       "director_facebook_likes                     0.125216              0.222726   \n",
       "actor_3_facebook_likes                      0.484514              0.217470   \n",
       "actor_1_facebook_likes                      0.948373              0.143428   \n",
       "gross                                       0.230738              0.545482   \n",
       "num_voted_users                             0.262398              0.793387   \n",
       "cast_total_facebook_likes                   1.000000              0.200969   \n",
       "num_user_for_reviews                        0.200969              1.000000   \n",
       "budget                                      0.248422              0.424684   \n",
       "actor_2_facebook_likes                      0.637072              0.205657   \n",
       "imdb_score                                  0.107403              0.321989   \n",
       "movie_facebook_likes                        0.207344              0.391085   \n",
       "profit                                      0.095367              0.355816   \n",
       "rating_NC-17                               -0.010681              0.000618   \n",
       "rating_Not Rated                           -0.072830             -0.076188   \n",
       "rating_PG                                  -0.015680             -0.078483   \n",
       "rating_PG-13                                0.092553              0.119205   \n",
       "rating_R                                   -0.022494             -0.007385   \n",
       "rating_Unrated                             -0.058790             -0.051061   \n",
       "rating_X                                   -0.007869              0.003333   \n",
       "origin_Foreign                             -0.106796             -0.056018   \n",
       "originlang_Foreign                         -0.112171             -0.068901   \n",
       "\n",
       "                             budget  ...    profit  rating_NC-17  \\\n",
       "num_critic_for_reviews     0.466323  ...  0.200700      0.011068   \n",
       "duration                   0.293857  ...  0.082272     -0.011780   \n",
       "director_facebook_likes    0.098207  ...  0.101153     -0.007508   \n",
       "actor_3_facebook_likes     0.268083  ...  0.150716     -0.009029   \n",
       "actor_1_facebook_likes     0.172231  ...  0.048232     -0.006814   \n",
       "gross                      0.621534  ...  0.778176     -0.023467   \n",
       "num_voted_users            0.406237  ...  0.465651     -0.009240   \n",
       "cast_total_facebook_likes  0.248422  ...  0.095367     -0.010681   \n",
       "num_user_for_reviews       0.424684  ...  0.355816      0.000618   \n",
       "budget                     1.000000  ... -0.008341     -0.026873   \n",
       "actor_2_facebook_likes     0.256831  ...  0.112017     -0.013099   \n",
       "imdb_score                 0.057063  ...  0.191202      0.004722   \n",
       "movie_facebook_likes       0.316590  ...  0.210049     -0.005778   \n",
       "profit                    -0.008341  ...  1.000000     -0.008410   \n",
       "rating_NC-17              -0.026873  ... -0.008410      1.000000   \n",
       "rating_Not Rated          -0.090576  ... -0.002474     -0.006294   \n",
       "rating_PG                  0.116131  ...  0.083163     -0.016737   \n",
       "rating_PG-13               0.239613  ...  0.017558     -0.026877   \n",
       "rating_R                  -0.268580  ... -0.093428     -0.036405   \n",
       "rating_Unrated            -0.067214  ... -0.005233     -0.004559   \n",
       "rating_X                  -0.042747  ...  0.009123     -0.002111   \n",
       "origin_Foreign            -0.092980  ... -0.130597      0.005246   \n",
       "originlang_Foreign        -0.073659  ... -0.102265     -0.008954   \n",
       "\n",
       "                           rating_Not Rated  rating_PG  rating_PG-13  \\\n",
       "num_critic_for_reviews            -0.074137  -0.104880      0.133436   \n",
       "duration                          -0.004879  -0.070421      0.087540   \n",
       "director_facebook_likes           -0.024884   0.008985      0.010050   \n",
       "actor_3_facebook_likes            -0.046372   0.004196      0.103417   \n",
       "actor_1_facebook_likes            -0.061404  -0.017125      0.069776   \n",
       "gross                             -0.058826   0.138089      0.164248   \n",
       "num_voted_users                   -0.072004  -0.047804      0.089166   \n",
       "cast_total_facebook_likes         -0.072830  -0.015680      0.092553   \n",
       "num_user_for_reviews              -0.076188  -0.078483      0.119205   \n",
       "budget                            -0.090576   0.116131      0.239613   \n",
       "actor_2_facebook_likes            -0.052124  -0.013963      0.069535   \n",
       "imdb_score                         0.026706  -0.044016     -0.095195   \n",
       "movie_facebook_likes              -0.037315  -0.043955      0.096544   \n",
       "profit                            -0.002474   0.083163      0.017558   \n",
       "rating_NC-17                      -0.006294  -0.016737     -0.026877   \n",
       "rating_Not Rated                   1.000000  -0.068049     -0.109274   \n",
       "rating_PG                         -0.068049   1.000000     -0.290597   \n",
       "rating_PG-13                      -0.109274  -0.290597      1.000000   \n",
       "rating_R                          -0.148013  -0.393615     -0.632074   \n",
       "rating_Unrated                    -0.018535  -0.049291     -0.079152   \n",
       "rating_X                          -0.008583  -0.022824     -0.036651   \n",
       "origin_Foreign                     0.128072  -0.025306     -0.093436   \n",
       "originlang_Foreign                 0.153336  -0.034482     -0.072198   \n",
       "\n",
       "                           rating_R  rating_Unrated  rating_X  origin_Foreign  \\\n",
       "num_critic_for_reviews     0.007639       -0.069360 -0.000691       -0.023177   \n",
       "duration                   0.004263       -0.029558 -0.039140        0.032983   \n",
       "director_facebook_likes    0.006833       -0.014881 -0.011418       -0.081653   \n",
       "actor_3_facebook_likes    -0.065636       -0.037377 -0.013660       -0.088107   \n",
       "actor_1_facebook_likes    -0.008649       -0.049947 -0.001600       -0.080113   \n",
       "gross                     -0.241879       -0.046315 -0.019700       -0.160709   \n",
       "num_voted_users           -0.010743       -0.056840 -0.012906       -0.083839   \n",
       "cast_total_facebook_likes -0.022494       -0.058790 -0.007869       -0.106796   \n",
       "num_user_for_reviews      -0.007385       -0.051061  0.003333       -0.056018   \n",
       "budget                    -0.268580       -0.067214 -0.042747       -0.092980   \n",
       "actor_2_facebook_likes    -0.012193       -0.042431 -0.018191       -0.088702   \n",
       "imdb_score                 0.094539        0.050859  0.004356        0.111176   \n",
       "movie_facebook_likes      -0.025901       -0.041351 -0.016727       -0.027492   \n",
       "profit                    -0.093428       -0.005233  0.009123       -0.130597   \n",
       "rating_NC-17              -0.036405       -0.004559 -0.002111        0.005246   \n",
       "rating_Not Rated          -0.148013       -0.018535 -0.008583        0.128072   \n",
       "rating_PG                 -0.393615       -0.049291 -0.022824       -0.025306   \n",
       "rating_PG-13              -0.632074       -0.079152 -0.036651       -0.093436   \n",
       "rating_R                   1.000000       -0.107212 -0.049644        0.055078   \n",
       "rating_Unrated            -0.107212        1.000000 -0.006217        0.046935   \n",
       "rating_X                  -0.049644       -0.006217  1.000000       -0.019480   \n",
       "origin_Foreign             0.055078        0.046935 -0.019480        1.000000   \n",
       "originlang_Foreign         0.022808        0.089663  0.006865        0.380426   \n",
       "\n",
       "                           originlang_Foreign  \n",
       "num_critic_for_reviews              -0.041052  \n",
       "duration                             0.041306  \n",
       "director_facebook_likes             -0.030921  \n",
       "actor_3_facebook_likes              -0.078177  \n",
       "actor_1_facebook_likes              -0.091933  \n",
       "gross                               -0.126379  \n",
       "num_voted_users                     -0.067863  \n",
       "cast_total_facebook_likes           -0.112171  \n",
       "num_user_for_reviews                -0.068901  \n",
       "budget                              -0.073659  \n",
       "actor_2_facebook_likes              -0.085284  \n",
       "imdb_score                           0.155080  \n",
       "movie_facebook_likes                -0.037273  \n",
       "profit                              -0.102265  \n",
       "rating_NC-17                        -0.008954  \n",
       "rating_Not Rated                     0.153336  \n",
       "rating_PG                           -0.034482  \n",
       "rating_PG-13                        -0.072198  \n",
       "rating_R                             0.022808  \n",
       "rating_Unrated                       0.089663  \n",
       "rating_X                             0.006865  \n",
       "origin_Foreign                       0.380426  \n",
       "originlang_Foreign                   1.000000  \n",
       "\n",
       "[23 rows x 23 columns]"
      ]
     },
     "execution_count": 302,
     "metadata": {},
     "output_type": "execute_result"
    }
   ],
   "source": [
    "m3.corr()\n"
   ]
  },
  {
   "cell_type": "code",
   "execution_count": 303,
   "metadata": {
    "slideshow": {
     "slide_type": "slide"
    }
   },
   "outputs": [
    {
     "data": {
      "text/plain": [
       "imdb_score                   1.000000\n",
       "num_voted_users              0.449661\n",
       "duration                     0.367885\n",
       "num_critic_for_reviews       0.355673\n",
       "num_user_for_reviews         0.321989\n",
       "movie_facebook_likes         0.273153\n",
       "profit                       0.191202\n",
       "gross                        0.185630\n",
       "director_facebook_likes      0.183960\n",
       "originlang_Foreign           0.155080\n",
       "origin_Foreign               0.111176\n",
       "cast_total_facebook_likes    0.107403\n",
       "actor_2_facebook_likes       0.100175\n",
       "actor_1_facebook_likes       0.095677\n",
       "rating_R                     0.094539\n",
       "actor_3_facebook_likes       0.064808\n",
       "budget                       0.057063\n",
       "rating_Unrated               0.050859\n",
       "rating_Not Rated             0.026706\n",
       "rating_NC-17                 0.004722\n",
       "rating_X                     0.004356\n",
       "rating_PG                   -0.044016\n",
       "rating_PG-13                -0.095195\n",
       "Name: imdb_score, dtype: float64"
      ]
     },
     "execution_count": 303,
     "metadata": {},
     "output_type": "execute_result"
    }
   ],
   "source": [
    "m3.corr()['imdb_score'].sort_values(ascending=False)"
   ]
  },
  {
   "cell_type": "code",
   "execution_count": 304,
   "metadata": {
    "slideshow": {
     "slide_type": "slide"
    }
   },
   "outputs": [
    {
     "data": {
      "text/html": [
       "<div>\n",
       "<style scoped>\n",
       "    .dataframe tbody tr th:only-of-type {\n",
       "        vertical-align: middle;\n",
       "    }\n",
       "\n",
       "    .dataframe tbody tr th {\n",
       "        vertical-align: top;\n",
       "    }\n",
       "\n",
       "    .dataframe thead th {\n",
       "        text-align: right;\n",
       "    }\n",
       "</style>\n",
       "<table border=\"1\" class=\"dataframe\">\n",
       "  <thead>\n",
       "    <tr style=\"text-align: right;\">\n",
       "      <th></th>\n",
       "      <th>num_critic_for_reviews</th>\n",
       "      <th>duration</th>\n",
       "      <th>director_facebook_likes</th>\n",
       "      <th>actor_3_facebook_likes</th>\n",
       "      <th>actor_1_facebook_likes</th>\n",
       "      <th>gross</th>\n",
       "      <th>num_voted_users</th>\n",
       "      <th>cast_total_facebook_likes</th>\n",
       "      <th>num_user_for_reviews</th>\n",
       "      <th>budget</th>\n",
       "      <th>actor_2_facebook_likes</th>\n",
       "      <th>imdb_score</th>\n",
       "      <th>movie_facebook_likes</th>\n",
       "      <th>profit</th>\n",
       "    </tr>\n",
       "  </thead>\n",
       "  <tbody>\n",
       "    <tr>\n",
       "      <th>num_critic_for_reviews</th>\n",
       "      <td>1.000000</td>\n",
       "      <td>0.259948</td>\n",
       "      <td>0.179328</td>\n",
       "      <td>0.257717</td>\n",
       "      <td>0.189729</td>\n",
       "      <td>0.450114</td>\n",
       "      <td>0.613245</td>\n",
       "      <td>0.258498</td>\n",
       "      <td>0.592001</td>\n",
       "      <td>0.466323</td>\n",
       "      <td>0.268501</td>\n",
       "      <td>0.355673</td>\n",
       "      <td>0.691031</td>\n",
       "      <td>0.200700</td>\n",
       "    </tr>\n",
       "    <tr>\n",
       "      <th>duration</th>\n",
       "      <td>0.259948</td>\n",
       "      <td>1.000000</td>\n",
       "      <td>0.184439</td>\n",
       "      <td>0.132207</td>\n",
       "      <td>0.099726</td>\n",
       "      <td>0.249015</td>\n",
       "      <td>0.356991</td>\n",
       "      <td>0.136205</td>\n",
       "      <td>0.368067</td>\n",
       "      <td>0.293857</td>\n",
       "      <td>0.140441</td>\n",
       "      <td>0.367885</td>\n",
       "      <td>0.226542</td>\n",
       "      <td>0.082272</td>\n",
       "    </tr>\n",
       "    <tr>\n",
       "      <th>director_facebook_likes</th>\n",
       "      <td>0.179328</td>\n",
       "      <td>0.184439</td>\n",
       "      <td>1.000000</td>\n",
       "      <td>0.122494</td>\n",
       "      <td>0.096364</td>\n",
       "      <td>0.140925</td>\n",
       "      <td>0.301537</td>\n",
       "      <td>0.125216</td>\n",
       "      <td>0.222726</td>\n",
       "      <td>0.098207</td>\n",
       "      <td>0.120220</td>\n",
       "      <td>0.183960</td>\n",
       "      <td>0.162087</td>\n",
       "      <td>0.101153</td>\n",
       "    </tr>\n",
       "    <tr>\n",
       "      <th>actor_3_facebook_likes</th>\n",
       "      <td>0.257717</td>\n",
       "      <td>0.132207</td>\n",
       "      <td>0.122494</td>\n",
       "      <td>1.000000</td>\n",
       "      <td>0.257009</td>\n",
       "      <td>0.286448</td>\n",
       "      <td>0.271807</td>\n",
       "      <td>0.484514</td>\n",
       "      <td>0.217470</td>\n",
       "      <td>0.268083</td>\n",
       "      <td>0.552700</td>\n",
       "      <td>0.064808</td>\n",
       "      <td>0.264962</td>\n",
       "      <td>0.150716</td>\n",
       "    </tr>\n",
       "    <tr>\n",
       "      <th>actor_1_facebook_likes</th>\n",
       "      <td>0.189729</td>\n",
       "      <td>0.099726</td>\n",
       "      <td>0.096364</td>\n",
       "      <td>0.257009</td>\n",
       "      <td>1.000000</td>\n",
       "      <td>0.145959</td>\n",
       "      <td>0.194363</td>\n",
       "      <td>0.948373</td>\n",
       "      <td>0.143428</td>\n",
       "      <td>0.172231</td>\n",
       "      <td>0.392087</td>\n",
       "      <td>0.095677</td>\n",
       "      <td>0.136675</td>\n",
       "      <td>0.048232</td>\n",
       "    </tr>\n",
       "    <tr>\n",
       "      <th>gross</th>\n",
       "      <td>0.450114</td>\n",
       "      <td>0.249015</td>\n",
       "      <td>0.140925</td>\n",
       "      <td>0.286448</td>\n",
       "      <td>0.145959</td>\n",
       "      <td>1.000000</td>\n",
       "      <td>0.619943</td>\n",
       "      <td>0.230738</td>\n",
       "      <td>0.545482</td>\n",
       "      <td>0.621534</td>\n",
       "      <td>0.249063</td>\n",
       "      <td>0.185630</td>\n",
       "      <td>0.363395</td>\n",
       "      <td>0.778176</td>\n",
       "    </tr>\n",
       "    <tr>\n",
       "      <th>num_voted_users</th>\n",
       "      <td>0.613245</td>\n",
       "      <td>0.356991</td>\n",
       "      <td>0.301537</td>\n",
       "      <td>0.271807</td>\n",
       "      <td>0.194363</td>\n",
       "      <td>0.619943</td>\n",
       "      <td>1.000000</td>\n",
       "      <td>0.262398</td>\n",
       "      <td>0.793387</td>\n",
       "      <td>0.406237</td>\n",
       "      <td>0.256569</td>\n",
       "      <td>0.449661</td>\n",
       "      <td>0.530471</td>\n",
       "      <td>0.465651</td>\n",
       "    </tr>\n",
       "    <tr>\n",
       "      <th>cast_total_facebook_likes</th>\n",
       "      <td>0.258498</td>\n",
       "      <td>0.136205</td>\n",
       "      <td>0.125216</td>\n",
       "      <td>0.484514</td>\n",
       "      <td>0.948373</td>\n",
       "      <td>0.230738</td>\n",
       "      <td>0.262398</td>\n",
       "      <td>1.000000</td>\n",
       "      <td>0.200969</td>\n",
       "      <td>0.248422</td>\n",
       "      <td>0.637072</td>\n",
       "      <td>0.107403</td>\n",
       "      <td>0.207344</td>\n",
       "      <td>0.095367</td>\n",
       "    </tr>\n",
       "    <tr>\n",
       "      <th>num_user_for_reviews</th>\n",
       "      <td>0.592001</td>\n",
       "      <td>0.368067</td>\n",
       "      <td>0.222726</td>\n",
       "      <td>0.217470</td>\n",
       "      <td>0.143428</td>\n",
       "      <td>0.545482</td>\n",
       "      <td>0.793387</td>\n",
       "      <td>0.200969</td>\n",
       "      <td>1.000000</td>\n",
       "      <td>0.424684</td>\n",
       "      <td>0.205657</td>\n",
       "      <td>0.321989</td>\n",
       "      <td>0.391085</td>\n",
       "      <td>0.355816</td>\n",
       "    </tr>\n",
       "    <tr>\n",
       "      <th>budget</th>\n",
       "      <td>0.466323</td>\n",
       "      <td>0.293857</td>\n",
       "      <td>0.098207</td>\n",
       "      <td>0.268083</td>\n",
       "      <td>0.172231</td>\n",
       "      <td>0.621534</td>\n",
       "      <td>0.406237</td>\n",
       "      <td>0.248422</td>\n",
       "      <td>0.424684</td>\n",
       "      <td>1.000000</td>\n",
       "      <td>0.256831</td>\n",
       "      <td>0.057063</td>\n",
       "      <td>0.316590</td>\n",
       "      <td>-0.008341</td>\n",
       "    </tr>\n",
       "    <tr>\n",
       "      <th>actor_2_facebook_likes</th>\n",
       "      <td>0.268501</td>\n",
       "      <td>0.140441</td>\n",
       "      <td>0.120220</td>\n",
       "      <td>0.552700</td>\n",
       "      <td>0.392087</td>\n",
       "      <td>0.249063</td>\n",
       "      <td>0.256569</td>\n",
       "      <td>0.637072</td>\n",
       "      <td>0.205657</td>\n",
       "      <td>0.256831</td>\n",
       "      <td>1.000000</td>\n",
       "      <td>0.100175</td>\n",
       "      <td>0.233122</td>\n",
       "      <td>0.112017</td>\n",
       "    </tr>\n",
       "    <tr>\n",
       "      <th>imdb_score</th>\n",
       "      <td>0.355673</td>\n",
       "      <td>0.367885</td>\n",
       "      <td>0.183960</td>\n",
       "      <td>0.064808</td>\n",
       "      <td>0.095677</td>\n",
       "      <td>0.185630</td>\n",
       "      <td>0.449661</td>\n",
       "      <td>0.107403</td>\n",
       "      <td>0.321989</td>\n",
       "      <td>0.057063</td>\n",
       "      <td>0.100175</td>\n",
       "      <td>1.000000</td>\n",
       "      <td>0.273153</td>\n",
       "      <td>0.191202</td>\n",
       "    </tr>\n",
       "    <tr>\n",
       "      <th>movie_facebook_likes</th>\n",
       "      <td>0.691031</td>\n",
       "      <td>0.226542</td>\n",
       "      <td>0.162087</td>\n",
       "      <td>0.264962</td>\n",
       "      <td>0.136675</td>\n",
       "      <td>0.363395</td>\n",
       "      <td>0.530471</td>\n",
       "      <td>0.207344</td>\n",
       "      <td>0.391085</td>\n",
       "      <td>0.316590</td>\n",
       "      <td>0.233122</td>\n",
       "      <td>0.273153</td>\n",
       "      <td>1.000000</td>\n",
       "      <td>0.210049</td>\n",
       "    </tr>\n",
       "    <tr>\n",
       "      <th>profit</th>\n",
       "      <td>0.200700</td>\n",
       "      <td>0.082272</td>\n",
       "      <td>0.101153</td>\n",
       "      <td>0.150716</td>\n",
       "      <td>0.048232</td>\n",
       "      <td>0.778176</td>\n",
       "      <td>0.465651</td>\n",
       "      <td>0.095367</td>\n",
       "      <td>0.355816</td>\n",
       "      <td>-0.008341</td>\n",
       "      <td>0.112017</td>\n",
       "      <td>0.191202</td>\n",
       "      <td>0.210049</td>\n",
       "      <td>1.000000</td>\n",
       "    </tr>\n",
       "  </tbody>\n",
       "</table>\n",
       "</div>"
      ],
      "text/plain": [
       "                           num_critic_for_reviews  duration  \\\n",
       "num_critic_for_reviews                   1.000000  0.259948   \n",
       "duration                                 0.259948  1.000000   \n",
       "director_facebook_likes                  0.179328  0.184439   \n",
       "actor_3_facebook_likes                   0.257717  0.132207   \n",
       "actor_1_facebook_likes                   0.189729  0.099726   \n",
       "gross                                    0.450114  0.249015   \n",
       "num_voted_users                          0.613245  0.356991   \n",
       "cast_total_facebook_likes                0.258498  0.136205   \n",
       "num_user_for_reviews                     0.592001  0.368067   \n",
       "budget                                   0.466323  0.293857   \n",
       "actor_2_facebook_likes                   0.268501  0.140441   \n",
       "imdb_score                               0.355673  0.367885   \n",
       "movie_facebook_likes                     0.691031  0.226542   \n",
       "profit                                   0.200700  0.082272   \n",
       "\n",
       "                           director_facebook_likes  actor_3_facebook_likes  \\\n",
       "num_critic_for_reviews                    0.179328                0.257717   \n",
       "duration                                  0.184439                0.132207   \n",
       "director_facebook_likes                   1.000000                0.122494   \n",
       "actor_3_facebook_likes                    0.122494                1.000000   \n",
       "actor_1_facebook_likes                    0.096364                0.257009   \n",
       "gross                                     0.140925                0.286448   \n",
       "num_voted_users                           0.301537                0.271807   \n",
       "cast_total_facebook_likes                 0.125216                0.484514   \n",
       "num_user_for_reviews                      0.222726                0.217470   \n",
       "budget                                    0.098207                0.268083   \n",
       "actor_2_facebook_likes                    0.120220                0.552700   \n",
       "imdb_score                                0.183960                0.064808   \n",
       "movie_facebook_likes                      0.162087                0.264962   \n",
       "profit                                    0.101153                0.150716   \n",
       "\n",
       "                           actor_1_facebook_likes     gross  num_voted_users  \\\n",
       "num_critic_for_reviews                   0.189729  0.450114         0.613245   \n",
       "duration                                 0.099726  0.249015         0.356991   \n",
       "director_facebook_likes                  0.096364  0.140925         0.301537   \n",
       "actor_3_facebook_likes                   0.257009  0.286448         0.271807   \n",
       "actor_1_facebook_likes                   1.000000  0.145959         0.194363   \n",
       "gross                                    0.145959  1.000000         0.619943   \n",
       "num_voted_users                          0.194363  0.619943         1.000000   \n",
       "cast_total_facebook_likes                0.948373  0.230738         0.262398   \n",
       "num_user_for_reviews                     0.143428  0.545482         0.793387   \n",
       "budget                                   0.172231  0.621534         0.406237   \n",
       "actor_2_facebook_likes                   0.392087  0.249063         0.256569   \n",
       "imdb_score                               0.095677  0.185630         0.449661   \n",
       "movie_facebook_likes                     0.136675  0.363395         0.530471   \n",
       "profit                                   0.048232  0.778176         0.465651   \n",
       "\n",
       "                           cast_total_facebook_likes  num_user_for_reviews  \\\n",
       "num_critic_for_reviews                      0.258498              0.592001   \n",
       "duration                                    0.136205              0.368067   \n",
       "director_facebook_likes                     0.125216              0.222726   \n",
       "actor_3_facebook_likes                      0.484514              0.217470   \n",
       "actor_1_facebook_likes                      0.948373              0.143428   \n",
       "gross                                       0.230738              0.545482   \n",
       "num_voted_users                             0.262398              0.793387   \n",
       "cast_total_facebook_likes                   1.000000              0.200969   \n",
       "num_user_for_reviews                        0.200969              1.000000   \n",
       "budget                                      0.248422              0.424684   \n",
       "actor_2_facebook_likes                      0.637072              0.205657   \n",
       "imdb_score                                  0.107403              0.321989   \n",
       "movie_facebook_likes                        0.207344              0.391085   \n",
       "profit                                      0.095367              0.355816   \n",
       "\n",
       "                             budget  actor_2_facebook_likes  imdb_score  \\\n",
       "num_critic_for_reviews     0.466323                0.268501    0.355673   \n",
       "duration                   0.293857                0.140441    0.367885   \n",
       "director_facebook_likes    0.098207                0.120220    0.183960   \n",
       "actor_3_facebook_likes     0.268083                0.552700    0.064808   \n",
       "actor_1_facebook_likes     0.172231                0.392087    0.095677   \n",
       "gross                      0.621534                0.249063    0.185630   \n",
       "num_voted_users            0.406237                0.256569    0.449661   \n",
       "cast_total_facebook_likes  0.248422                0.637072    0.107403   \n",
       "num_user_for_reviews       0.424684                0.205657    0.321989   \n",
       "budget                     1.000000                0.256831    0.057063   \n",
       "actor_2_facebook_likes     0.256831                1.000000    0.100175   \n",
       "imdb_score                 0.057063                0.100175    1.000000   \n",
       "movie_facebook_likes       0.316590                0.233122    0.273153   \n",
       "profit                    -0.008341                0.112017    0.191202   \n",
       "\n",
       "                           movie_facebook_likes    profit  \n",
       "num_critic_for_reviews                 0.691031  0.200700  \n",
       "duration                               0.226542  0.082272  \n",
       "director_facebook_likes                0.162087  0.101153  \n",
       "actor_3_facebook_likes                 0.264962  0.150716  \n",
       "actor_1_facebook_likes                 0.136675  0.048232  \n",
       "gross                                  0.363395  0.778176  \n",
       "num_voted_users                        0.530471  0.465651  \n",
       "cast_total_facebook_likes              0.207344  0.095367  \n",
       "num_user_for_reviews                   0.391085  0.355816  \n",
       "budget                                 0.316590 -0.008341  \n",
       "actor_2_facebook_likes                 0.233122  0.112017  \n",
       "imdb_score                             0.273153  0.191202  \n",
       "movie_facebook_likes                   1.000000  0.210049  \n",
       "profit                                 0.210049  1.000000  "
      ]
     },
     "execution_count": 304,
     "metadata": {},
     "output_type": "execute_result"
    }
   ],
   "source": [
    "m3Regression.corr()"
   ]
  },
  {
   "cell_type": "code",
   "execution_count": 305,
   "metadata": {
    "slideshow": {
     "slide_type": "slide"
    }
   },
   "outputs": [
    {
     "data": {
      "text/plain": [
       "<matplotlib.axes._subplots.AxesSubplot at 0x27367b11198>"
      ]
     },
     "execution_count": 305,
     "metadata": {},
     "output_type": "execute_result"
    },
    {
     "data": {
      "image/png": "[encoded data removed]",
      "text/plain": [
       "<Figure size 1152x1152 with 2 Axes>"
      ]
     },
     "metadata": {
      "needs_background": "light"
     },
     "output_type": "display_data"
    }
   ],
   "source": [
    "# Correlation Heatmap\n",
    "\n",
    "plt.figure(figsize=(16,16))\n",
    "sns.heatmap(m3Regression.corr(), annot=True)\n"
   ]
  },
  {
   "cell_type": "code",
   "execution_count": 306,
   "metadata": {
    "slideshow": {
     "slide_type": "slide"
    }
   },
   "outputs": [
    {
     "data": {
      "text/plain": [
       "imdb_score                   1.000000\n",
       "num_voted_users              0.449661\n",
       "duration                     0.367885\n",
       "num_critic_for_reviews       0.355673\n",
       "num_user_for_reviews         0.321989\n",
       "movie_facebook_likes         0.273153\n",
       "profit                       0.191202\n",
       "gross                        0.185630\n",
       "director_facebook_likes      0.183960\n",
       "cast_total_facebook_likes    0.107403\n",
       "actor_2_facebook_likes       0.100175\n",
       "actor_1_facebook_likes       0.095677\n",
       "actor_3_facebook_likes       0.064808\n",
       "budget                       0.057063\n",
       "Name: imdb_score, dtype: float64"
      ]
     },
     "execution_count": 306,
     "metadata": {},
     "output_type": "execute_result"
    }
   ],
   "source": [
    "m3Regression.corr()['imdb_score'].sort_values(ascending=False)\n"
   ]
  },
  {
   "cell_type": "markdown",
   "metadata": {
    "slideshow": {
     "slide_type": "slide"
    }
   },
   "source": [
    "# Regression Models\n",
    "\n",
    "- Five regression models built:\n",
    "    - All models used the m3Regression dataframe\n",
    "    - Overall models did not perform especially well\n",
    "    - Rank order of Models by R-squared value:\n",
    "        - Lasso Linear Regression R-squared 0.323\n",
    "        - Extra Tree Classifier Feature Selection R-squared 0.315\n",
    "        - Ordinary Least Squared with all variables R-squared 0.293\n",
    "        - Feature Selection R-squared 0.274\n",
    "        - Ordinary Least Squared with top four variables R-squared 0.272"
   ]
  },
  {
   "cell_type": "code",
   "execution_count": 307,
   "metadata": {
    "slideshow": {
     "slide_type": "skip"
    }
   },
   "outputs": [
    {
     "data": {
      "text/plain": [
       "imdb_score                   1.000000\n",
       "num_voted_users              0.449661\n",
       "duration                     0.367885\n",
       "num_critic_for_reviews       0.355673\n",
       "num_user_for_reviews         0.321989\n",
       "movie_facebook_likes         0.273153\n",
       "profit                       0.191202\n",
       "gross                        0.185630\n",
       "director_facebook_likes      0.183960\n",
       "cast_total_facebook_likes    0.107403\n",
       "actor_2_facebook_likes       0.100175\n",
       "actor_1_facebook_likes       0.095677\n",
       "actor_3_facebook_likes       0.064808\n",
       "budget                       0.057063\n",
       "Name: imdb_score, dtype: float64"
      ]
     },
     "execution_count": 307,
     "metadata": {},
     "output_type": "execute_result"
    }
   ],
   "source": [
    "m3Regression.corr()['imdb_score'].sort_values(ascending=False)"
   ]
  },
  {
   "cell_type": "code",
   "execution_count": 308,
   "metadata": {
    "slideshow": {
     "slide_type": "slide"
    }
   },
   "outputs": [
    {
     "name": "stdout",
     "output_type": "stream",
     "text": [
      "                            OLS Regression Results                            \n",
      "==============================================================================\n",
      "Dep. Variable:             imdb_score   R-squared:                       0.293\n",
      "Model:                            OLS   Adj. R-squared:                  0.291\n",
      "Method:                 Least Squares   F-statistic:                     170.1\n",
      "Date:                Fri, 06 Dec 2019   Prob (F-statistic):               0.00\n",
      "Time:                        00:05:38   Log-Likelihood:                -6090.1\n",
      "No. Observations:                4529   AIC:                         1.220e+04\n",
      "Df Residuals:                    4517   BIC:                         1.228e+04\n",
      "Df Model:                          11                                         \n",
      "Covariance Type:            nonrobust                                         \n",
      "=============================================================================================\n",
      "                                coef    std err          t      P>|t|      [0.025      0.975]\n",
      "---------------------------------------------------------------------------------------------\n",
      "Intercept                     4.6925      0.075     62.555      0.000       4.545       4.840\n",
      "num_voted_users            3.345e-06   1.89e-07     17.704      0.000    2.97e-06    3.72e-06\n",
      "duration                      0.0130      0.001     18.788      0.000       0.012       0.014\n",
      "num_critic_for_reviews        0.0018      0.000      9.954      0.000       0.001       0.002\n",
      "num_user_for_reviews         -0.0006   6.21e-05     -9.443      0.000      -0.001      -0.000\n",
      "movie_facebook_likes      -3.166e-06      1e-06     -3.160      0.002   -5.13e-06    -1.2e-06\n",
      "profit                     8.443e-10   3.16e-10      2.668      0.008    2.24e-10    1.46e-09\n",
      "director_facebook_likes    1.264e-05   5.05e-06      2.505      0.012    2.75e-06    2.25e-05\n",
      "cast_total_facebook_likes    -0.0001   1.35e-05     -8.347      0.000      -0.000   -8.65e-05\n",
      "actor_2_facebook_likes        0.0001   1.44e-05      7.852      0.000    8.48e-05       0.000\n",
      "actor_1_facebook_likes        0.0001   1.36e-05      8.354      0.000     8.7e-05       0.000\n",
      "actor_3_facebook_likes        0.0001   2.26e-05      5.134      0.000    7.16e-05       0.000\n",
      "==============================================================================\n",
      "Omnibus:                      488.862   Durbin-Watson:                   1.839\n",
      "Prob(Omnibus):                  0.000   Jarque-Bera (JB):              824.963\n",
      "Skew:                          -0.751   Prob(JB):                    7.27e-180\n",
      "Kurtosis:                       4.454   Cond. No.                     2.84e+08\n",
      "==============================================================================\n",
      "\n",
      "Warnings:\n",
      "[1] Standard Errors assume that the covariance matrix of the errors is correctly specified.\n",
      "[2] The condition number is large, 2.84e+08. This might indicate that there are\n",
      "strong multicollinearity or other numerical problems.\n"
     ]
    }
   ],
   "source": [
    "# Initial model with all variables\n",
    "\n",
    "m3OLSRegressionModel= ols(\"imdb_score~num_voted_users+duration+num_critic_for_reviews+num_user_for_reviews+movie_facebook_likes+profit+director_facebook_likes+cast_total_facebook_likes+actor_2_facebook_likes+actor_1_facebook_likes+actor_3_facebook_likes\",m3Regression)\n",
    "m3OLSRegression = m3OLSRegressionModel.fit()\n",
    "print(m3OLSRegression.summary())\n"
   ]
  },
  {
   "cell_type": "code",
   "execution_count": 309,
   "metadata": {
    "slideshow": {
     "slide_type": "slide"
    }
   },
   "outputs": [
    {
     "name": "stdout",
     "output_type": "stream",
     "text": [
      "                            OLS Regression Results                            \n",
      "==============================================================================\n",
      "Dep. Variable:             imdb_score   R-squared:                       0.272\n",
      "Model:                            OLS   Adj. R-squared:                  0.271\n",
      "Method:                 Least Squares   F-statistic:                     422.9\n",
      "Date:                Fri, 06 Dec 2019   Prob (F-statistic):          5.65e-310\n",
      "Time:                        00:05:38   Log-Likelihood:                -6155.7\n",
      "No. Observations:                4529   AIC:                         1.232e+04\n",
      "Df Residuals:                    4524   BIC:                         1.235e+04\n",
      "Df Model:                           4                                         \n",
      "Covariance Type:            nonrobust                                         \n",
      "==========================================================================================\n",
      "                             coef    std err          t      P>|t|      [0.025      0.975]\n",
      "------------------------------------------------------------------------------------------\n",
      "Intercept                  4.7060      0.074     63.335      0.000       4.560       4.852\n",
      "num_voted_users         3.285e-06    1.7e-07     19.377      0.000    2.95e-06    3.62e-06\n",
      "duration                   0.0126      0.001     18.166      0.000       0.011       0.014\n",
      "num_critic_for_reviews     0.0013      0.000      8.755      0.000       0.001       0.002\n",
      "num_user_for_reviews      -0.0005   6.13e-05     -8.900      0.000      -0.001      -0.000\n",
      "==============================================================================\n",
      "Omnibus:                      476.325   Durbin-Watson:                   1.821\n",
      "Prob(Omnibus):                  0.000   Jarque-Bera (JB):              779.785\n",
      "Skew:                          -0.747   Prob(JB):                    4.70e-170\n",
      "Kurtosis:                       4.378   Cond. No.                     8.96e+05\n",
      "==============================================================================\n",
      "\n",
      "Warnings:\n",
      "[1] Standard Errors assume that the covariance matrix of the errors is correctly specified.\n",
      "[2] The condition number is large, 8.96e+05. This might indicate that there are\n",
      "strong multicollinearity or other numerical problems.\n"
     ]
    }
   ],
   "source": [
    "#Refined model with four variables\n",
    "\n",
    "m3OLSRegressionModel4= ols(\"imdb_score~num_voted_users+duration+num_critic_for_reviews+num_user_for_reviews\",m3Regression)\n",
    "m3OLSRegression4 = m3OLSRegressionModel4.fit()\n",
    "print(m3OLSRegression4.summary())\n"
   ]
  },
  {
   "cell_type": "markdown",
   "metadata": {
    "slideshow": {
     "slide_type": "slide"
    }
   },
   "source": [
    "### Lasso Linear Model Regression"
   ]
  },
  {
   "cell_type": "code",
   "execution_count": 310,
   "metadata": {
    "slideshow": {
     "slide_type": "skip"
    }
   },
   "outputs": [
    {
     "data": {
      "text/plain": [
       "imdb_score                   1.000000\n",
       "num_voted_users              0.449661\n",
       "duration                     0.367885\n",
       "num_critic_for_reviews       0.355673\n",
       "num_user_for_reviews         0.321989\n",
       "movie_facebook_likes         0.273153\n",
       "profit                       0.191202\n",
       "gross                        0.185630\n",
       "director_facebook_likes      0.183960\n",
       "cast_total_facebook_likes    0.107403\n",
       "actor_2_facebook_likes       0.100175\n",
       "actor_1_facebook_likes       0.095677\n",
       "actor_3_facebook_likes       0.064808\n",
       "budget                       0.057063\n",
       "Name: imdb_score, dtype: float64"
      ]
     },
     "execution_count": 310,
     "metadata": {},
     "output_type": "execute_result"
    }
   ],
   "source": [
    "# Lasso Model Development\n",
    "\n",
    "m3Regression.corr()['imdb_score'].sort_values(ascending=False)"
   ]
  },
  {
   "cell_type": "code",
   "execution_count": 311,
   "metadata": {
    "slideshow": {
     "slide_type": "skip"
    }
   },
   "outputs": [
    {
     "name": "stdout",
     "output_type": "stream",
     "text": [
      "<class 'pandas.core.frame.DataFrame'>\n",
      "Int64Index: 4529 entries, 0 to 4613\n",
      "Data columns (total 24 columns):\n",
      "year_index                   4529 non-null object\n",
      "num_critic_for_reviews       4529 non-null float64\n",
      "duration                     4529 non-null float64\n",
      "director_facebook_likes      4529 non-null float64\n",
      "actor_3_facebook_likes       4529 non-null float64\n",
      "actor_1_facebook_likes       4529 non-null float64\n",
      "gross                        4529 non-null float64\n",
      "genres                       4529 non-null object\n",
      "movie_title                  4529 non-null object\n",
      "num_voted_users              4529 non-null int64\n",
      "cast_total_facebook_likes    4529 non-null int64\n",
      "num_user_for_reviews         4529 non-null float64\n",
      "language                     4529 non-null object\n",
      "country                      4529 non-null object\n",
      "content_rating               4529 non-null object\n",
      "budget                       4529 non-null float64\n",
      "actor_2_facebook_likes       4529 non-null float64\n",
      "imdb_score                   4529 non-null float64\n",
      "movie_facebook_likes         4529 non-null int64\n",
      "profit                       4529 non-null float64\n",
      "foreign_film                 4529 non-null object\n",
      "origin                       4529 non-null object\n",
      "origin_language              4529 non-null object\n",
      "score_quads                  4529 non-null category\n",
      "dtypes: category(1), float64(11), int64(3), object(9)\n",
      "memory usage: 853.8+ KB\n"
     ]
    }
   ],
   "source": [
    "m3Regression.info()"
   ]
  },
  {
   "cell_type": "code",
   "execution_count": 312,
   "metadata": {
    "slideshow": {
     "slide_type": "skip"
    }
   },
   "outputs": [],
   "source": [
    "y = m3Regression['imdb_score'] \n",
    "X = m3Regression.drop(['content_rating','imdb_score','score_quads','year_index','genres','movie_title','language','country','foreign_film','origin', 'origin_language'], axis=1 )"
   ]
  },
  {
   "cell_type": "code",
   "execution_count": 313,
   "metadata": {
    "slideshow": {
     "slide_type": "slide"
    }
   },
   "outputs": [],
   "source": [
    "\n",
    "\n",
    "imdb_lasso = lm.Lasso()         \n",
    "imdb_lasso.fit(X, y)\n",
    "imdb_lasso_y = imdb_lasso.predict(X)\n"
   ]
  },
  {
   "cell_type": "code",
   "execution_count": 314,
   "metadata": {
    "slideshow": {
     "slide_type": "slide"
    }
   },
   "outputs": [
    {
     "name": "stdout",
     "output_type": "stream",
     "text": [
      "Coefficients:  [ 2.13735194e-03  1.16908004e-02  1.01119686e-05  7.16504123e-05\n",
      "  7.40555279e-05 -3.31266282e-09  3.65150604e-06 -7.30272065e-05\n",
      " -4.21937080e-04 -2.52178643e-09  7.65820399e-05 -2.83678969e-06\n",
      "  2.90293473e-09]\n",
      "y-intercept  4.895982325257115\n"
     ]
    },
    {
     "data": {
      "text/plain": [
       "[('num_critic_for_reviews', '0.002'),\n",
       " ('duration', '0.012'),\n",
       " ('director_facebook_likes', '0.000'),\n",
       " ('actor_3_facebook_likes', '0.000'),\n",
       " ('actor_1_facebook_likes', '0.000'),\n",
       " ('gross', '-0.000'),\n",
       " ('num_voted_users', '0.000'),\n",
       " ('cast_total_facebook_likes', '-0.000'),\n",
       " ('num_user_for_reviews', '-0.000'),\n",
       " ('budget', '-0.000'),\n",
       " ('actor_2_facebook_likes', '0.000'),\n",
       " ('movie_facebook_likes', '-0.000'),\n",
       " ('profit', '0.000')]"
      ]
     },
     "execution_count": 314,
     "metadata": {},
     "output_type": "execute_result"
    }
   ],
   "source": [
    "print('Coefficients: ', imdb_lasso.coef_)\n",
    "print(\"y-intercept \", imdb_lasso.intercept_)\n",
    "coef = [\"%.3f\" % i for i in imdb_lasso.coef_]\n",
    "xcolumns = [ i for i in X.columns ]\n",
    "list(zip(xcolumns, coef))\n"
   ]
  },
  {
   "cell_type": "code",
   "execution_count": 315,
   "metadata": {
    "slideshow": {
     "slide_type": "slide"
    }
   },
   "outputs": [
    {
     "name": "stdout",
     "output_type": "stream",
     "text": [
      "mean square error:  0.8254990202799927\n",
      "variance or r-squared:  0.32287179428634316\n"
     ]
    }
   ],
   "source": [
    "print(\"mean square error: \", mean_squared_error(y, imdb_lasso_y))\n",
    "print(\"variance or r-squared: \", explained_variance_score(y, imdb_lasso_y))\n"
   ]
  },
  {
   "cell_type": "markdown",
   "metadata": {
    "slideshow": {
     "slide_type": "skip"
    }
   },
   "source": [
    "### F selection"
   ]
  },
  {
   "cell_type": "code",
   "execution_count": 316,
   "metadata": {
    "slideshow": {
     "slide_type": "skip"
    }
   },
   "outputs": [],
   "source": [
    "from sklearn.feature_selection import f_regression\n",
    "from sklearn.feature_selection import SelectKBest"
   ]
  },
  {
   "cell_type": "code",
   "execution_count": 317,
   "metadata": {
    "slideshow": {
     "slide_type": "skip"
    }
   },
   "outputs": [
    {
     "data": {
      "text/plain": [
       "array([[7.23000e+02, 1.78000e+02, 8.86204e+05, 3.05400e+03, 3.30000e+04],\n",
       "       [3.02000e+02, 1.69000e+02, 4.71220e+05, 1.23800e+03, 0.00000e+00],\n",
       "       [6.02000e+02, 1.48000e+02, 2.75868e+05, 9.94000e+02, 8.50000e+04],\n",
       "       ...,\n",
       "       [1.40000e+01, 9.50000e+01, 1.33800e+03, 1.40000e+01, 4.13000e+02],\n",
       "       [1.40000e+01, 1.00000e+02, 1.25500e+03, 9.00000e+00, 6.60000e+02],\n",
       "       [4.30000e+01, 9.00000e+01, 4.28500e+03, 8.40000e+01, 4.56000e+02]])"
      ]
     },
     "execution_count": 317,
     "metadata": {},
     "output_type": "execute_result"
    }
   ],
   "source": [
    "X_imdb5 = SelectKBest(f_regression, k=5).fit_transform(X, y)\n",
    "X_imdb5"
   ]
  },
  {
   "cell_type": "code",
   "execution_count": 318,
   "metadata": {
    "slideshow": {
     "slide_type": "skip"
    }
   },
   "outputs": [
    {
     "name": "stdout",
     "output_type": "stream",
     "text": [
      "[ 0  1  6  8 11]\n"
     ]
    }
   ],
   "source": [
    "selector = SelectKBest(f_regression, k=5).fit(X, y)\n",
    "imdb_selected = selector.get_support(indices=True)\n",
    "print(imdb_selected)"
   ]
  },
  {
   "cell_type": "code",
   "execution_count": 319,
   "metadata": {
    "slideshow": {
     "slide_type": "skip"
    }
   },
   "outputs": [
    {
     "name": "stdout",
     "output_type": "stream",
     "text": [
      "                            OLS Regression Results                            \n",
      "==============================================================================\n",
      "Dep. Variable:             imdb_score   R-squared:                       0.274\n",
      "Model:                            OLS   Adj. R-squared:                  0.274\n",
      "Method:                 Least Squares   F-statistic:                     342.1\n",
      "Date:                Fri, 06 Dec 2019   Prob (F-statistic):          1.02e-311\n",
      "Time:                        00:05:38   Log-Likelihood:                -6148.6\n",
      "No. Observations:                4529   AIC:                         1.231e+04\n",
      "Df Residuals:                    4523   BIC:                         1.235e+04\n",
      "Df Model:                           5                                         \n",
      "Covariance Type:            nonrobust                                         \n",
      "==========================================================================================\n",
      "                             coef    std err          t      P>|t|      [0.025      0.975]\n",
      "------------------------------------------------------------------------------------------\n",
      "Intercept                  4.6615      0.075     62.049      0.000       4.514       4.809\n",
      "num_critic_for_reviews     0.0017      0.000      9.347      0.000       0.001       0.002\n",
      "duration                   0.0128      0.001     18.364      0.000       0.011       0.014\n",
      "num_voted_users         3.469e-06   1.76e-07     19.692      0.000    3.12e-06    3.81e-06\n",
      "num_user_for_reviews      -0.0006   6.28e-05     -9.528      0.000      -0.001      -0.000\n",
      "movie_facebook_likes   -3.807e-06   1.01e-06     -3.774      0.000   -5.78e-06   -1.83e-06\n",
      "==============================================================================\n",
      "Omnibus:                      446.452   Durbin-Watson:                   1.821\n",
      "Prob(Omnibus):                  0.000   Jarque-Bera (JB):              716.567\n",
      "Skew:                          -0.717   Prob(JB):                    2.51e-156\n",
      "Kurtosis:                       4.320   Cond. No.                     9.10e+05\n",
      "==============================================================================\n",
      "\n",
      "Warnings:\n",
      "[1] Standard Errors assume that the covariance matrix of the errors is correctly specified.\n",
      "[2] The condition number is large, 9.1e+05. This might indicate that there are\n",
      "strong multicollinearity or other numerical problems.\n"
     ]
    }
   ],
   "source": [
    "m3fselModel= ols(\"imdb_score~num_critic_for_reviews+duration+num_voted_users+num_user_for_reviews+movie_facebook_likes\",m3Regression)\n",
    "m3fsel = m3fselModel.fit()\n",
    "print(m3fsel.summary())"
   ]
  },
  {
   "cell_type": "markdown",
   "metadata": {
    "slideshow": {
     "slide_type": "skip"
    }
   },
   "source": [
    "### Extra Tree Classifier Based Feature Selection"
   ]
  },
  {
   "cell_type": "code",
   "execution_count": 320,
   "metadata": {
    "slideshow": {
     "slide_type": "skip"
    }
   },
   "outputs": [
    {
     "name": "stdout",
     "output_type": "stream",
     "text": [
      "                            OLS Regression Results                            \n",
      "==============================================================================\n",
      "Dep. Variable:             imdb_score   R-squared:                       0.315\n",
      "Model:                            OLS   Adj. R-squared:                  0.314\n",
      "Method:                 Least Squares   F-statistic:                     297.0\n",
      "Date:                Fri, 06 Dec 2019   Prob (F-statistic):               0.00\n",
      "Time:                        00:05:38   Log-Likelihood:                -6018.2\n",
      "No. Observations:                4529   AIC:                         1.205e+04\n",
      "Df Residuals:                    4521   BIC:                         1.210e+04\n",
      "Df Model:                           7                                         \n",
      "Covariance Type:            nonrobust                                         \n",
      "===========================================================================================\n",
      "                              coef    std err          t      P>|t|      [0.025      0.975]\n",
      "-------------------------------------------------------------------------------------------\n",
      "Intercept                   4.6386      0.073     63.674      0.000       4.496       4.781\n",
      "num_voted_users          3.458e-06    1.8e-07     19.206      0.000    3.11e-06    3.81e-06\n",
      "duration                    0.0141      0.001     20.562      0.000       0.013       0.015\n",
      "budget                  -5.958e-09   4.56e-10    -13.080      0.000   -6.85e-09   -5.07e-09\n",
      "num_user_for_reviews       -0.0004   5.99e-05     -7.206      0.000      -0.001      -0.000\n",
      "num_critic_for_reviews      0.0020      0.000     13.015      0.000       0.002       0.002\n",
      "gross                   -7.282e-10   3.15e-10     -2.310      0.021   -1.35e-09    -1.1e-10\n",
      "director_facebook_likes  7.722e-06   4.96e-06      1.556      0.120   -2.01e-06    1.75e-05\n",
      "==============================================================================\n",
      "Omnibus:                      589.442   Durbin-Watson:                   1.902\n",
      "Prob(Omnibus):                  0.000   Jarque-Bera (JB):             1113.479\n",
      "Skew:                          -0.832   Prob(JB):                    1.63e-242\n",
      "Kurtosis:                       4.770   Cond. No.                     4.97e+08\n",
      "==============================================================================\n",
      "\n",
      "Warnings:\n",
      "[1] Standard Errors assume that the covariance matrix of the errors is correctly specified.\n",
      "[2] The condition number is large, 4.97e+08. This might indicate that there are\n",
      "strong multicollinearity or other numerical problems.\n"
     ]
    }
   ],
   "source": [
    "m3etcModel=  ols(\"imdb_score~num_voted_users+duration+budget+num_user_for_reviews+num_critic_for_reviews+gross+director_facebook_likes\",m3Regression)\n",
    "m3etc = m3etcModel.fit()\n",
    "print(m3etc.summary())"
   ]
  },
  {
   "cell_type": "markdown",
   "metadata": {
    "slideshow": {
     "slide_type": "slide"
    }
   },
   "source": [
    "# Classification Models\n",
    "\n",
    "- Four classification models developed:\n",
    "    - All models used the comprehensive m3 dataframe\n",
    "    - Overall models did not perform especially well\n",
    "    - Dataframe revisions to include social media factors had a marginal impact\n",
    "    - Rank order of models by accuracy:\n",
    "        - Random Forest Accuracy 0.500\n",
    "        - Full Depth Decision Tree  Accuracy 0.432 \n",
    "        - Simplified 3 Deep Decision Tree Accuracy 0.408\n",
    "        - K Nearest Neighbor Accuracy 0.292\n"
   ]
  },
  {
   "cell_type": "code",
   "execution_count": 321,
   "metadata": {
    "scrolled": true,
    "slideshow": {
     "slide_type": "slide"
    }
   },
   "outputs": [
    {
     "name": "stdout",
     "output_type": "stream",
     "text": [
      "(4529,) (4529, 13)\n"
     ]
    }
   ],
   "source": [
    "y = m3['score_quads']\n",
    "\n",
    "\n",
    "print(y.shape, X.shape)\n"
   ]
  },
  {
   "cell_type": "code",
   "execution_count": 322,
   "metadata": {
    "slideshow": {
     "slide_type": "skip"
    }
   },
   "outputs": [
    {
     "name": "stdout",
     "output_type": "stream",
     "text": [
      "<class 'pandas.core.frame.DataFrame'>\n",
      "Int64Index: 4529 entries, 0 to 4613\n",
      "Data columns (total 30 columns):\n",
      "year_index                   4529 non-null object\n",
      "num_critic_for_reviews       4529 non-null float64\n",
      "duration                     4529 non-null float64\n",
      "director_facebook_likes      4529 non-null float64\n",
      "actor_3_facebook_likes       4529 non-null float64\n",
      "actor_1_facebook_likes       4529 non-null float64\n",
      "gross                        4529 non-null float64\n",
      "genres                       4529 non-null object\n",
      "movie_title                  4529 non-null object\n",
      "num_voted_users              4529 non-null int64\n",
      "cast_total_facebook_likes    4529 non-null int64\n",
      "num_user_for_reviews         4529 non-null float64\n",
      "language                     4529 non-null object\n",
      "country                      4529 non-null object\n",
      "budget                       4529 non-null float64\n",
      "actor_2_facebook_likes       4529 non-null float64\n",
      "imdb_score                   4529 non-null float64\n",
      "movie_facebook_likes         4529 non-null int64\n",
      "profit                       4529 non-null float64\n",
      "foreign_film                 4529 non-null object\n",
      "score_quads                  4529 non-null category\n",
      "rating_NC-17                 4529 non-null uint8\n",
      "rating_Not Rated             4529 non-null uint8\n",
      "rating_PG                    4529 non-null uint8\n",
      "rating_PG-13                 4529 non-null uint8\n",
      "rating_R                     4529 non-null uint8\n",
      "rating_Unrated               4529 non-null uint8\n",
      "rating_X                     4529 non-null uint8\n",
      "origin_Foreign               4529 non-null uint8\n",
      "originlang_Foreign           4529 non-null uint8\n",
      "dtypes: category(1), float64(11), int64(3), object(6), uint8(9)\n",
      "memory usage: 787.5+ KB\n"
     ]
    }
   ],
   "source": [
    "m3.info()\n"
   ]
  },
  {
   "cell_type": "code",
   "execution_count": 323,
   "metadata": {
    "slideshow": {
     "slide_type": "slide"
    }
   },
   "outputs": [],
   "source": [
    "# Test to include all categorical variables\n",
    "X = m3.drop(['score_quads','imdb_score','year_index','genres','movie_title','language','country','foreign_film'], axis=1 )\n"
   ]
  },
  {
   "cell_type": "code",
   "execution_count": 324,
   "metadata": {
    "slideshow": {
     "slide_type": "skip"
    }
   },
   "outputs": [
    {
     "name": "stdout",
     "output_type": "stream",
     "text": [
      "<class 'pandas.core.frame.DataFrame'>\n",
      "Int64Index: 4529 entries, 0 to 4613\n",
      "Data columns (total 22 columns):\n",
      "num_critic_for_reviews       4529 non-null float64\n",
      "duration                     4529 non-null float64\n",
      "director_facebook_likes      4529 non-null float64\n",
      "actor_3_facebook_likes       4529 non-null float64\n",
      "actor_1_facebook_likes       4529 non-null float64\n",
      "gross                        4529 non-null float64\n",
      "num_voted_users              4529 non-null int64\n",
      "cast_total_facebook_likes    4529 non-null int64\n",
      "num_user_for_reviews         4529 non-null float64\n",
      "budget                       4529 non-null float64\n",
      "actor_2_facebook_likes       4529 non-null float64\n",
      "movie_facebook_likes         4529 non-null int64\n",
      "profit                       4529 non-null float64\n",
      "rating_NC-17                 4529 non-null uint8\n",
      "rating_Not Rated             4529 non-null uint8\n",
      "rating_PG                    4529 non-null uint8\n",
      "rating_PG-13                 4529 non-null uint8\n",
      "rating_R                     4529 non-null uint8\n",
      "rating_Unrated               4529 non-null uint8\n",
      "rating_X                     4529 non-null uint8\n",
      "origin_Foreign               4529 non-null uint8\n",
      "originlang_Foreign           4529 non-null uint8\n",
      "dtypes: float64(10), int64(3), uint8(9)\n",
      "memory usage: 535.2 KB\n"
     ]
    }
   ],
   "source": [
    "X.info()"
   ]
  },
  {
   "cell_type": "code",
   "execution_count": 325,
   "metadata": {
    "slideshow": {
     "slide_type": "slide"
    }
   },
   "outputs": [],
   "source": [
    "# Random Forest Model Development\n",
    "\n",
    "X_train, X_test, y_train, y_test = train_test_split(\n",
    "    X, y, test_size=0.3, random_state=42)\n"
   ]
  },
  {
   "cell_type": "code",
   "execution_count": 326,
   "metadata": {
    "slideshow": {
     "slide_type": "slide"
    }
   },
   "outputs": [],
   "source": [
    "from sklearn.ensemble import RandomForestClassifier\n",
    "\n",
    "clf = RandomForestClassifier(n_estimators=20)    #building 20 decision trees\n",
    "clf=clf.fit(X_train, y_train)\n",
    "#clf.score(X_test, y_test)\n",
    "\n",
    "#  Attribution:\n",
    "#  Received ValueError: Unknown label type: 'continuous'.  This was apparently due to the mix of continuous and categorical values.   and to understand the error I refered to https://stackoverflow.com/questions/43211239/valueerror-unknown-label-type-continuous"
   ]
  },
  {
   "cell_type": "code",
   "execution_count": 327,
   "metadata": {
    "slideshow": {
     "slide_type": "slide"
    }
   },
   "outputs": [
    {
     "name": "stdout",
     "output_type": "stream",
     "text": [
      "0.5143487858719646\n",
      "[[249  78  39   7]\n",
      " [100 129  80  17]\n",
      " [ 54  86 162  59]\n",
      " [ 25  30  85 159]]\n",
      "              precision    recall  f1-score   support\n",
      "\n",
      "           1       0.58      0.67      0.62       373\n",
      "           2       0.40      0.40      0.40       326\n",
      "           3       0.44      0.45      0.45       361\n",
      "           4       0.66      0.53      0.59       299\n",
      "\n",
      "    accuracy                           0.51      1359\n",
      "   macro avg       0.52      0.51      0.51      1359\n",
      "weighted avg       0.52      0.51      0.51      1359\n",
      "\n"
     ]
    }
   ],
   "source": [
    "# generate evaluation metrics\n",
    "print(metrics.accuracy_score(y_test, clf.predict(X_test))) #overall accuracy\n",
    "print(metrics.confusion_matrix(y_test, clf.predict(X_test)))\n",
    "print(metrics.classification_report(y_test, clf.predict(X_test)))\n"
   ]
  },
  {
   "cell_type": "code",
   "execution_count": 328,
   "metadata": {
    "slideshow": {
     "slide_type": "skip"
    }
   },
   "outputs": [],
   "source": [
    "# Decision Tree Model"
   ]
  },
  {
   "cell_type": "code",
   "execution_count": 329,
   "metadata": {
    "slideshow": {
     "slide_type": "skip"
    }
   },
   "outputs": [
    {
     "data": {
      "text/plain": [
       "DecisionTreeClassifier(class_weight=None, criterion='gini', max_depth=None,\n",
       "                       max_features=None, max_leaf_nodes=None,\n",
       "                       min_impurity_decrease=0.0, min_impurity_split=None,\n",
       "                       min_samples_leaf=1, min_samples_split=2,\n",
       "                       min_weight_fraction_leaf=0.0, presort=False,\n",
       "                       random_state=None, splitter='best')"
      ]
     },
     "execution_count": 329,
     "metadata": {},
     "output_type": "execute_result"
    }
   ],
   "source": [
    "dt = DecisionTreeClassifier()\n",
    "\n",
    "# Train by using 'fit' and 'train' dataset\n",
    "dt =dt.fit(X_train, y_train)\n",
    "\n",
    "dt"
   ]
  },
  {
   "cell_type": "code",
   "execution_count": 330,
   "metadata": {
    "slideshow": {
     "slide_type": "skip"
    }
   },
   "outputs": [
    {
     "name": "stdout",
     "output_type": "stream",
     "text": [
      "0.4311994113318617\n",
      "--------------------------------------------------------\n",
      "[[185 106  57  25]\n",
      " [ 90 128  83  25]\n",
      " [ 58  96 129  78]\n",
      " [ 21  50  84 144]]\n",
      "--------------------------------------------------------\n",
      "              precision    recall  f1-score   support\n",
      "\n",
      "           1       0.52      0.50      0.51       373\n",
      "           2       0.34      0.39      0.36       326\n",
      "           3       0.37      0.36      0.36       361\n",
      "           4       0.53      0.48      0.50       299\n",
      "\n",
      "    accuracy                           0.43      1359\n",
      "   macro avg       0.44      0.43      0.43      1359\n",
      "weighted avg       0.44      0.43      0.43      1359\n",
      "\n",
      "--------------------------------------------------------\n"
     ]
    }
   ],
   "source": [
    "print(metrics.accuracy_score(y_test, dt.predict(X_test)))\n",
    "print(\"--------------------------------------------------------\")\n",
    "print(metrics.confusion_matrix(y_test, dt.predict(X_test))) \n",
    "print(\"--------------------------------------------------------\")\n",
    "print(metrics.classification_report(y_test, dt.predict(X_test)))\n",
    "print(\"--------------------------------------------------------\")\n",
    "# print(metrics.roc_auc_score(y_test, dt.predict(X_test)))"
   ]
  },
  {
   "cell_type": "code",
   "execution_count": 331,
   "metadata": {
    "slideshow": {
     "slide_type": "skip"
    }
   },
   "outputs": [],
   "source": [
    "# Simplified 3 Deep Decision Tree"
   ]
  },
  {
   "cell_type": "code",
   "execution_count": 332,
   "metadata": {
    "slideshow": {
     "slide_type": "skip"
    }
   },
   "outputs": [
    {
     "data": {
      "text/plain": [
       "DecisionTreeClassifier(class_weight=None, criterion='gini', max_depth=3,\n",
       "                       max_features=None, max_leaf_nodes=None,\n",
       "                       min_impurity_decrease=0.0, min_impurity_split=None,\n",
       "                       min_samples_leaf=5, min_samples_split=2,\n",
       "                       min_weight_fraction_leaf=0.0, presort=False,\n",
       "                       random_state=None, splitter='best')"
      ]
     },
     "execution_count": 332,
     "metadata": {},
     "output_type": "execute_result"
    }
   ],
   "source": [
    "dt_simple = DecisionTreeClassifier(max_depth=3, min_samples_leaf=5)\n",
    "\n",
    "# Train by using 'fit' and 'train' dataset\n",
    "dt_simple =dt_simple.fit(X_train, y_train)\n",
    "\n",
    "dt_simple"
   ]
  },
  {
   "cell_type": "code",
   "execution_count": 333,
   "metadata": {
    "slideshow": {
     "slide_type": "skip"
    }
   },
   "outputs": [
    {
     "name": "stdout",
     "output_type": "stream",
     "text": [
      "0.4083885209713024\n",
      "--------------------------------------------------------\n",
      "[[242  51  68  12]\n",
      " [144  71  93  18]\n",
      " [ 82 106 107  66]\n",
      " [ 44  46  74 135]]\n",
      "--------------------------------------------------------\n",
      "              precision    recall  f1-score   support\n",
      "\n",
      "           1       0.47      0.65      0.55       373\n",
      "           2       0.26      0.22      0.24       326\n",
      "           3       0.31      0.30      0.30       361\n",
      "           4       0.58      0.45      0.51       299\n",
      "\n",
      "    accuracy                           0.41      1359\n",
      "   macro avg       0.41      0.40      0.40      1359\n",
      "weighted avg       0.40      0.41      0.40      1359\n",
      "\n",
      "--------------------------------------------------------\n"
     ]
    }
   ],
   "source": [
    "print(metrics.accuracy_score(y_test, dt_simple.predict(X_test)))\n",
    "print(\"--------------------------------------------------------\")\n",
    "print(metrics.confusion_matrix(y_test, dt_simple.predict(X_test))) \n",
    "print(\"--------------------------------------------------------\")\n",
    "print(metrics.classification_report(y_test, dt_simple.predict(X_test)))\n",
    "print(\"--------------------------------------------------------\")\n",
    "# print(metrics.roc_auc_score(y_test, dt_simple.predict(X_test)))"
   ]
  },
  {
   "cell_type": "code",
   "execution_count": 334,
   "metadata": {
    "slideshow": {
     "slide_type": "skip"
    }
   },
   "outputs": [],
   "source": [
    "#KNN Model Development"
   ]
  },
  {
   "cell_type": "code",
   "execution_count": 335,
   "metadata": {
    "slideshow": {
     "slide_type": "skip"
    }
   },
   "outputs": [
    {
     "data": {
      "text/plain": [
       "KNeighborsClassifier(algorithm='auto', leaf_size=30, metric='minkowski',\n",
       "                     metric_params=None, n_jobs=None, n_neighbors=5, p=2,\n",
       "                     weights='uniform')"
      ]
     },
     "execution_count": 335,
     "metadata": {},
     "output_type": "execute_result"
    }
   ],
   "source": [
    "knn = KNeighborsClassifier()\n",
    "\n",
    "# Train by using 'fit' and 'train' dataset\n",
    "knn =knn.fit(X_train, y_train)\n",
    "\n",
    "knn"
   ]
  },
  {
   "cell_type": "code",
   "execution_count": 336,
   "metadata": {
    "slideshow": {
     "slide_type": "skip"
    }
   },
   "outputs": [
    {
     "name": "stdout",
     "output_type": "stream",
     "text": [
      "0.29212656364974243\n",
      "--------------------------------------------------------\n",
      "[[160 101  75  37]\n",
      " [140  71  64  51]\n",
      " [135  80 107  39]\n",
      " [ 95  64  81  59]]\n",
      "--------------------------------------------------------\n",
      "              precision    recall  f1-score   support\n",
      "\n",
      "           1       0.30      0.43      0.35       373\n",
      "           2       0.22      0.22      0.22       326\n",
      "           3       0.33      0.30      0.31       361\n",
      "           4       0.32      0.20      0.24       299\n",
      "\n",
      "    accuracy                           0.29      1359\n",
      "   macro avg       0.29      0.29      0.28      1359\n",
      "weighted avg       0.29      0.29      0.29      1359\n",
      "\n",
      "--------------------------------------------------------\n"
     ]
    }
   ],
   "source": [
    "print(metrics.accuracy_score(y_test, knn.predict(X_test)))\n",
    "print(\"--------------------------------------------------------\")\n",
    "print(metrics.confusion_matrix(y_test, knn.predict(X_test))) \n",
    "print(\"--------------------------------------------------------\")\n",
    "print(metrics.classification_report(y_test, knn.predict(X_test)))\n",
    "print(\"--------------------------------------------------------\")\n",
    "#print(metrics.roc_auc_score(y_test, knn.predict(X_test)))"
   ]
  },
  {
   "cell_type": "markdown",
   "metadata": {
    "slideshow": {
     "slide_type": "skip"
    }
   },
   "source": [
    "### Extra Tree Classifier"
   ]
  },
  {
   "cell_type": "code",
   "execution_count": 337,
   "metadata": {
    "slideshow": {
     "slide_type": "skip"
    }
   },
   "outputs": [
    {
     "name": "stdout",
     "output_type": "stream",
     "text": [
      "1.0\n"
     ]
    }
   ],
   "source": [
    "model_extra = ExtraTreesClassifier()\n",
    "model_extra.fit(X, y)\n",
    "print(model_extra.score(X, y))"
   ]
  },
  {
   "cell_type": "code",
   "execution_count": 338,
   "metadata": {
    "scrolled": true,
    "slideshow": {
     "slide_type": "skip"
    }
   },
   "outputs": [
    {
     "name": "stdout",
     "output_type": "stream",
     "text": [
      "Features sorted by their rank:\n",
      "[(0.0006, 'rating_NC-17'), (0.001, 'rating_X'), (0.0027, 'rating_Unrated'), (0.0029, 'rating_Not Rated'), (0.0067, 'rating_PG'), (0.0072, 'rating_R'), (0.0082, 'rating_PG-13'), (0.0114, 'originlang_Foreign'), (0.0136, 'origin_Foreign'), (0.0599, 'cast_total_facebook_likes'), (0.0614, 'actor_1_facebook_likes'), (0.064, 'actor_3_facebook_likes'), (0.0651, 'actor_2_facebook_likes'), (0.0675, 'gross'), (0.0675, 'movie_facebook_likes'), (0.0695, 'profit'), (0.0699, 'director_facebook_likes'), (0.0713, 'budget'), (0.0819, 'num_user_for_reviews'), (0.0822, 'num_critic_for_reviews'), (0.0849, 'duration'), (0.1006, 'num_voted_users')]\n"
     ]
    }
   ],
   "source": [
    "print(\"Features sorted by their rank:\")\n",
    "print(sorted(zip([round(x, 4) for x in model_extra.feature_importances_], X.columns)))"
   ]
  },
  {
   "cell_type": "code",
   "execution_count": 339,
   "metadata": {
    "slideshow": {
     "slide_type": "skip"
    }
   },
   "outputs": [
    {
     "data": {
      "text/html": [
       "<div>\n",
       "<style scoped>\n",
       "    .dataframe tbody tr th:only-of-type {\n",
       "        vertical-align: middle;\n",
       "    }\n",
       "\n",
       "    .dataframe tbody tr th {\n",
       "        vertical-align: top;\n",
       "    }\n",
       "\n",
       "    .dataframe thead th {\n",
       "        text-align: right;\n",
       "    }\n",
       "</style>\n",
       "<table border=\"1\" class=\"dataframe\">\n",
       "  <thead>\n",
       "    <tr style=\"text-align: right;\">\n",
       "      <th></th>\n",
       "      <th>importance</th>\n",
       "    </tr>\n",
       "  </thead>\n",
       "  <tbody>\n",
       "    <tr>\n",
       "      <th>num_voted_users</th>\n",
       "      <td>0.100553</td>\n",
       "    </tr>\n",
       "    <tr>\n",
       "      <th>duration</th>\n",
       "      <td>0.084946</td>\n",
       "    </tr>\n",
       "    <tr>\n",
       "      <th>num_critic_for_reviews</th>\n",
       "      <td>0.082202</td>\n",
       "    </tr>\n",
       "    <tr>\n",
       "      <th>num_user_for_reviews</th>\n",
       "      <td>0.081903</td>\n",
       "    </tr>\n",
       "    <tr>\n",
       "      <th>budget</th>\n",
       "      <td>0.071289</td>\n",
       "    </tr>\n",
       "    <tr>\n",
       "      <th>director_facebook_likes</th>\n",
       "      <td>0.069944</td>\n",
       "    </tr>\n",
       "    <tr>\n",
       "      <th>profit</th>\n",
       "      <td>0.069502</td>\n",
       "    </tr>\n",
       "    <tr>\n",
       "      <th>gross</th>\n",
       "      <td>0.067534</td>\n",
       "    </tr>\n",
       "    <tr>\n",
       "      <th>movie_facebook_likes</th>\n",
       "      <td>0.067456</td>\n",
       "    </tr>\n",
       "    <tr>\n",
       "      <th>actor_2_facebook_likes</th>\n",
       "      <td>0.065087</td>\n",
       "    </tr>\n",
       "    <tr>\n",
       "      <th>actor_3_facebook_likes</th>\n",
       "      <td>0.063953</td>\n",
       "    </tr>\n",
       "    <tr>\n",
       "      <th>actor_1_facebook_likes</th>\n",
       "      <td>0.061429</td>\n",
       "    </tr>\n",
       "    <tr>\n",
       "      <th>cast_total_facebook_likes</th>\n",
       "      <td>0.059911</td>\n",
       "    </tr>\n",
       "    <tr>\n",
       "      <th>origin_Foreign</th>\n",
       "      <td>0.013606</td>\n",
       "    </tr>\n",
       "    <tr>\n",
       "      <th>originlang_Foreign</th>\n",
       "      <td>0.011434</td>\n",
       "    </tr>\n",
       "    <tr>\n",
       "      <th>rating_PG-13</th>\n",
       "      <td>0.008195</td>\n",
       "    </tr>\n",
       "    <tr>\n",
       "      <th>rating_R</th>\n",
       "      <td>0.007191</td>\n",
       "    </tr>\n",
       "    <tr>\n",
       "      <th>rating_PG</th>\n",
       "      <td>0.006674</td>\n",
       "    </tr>\n",
       "    <tr>\n",
       "      <th>rating_Not Rated</th>\n",
       "      <td>0.002867</td>\n",
       "    </tr>\n",
       "    <tr>\n",
       "      <th>rating_Unrated</th>\n",
       "      <td>0.002719</td>\n",
       "    </tr>\n",
       "    <tr>\n",
       "      <th>rating_X</th>\n",
       "      <td>0.001012</td>\n",
       "    </tr>\n",
       "    <tr>\n",
       "      <th>rating_NC-17</th>\n",
       "      <td>0.000592</td>\n",
       "    </tr>\n",
       "  </tbody>\n",
       "</table>\n",
       "</div>"
      ],
      "text/plain": [
       "                           importance\n",
       "num_voted_users              0.100553\n",
       "duration                     0.084946\n",
       "num_critic_for_reviews       0.082202\n",
       "num_user_for_reviews         0.081903\n",
       "budget                       0.071289\n",
       "director_facebook_likes      0.069944\n",
       "profit                       0.069502\n",
       "gross                        0.067534\n",
       "movie_facebook_likes         0.067456\n",
       "actor_2_facebook_likes       0.065087\n",
       "actor_3_facebook_likes       0.063953\n",
       "actor_1_facebook_likes       0.061429\n",
       "cast_total_facebook_likes    0.059911\n",
       "origin_Foreign               0.013606\n",
       "originlang_Foreign           0.011434\n",
       "rating_PG-13                 0.008195\n",
       "rating_R                     0.007191\n",
       "rating_PG                    0.006674\n",
       "rating_Not Rated             0.002867\n",
       "rating_Unrated               0.002719\n",
       "rating_X                     0.001012\n",
       "rating_NC-17                 0.000592"
      ]
     },
     "execution_count": 339,
     "metadata": {},
     "output_type": "execute_result"
    }
   ],
   "source": [
    "pd.DataFrame(model_extra.feature_importances_, index = X.columns,\n",
    "                                    columns=['importance']).sort_values('importance', ascending=False)"
   ]
  },
  {
   "cell_type": "code",
   "execution_count": 340,
   "metadata": {
    "slideshow": {
     "slide_type": "skip"
    }
   },
   "outputs": [
    {
     "name": "stdout",
     "output_type": "stream",
     "text": [
      "                            OLS Regression Results                            \n",
      "==============================================================================\n",
      "Dep. Variable:             imdb_score   R-squared:                       0.315\n",
      "Model:                            OLS   Adj. R-squared:                  0.314\n",
      "Method:                 Least Squares   F-statistic:                     297.0\n",
      "Date:                Fri, 06 Dec 2019   Prob (F-statistic):               0.00\n",
      "Time:                        00:05:39   Log-Likelihood:                -6018.2\n",
      "No. Observations:                4529   AIC:                         1.205e+04\n",
      "Df Residuals:                    4521   BIC:                         1.210e+04\n",
      "Df Model:                           7                                         \n",
      "Covariance Type:            nonrobust                                         \n",
      "===========================================================================================\n",
      "                              coef    std err          t      P>|t|      [0.025      0.975]\n",
      "-------------------------------------------------------------------------------------------\n",
      "Intercept                   4.6386      0.073     63.674      0.000       4.496       4.781\n",
      "num_voted_users          3.458e-06    1.8e-07     19.206      0.000    3.11e-06    3.81e-06\n",
      "duration                    0.0141      0.001     20.562      0.000       0.013       0.015\n",
      "budget                  -5.958e-09   4.56e-10    -13.080      0.000   -6.85e-09   -5.07e-09\n",
      "num_user_for_reviews       -0.0004   5.99e-05     -7.206      0.000      -0.001      -0.000\n",
      "num_critic_for_reviews      0.0020      0.000     13.015      0.000       0.002       0.002\n",
      "gross                   -7.282e-10   3.15e-10     -2.310      0.021   -1.35e-09    -1.1e-10\n",
      "director_facebook_likes  7.722e-06   4.96e-06      1.556      0.120   -2.01e-06    1.75e-05\n",
      "==============================================================================\n",
      "Omnibus:                      589.442   Durbin-Watson:                   1.902\n",
      "Prob(Omnibus):                  0.000   Jarque-Bera (JB):             1113.479\n",
      "Skew:                          -0.832   Prob(JB):                    1.63e-242\n",
      "Kurtosis:                       4.770   Cond. No.                     4.97e+08\n",
      "==============================================================================\n",
      "\n",
      "Warnings:\n",
      "[1] Standard Errors assume that the covariance matrix of the errors is correctly specified.\n",
      "[2] The condition number is large, 4.97e+08. This might indicate that there are\n",
      "strong multicollinearity or other numerical problems.\n"
     ]
    }
   ],
   "source": [
    "m3etcModel=  ols(\"imdb_score~num_voted_users+duration+budget+num_user_for_reviews+num_critic_for_reviews+gross+director_facebook_likes\",m3Regression)\n",
    "m3etc = m3etcModel.fit()\n",
    "print(m3etc.summary())\n"
   ]
  },
  {
   "cell_type": "markdown",
   "metadata": {
    "slideshow": {
     "slide_type": "slide"
    }
   },
   "source": [
    "# Cluster Analysis\n",
    "\n",
    "- Two cluster models developed:\n",
    "\n",
    "- All models used the comprehensive m3 dataframe\n",
    "- Elbow method used to determine optimal 5 clusters\n",
    "- Both top clusters are similar, but the K Means has consistently higher values\n",
    "\n"
   ]
  },
  {
   "cell_type": "code",
   "execution_count": 341,
   "metadata": {
    "slideshow": {
     "slide_type": "skip"
    }
   },
   "outputs": [
    {
     "data": {
      "text/plain": [
       "num_critic_for_reviews       1.476838e+04\n",
       "duration                     4.762013e+02\n",
       "director_facebook_likes      8.359520e+06\n",
       "actor_3_facebook_likes       2.916753e+06\n",
       "actor_1_facebook_likes       2.169697e+08\n",
       "gross                        4.154807e+15\n",
       "num_voted_users              2.035825e+10\n",
       "cast_total_facebook_likes    3.249596e+08\n",
       "num_user_for_reviews         1.510568e+05\n",
       "budget                       1.638947e+15\n",
       "actor_2_facebook_likes       1.755938e+07\n",
       "imdb_score                   1.219387e+00\n",
       "movie_facebook_likes         4.012424e+08\n",
       "profit                       2.549962e+15\n",
       "rating_NC-17                 1.543547e-03\n",
       "rating_Not Rated             2.433317e-02\n",
       "rating_PG                    1.297825e-01\n",
       "rating_PG-13                 2.169864e-01\n",
       "rating_R                     2.485533e-01\n",
       "rating_Unrated               1.307534e-02\n",
       "rating_X                     2.862784e-03\n",
       "origin_Foreign               1.769398e-01\n",
       "originlang_Foreign           4.682418e-02\n",
       "dtype: float64"
      ]
     },
     "execution_count": 341,
     "metadata": {},
     "output_type": "execute_result"
    }
   ],
   "source": [
    "m3.var()"
   ]
  },
  {
   "cell_type": "code",
   "execution_count": 342,
   "metadata": {
    "slideshow": {
     "slide_type": "skip"
    }
   },
   "outputs": [
    {
     "name": "stdout",
     "output_type": "stream",
     "text": [
      "<class 'pandas.core.frame.DataFrame'>\n",
      "Int64Index: 4529 entries, 0 to 4613\n",
      "Data columns (total 30 columns):\n",
      "year_index                   4529 non-null object\n",
      "num_critic_for_reviews       4529 non-null float64\n",
      "duration                     4529 non-null float64\n",
      "director_facebook_likes      4529 non-null float64\n",
      "actor_3_facebook_likes       4529 non-null float64\n",
      "actor_1_facebook_likes       4529 non-null float64\n",
      "gross                        4529 non-null float64\n",
      "genres                       4529 non-null object\n",
      "movie_title                  4529 non-null object\n",
      "num_voted_users              4529 non-null int64\n",
      "cast_total_facebook_likes    4529 non-null int64\n",
      "num_user_for_reviews         4529 non-null float64\n",
      "language                     4529 non-null object\n",
      "country                      4529 non-null object\n",
      "budget                       4529 non-null float64\n",
      "actor_2_facebook_likes       4529 non-null float64\n",
      "imdb_score                   4529 non-null float64\n",
      "movie_facebook_likes         4529 non-null int64\n",
      "profit                       4529 non-null float64\n",
      "foreign_film                 4529 non-null object\n",
      "score_quads                  4529 non-null category\n",
      "rating_NC-17                 4529 non-null uint8\n",
      "rating_Not Rated             4529 non-null uint8\n",
      "rating_PG                    4529 non-null uint8\n",
      "rating_PG-13                 4529 non-null uint8\n",
      "rating_R                     4529 non-null uint8\n",
      "rating_Unrated               4529 non-null uint8\n",
      "rating_X                     4529 non-null uint8\n",
      "origin_Foreign               4529 non-null uint8\n",
      "originlang_Foreign           4529 non-null uint8\n",
      "dtypes: category(1), float64(11), int64(3), object(6), uint8(9)\n",
      "memory usage: 787.5+ KB\n"
     ]
    }
   ],
   "source": [
    "m3.info()"
   ]
  },
  {
   "cell_type": "code",
   "execution_count": 343,
   "metadata": {
    "slideshow": {
     "slide_type": "skip"
    }
   },
   "outputs": [
    {
     "name": "stdout",
     "output_type": "stream",
     "text": [
      "<class 'pandas.core.frame.DataFrame'>\n",
      "Int64Index: 4529 entries, 0 to 4613\n",
      "Data columns (total 24 columns):\n",
      "year_index                   4529 non-null object\n",
      "num_critic_for_reviews       4529 non-null float64\n",
      "duration                     4529 non-null float64\n",
      "director_facebook_likes      4529 non-null float64\n",
      "actor_3_facebook_likes       4529 non-null float64\n",
      "actor_1_facebook_likes       4529 non-null float64\n",
      "gross                        4529 non-null float64\n",
      "genres                       4529 non-null object\n",
      "movie_title                  4529 non-null object\n",
      "num_voted_users              4529 non-null int64\n",
      "cast_total_facebook_likes    4529 non-null int64\n",
      "num_user_for_reviews         4529 non-null float64\n",
      "language                     4529 non-null object\n",
      "country                      4529 non-null object\n",
      "content_rating               4529 non-null object\n",
      "budget                       4529 non-null float64\n",
      "actor_2_facebook_likes       4529 non-null float64\n",
      "imdb_score                   4529 non-null float64\n",
      "movie_facebook_likes         4529 non-null int64\n",
      "profit                       4529 non-null float64\n",
      "foreign_film                 4529 non-null object\n",
      "origin                       4529 non-null object\n",
      "origin_language              4529 non-null object\n",
      "score_quads                  4529 non-null category\n",
      "dtypes: category(1), float64(11), int64(3), object(9)\n",
      "memory usage: 853.8+ KB\n"
     ]
    }
   ],
   "source": [
    "m3Regression.info()"
   ]
  },
  {
   "cell_type": "code",
   "execution_count": 344,
   "metadata": {
    "slideshow": {
     "slide_type": "notes"
    }
   },
   "outputs": [],
   "source": [
    "\n",
    "\n",
    "m3Regression = m3Regression.drop(['score_quads','year_index','genres','movie_title','language','country','content_rating','foreign_film','origin','origin_language'], axis=1 )\n",
    "\n"
   ]
  },
  {
   "cell_type": "code",
   "execution_count": 345,
   "metadata": {
    "slideshow": {
     "slide_type": "skip"
    }
   },
   "outputs": [
    {
     "data": {
      "text/plain": [
       "imdb_score                   1.000000\n",
       "num_voted_users              0.449661\n",
       "duration                     0.367885\n",
       "num_critic_for_reviews       0.355673\n",
       "num_user_for_reviews         0.321989\n",
       "movie_facebook_likes         0.273153\n",
       "profit                       0.191202\n",
       "gross                        0.185630\n",
       "director_facebook_likes      0.183960\n",
       "cast_total_facebook_likes    0.107403\n",
       "actor_2_facebook_likes       0.100175\n",
       "actor_1_facebook_likes       0.095677\n",
       "actor_3_facebook_likes       0.064808\n",
       "budget                       0.057063\n",
       "Name: imdb_score, dtype: float64"
      ]
     },
     "execution_count": 345,
     "metadata": {},
     "output_type": "execute_result"
    }
   ],
   "source": [
    "m3Regression.corr()['imdb_score'].sort_values(ascending=False)"
   ]
  },
  {
   "cell_type": "code",
   "execution_count": 346,
   "metadata": {
    "slideshow": {
     "slide_type": "skip"
    }
   },
   "outputs": [
    {
     "name": "stdout",
     "output_type": "stream",
     "text": [
      "<class 'pandas.core.frame.DataFrame'>\n",
      "Int64Index: 4529 entries, 0 to 4613\n",
      "Data columns (total 14 columns):\n",
      "num_critic_for_reviews       4529 non-null float64\n",
      "duration                     4529 non-null float64\n",
      "director_facebook_likes      4529 non-null float64\n",
      "actor_3_facebook_likes       4529 non-null float64\n",
      "actor_1_facebook_likes       4529 non-null float64\n",
      "gross                        4529 non-null float64\n",
      "num_voted_users              4529 non-null int64\n",
      "cast_total_facebook_likes    4529 non-null int64\n",
      "num_user_for_reviews         4529 non-null float64\n",
      "budget                       4529 non-null float64\n",
      "actor_2_facebook_likes       4529 non-null float64\n",
      "imdb_score                   4529 non-null float64\n",
      "movie_facebook_likes         4529 non-null int64\n",
      "profit                       4529 non-null float64\n",
      "dtypes: float64(11), int64(3)\n",
      "memory usage: 530.7 KB\n"
     ]
    }
   ],
   "source": [
    "m3Regression.info()"
   ]
  },
  {
   "cell_type": "code",
   "execution_count": 347,
   "metadata": {
    "slideshow": {
     "slide_type": "skip"
    }
   },
   "outputs": [],
   "source": [
    "m3Regression = m3Regression.drop(['budget','profit','actor_3_facebook_likes','actor_2_facebook_likes','actor_1_facebook_likes'], axis=1 )"
   ]
  },
  {
   "cell_type": "code",
   "execution_count": 348,
   "metadata": {
    "slideshow": {
     "slide_type": "skip"
    }
   },
   "outputs": [
    {
     "data": {
      "text/html": [
       "<div>\n",
       "<style scoped>\n",
       "    .dataframe tbody tr th:only-of-type {\n",
       "        vertical-align: middle;\n",
       "    }\n",
       "\n",
       "    .dataframe tbody tr th {\n",
       "        vertical-align: top;\n",
       "    }\n",
       "\n",
       "    .dataframe thead th {\n",
       "        text-align: right;\n",
       "    }\n",
       "</style>\n",
       "<table border=\"1\" class=\"dataframe\">\n",
       "  <thead>\n",
       "    <tr style=\"text-align: right;\">\n",
       "      <th></th>\n",
       "      <th>num_critic_for_reviews</th>\n",
       "      <th>duration</th>\n",
       "      <th>director_facebook_likes</th>\n",
       "      <th>gross</th>\n",
       "      <th>num_voted_users</th>\n",
       "      <th>cast_total_facebook_likes</th>\n",
       "      <th>num_user_for_reviews</th>\n",
       "      <th>imdb_score</th>\n",
       "      <th>movie_facebook_likes</th>\n",
       "    </tr>\n",
       "  </thead>\n",
       "  <tbody>\n",
       "    <tr>\n",
       "      <th>0</th>\n",
       "      <td>0.705537</td>\n",
       "      <td>0.224088</td>\n",
       "      <td>-0.031377</td>\n",
       "      <td>0.935303</td>\n",
       "      <td>0.470996</td>\n",
       "      <td>-0.008348</td>\n",
       "      <td>0.545894</td>\n",
       "      <td>0.193460</td>\n",
       "      <td>0.071387</td>\n",
       "    </tr>\n",
       "    <tr>\n",
       "      <th>1</th>\n",
       "      <td>0.187065</td>\n",
       "      <td>0.195056</td>\n",
       "      <td>-0.006899</td>\n",
       "      <td>0.342142</td>\n",
       "      <td>0.225409</td>\n",
       "      <td>0.057913</td>\n",
       "      <td>0.186930</td>\n",
       "      <td>0.089564</td>\n",
       "      <td>-0.023169</td>\n",
       "    </tr>\n",
       "    <tr>\n",
       "      <th>2</th>\n",
       "      <td>0.556523</td>\n",
       "      <td>0.127314</td>\n",
       "      <td>-0.031377</td>\n",
       "      <td>0.198383</td>\n",
       "      <td>0.109799</td>\n",
       "      <td>0.002106</td>\n",
       "      <td>0.138699</td>\n",
       "      <td>0.050603</td>\n",
       "      <td>0.220384</td>\n",
       "    </tr>\n",
       "    <tr>\n",
       "      <th>3</th>\n",
       "      <td>0.816375</td>\n",
       "      <td>0.178926</td>\n",
       "      <td>0.925144</td>\n",
       "      <td>0.524556</td>\n",
       "      <td>0.623760</td>\n",
       "      <td>0.146852</td>\n",
       "      <td>0.476118</td>\n",
       "      <td>0.271382</td>\n",
       "      <td>0.446745</td>\n",
       "    </tr>\n",
       "    <tr>\n",
       "      <th>4</th>\n",
       "      <td>0.384109</td>\n",
       "      <td>0.075701</td>\n",
       "      <td>-0.010725</td>\n",
       "      <td>0.031368</td>\n",
       "      <td>0.072123</td>\n",
       "      <td>-0.012857</td>\n",
       "      <td>0.088096</td>\n",
       "      <td>0.024629</td>\n",
       "      <td>0.045599</td>\n",
       "    </tr>\n",
       "  </tbody>\n",
       "</table>\n",
       "</div>"
      ],
      "text/plain": [
       "   num_critic_for_reviews  duration  director_facebook_likes     gross  \\\n",
       "0                0.705537  0.224088                -0.031377  0.935303   \n",
       "1                0.187065  0.195056                -0.006899  0.342142   \n",
       "2                0.556523  0.127314                -0.031377  0.198383   \n",
       "3                0.816375  0.178926                 0.925144  0.524556   \n",
       "4                0.384109  0.075701                -0.010725  0.031368   \n",
       "\n",
       "   num_voted_users  cast_total_facebook_likes  num_user_for_reviews  \\\n",
       "0         0.470996                  -0.008348              0.545894   \n",
       "1         0.225409                   0.057913              0.186930   \n",
       "2         0.109799                   0.002106              0.138699   \n",
       "3         0.623760                   0.146852              0.476118   \n",
       "4         0.072123                  -0.012857              0.088096   \n",
       "\n",
       "   imdb_score  movie_facebook_likes  \n",
       "0    0.193460              0.071387  \n",
       "1    0.089564             -0.023169  \n",
       "2    0.050603              0.220384  \n",
       "3    0.271382              0.446745  \n",
       "4    0.024629              0.045599  "
      ]
     },
     "execution_count": 348,
     "metadata": {},
     "output_type": "execute_result"
    }
   ],
   "source": [
    "# Normalization\n",
    "\n",
    "X_norm = (m3Regression - m3Regression.mean())/(m3Regression.max()-m3Regression.min())\n",
    "X_norm.head()\n",
    "\n"
   ]
  },
  {
   "cell_type": "code",
   "execution_count": 349,
   "metadata": {
    "slideshow": {
     "slide_type": "skip"
    }
   },
   "outputs": [],
   "source": [
    "# K-means\n",
    "from sklearn.cluster import KMeans"
   ]
  },
  {
   "cell_type": "markdown",
   "metadata": {
    "slideshow": {
     "slide_type": "slide"
    }
   },
   "source": [
    "### Elbow Method of Optimal Number of Clusters"
   ]
  },
  {
   "cell_type": "code",
   "execution_count": 350,
   "metadata": {
    "slideshow": {
     "slide_type": "slide"
    }
   },
   "outputs": [
    {
     "data": {
      "text/plain": [
       "Text(0.5, 1.0, 'Selecting k with the Elbow Method')"
      ]
     },
     "execution_count": 350,
     "metadata": {},
     "output_type": "execute_result"
    },
    {
     "data": {
      "image/png": "[encoded data removed]",
      "text/plain": [
       "<Figure size 432x288 with 1 Axes>"
      ]
     },
     "metadata": {
      "needs_background": "light"
     },
     "output_type": "display_data"
    }
   ],
   "source": [
    "#The Elbow method\n",
    "\n",
    "from scipy.spatial.distance import cdist \n",
    "\n",
    "K = range(1, 10) \n",
    "\n",
    "meandistortions = []\n",
    "\n",
    "for k in K: \n",
    "    kmeans = KMeans(n_clusters=k, random_state=1) \n",
    "    kmeans.fit(X_norm) \n",
    "    meandistortions.append(sum(np.min(cdist(X_norm, kmeans.cluster_centers_, 'euclidean'), axis=1)) / X_norm.shape[0]) \n",
    "\n",
    "plt.plot(K, meandistortions, 'bx-') \n",
    "plt.xlabel('k') \n",
    "plt.ylabel('Average distortion') \n",
    "plt.title('Selecting k with the Elbow Method') "
   ]
  },
  {
   "cell_type": "markdown",
   "metadata": {
    "slideshow": {
     "slide_type": "slide"
    }
   },
   "source": [
    "### K Means Clustering"
   ]
  },
  {
   "cell_type": "code",
   "execution_count": 351,
   "metadata": {
    "slideshow": {
     "slide_type": "skip"
    }
   },
   "outputs": [],
   "source": [
    "k_means = KMeans(init='k-means++', n_clusters=5, random_state=0)"
   ]
  },
  {
   "cell_type": "code",
   "execution_count": 352,
   "metadata": {
    "slideshow": {
     "slide_type": "skip"
    }
   },
   "outputs": [
    {
     "data": {
      "text/plain": [
       "KMeans(algorithm='auto', copy_x=True, init='k-means++', max_iter=300,\n",
       "       n_clusters=5, n_init=10, n_jobs=None, precompute_distances='auto',\n",
       "       random_state=0, tol=0.0001, verbose=0)"
      ]
     },
     "execution_count": 352,
     "metadata": {},
     "output_type": "execute_result"
    }
   ],
   "source": [
    "k_means.fit(X_norm)"
   ]
  },
  {
   "cell_type": "code",
   "execution_count": 353,
   "metadata": {
    "slideshow": {
     "slide_type": "skip"
    }
   },
   "outputs": [
    {
     "data": {
      "text/plain": [
       "array([3, 3, 3, ..., 4, 4, 4])"
      ]
     },
     "execution_count": 353,
     "metadata": {},
     "output_type": "execute_result"
    }
   ],
   "source": [
    "k_means.labels_"
   ]
  },
  {
   "cell_type": "code",
   "execution_count": 354,
   "metadata": {
    "slideshow": {
     "slide_type": "skip"
    }
   },
   "outputs": [
    {
     "data": {
      "text/plain": [
       "array([[ 0.11902136,  0.00843906, -0.02131374,  0.01072739,  0.02477091,\n",
       "         0.00556161,  0.02446029,  0.05245684,  0.01534569],\n",
       "       [ 0.1074046 ,  0.05328689,  0.6090523 ,  0.05197596,  0.10472191,\n",
       "         0.01486603,  0.07056982,  0.11546361,  0.03506251],\n",
       "       [-0.09013946, -0.03701449, -0.02713989, -0.02221116, -0.0404437 ,\n",
       "        -0.00524688, -0.0314411 , -0.18854422, -0.01987381],\n",
       "       [ 0.31959721,  0.06901783, -0.01850106,  0.17665211,  0.1968735 ,\n",
       "         0.0169818 ,  0.16190851,  0.14095369,  0.11585605],\n",
       "       [-0.07800644,  0.00173326, -0.0253895 , -0.02504923, -0.03076099,\n",
       "        -0.00426439, -0.02746836,  0.04998442, -0.01844621]])"
      ]
     },
     "execution_count": 354,
     "metadata": {},
     "output_type": "execute_result"
    }
   ],
   "source": [
    "k_means.cluster_centers_"
   ]
  },
  {
   "cell_type": "code",
   "execution_count": 355,
   "metadata": {
    "slideshow": {
     "slide_type": "skip"
    }
   },
   "outputs": [
    {
     "data": {
      "text/html": [
       "<div>\n",
       "<style scoped>\n",
       "    .dataframe tbody tr th:only-of-type {\n",
       "        vertical-align: middle;\n",
       "    }\n",
       "\n",
       "    .dataframe tbody tr th {\n",
       "        vertical-align: top;\n",
       "    }\n",
       "\n",
       "    .dataframe thead th {\n",
       "        text-align: right;\n",
       "    }\n",
       "</style>\n",
       "<table border=\"1\" class=\"dataframe\">\n",
       "  <thead>\n",
       "    <tr style=\"text-align: right;\">\n",
       "      <th></th>\n",
       "      <th>cluster</th>\n",
       "    </tr>\n",
       "  </thead>\n",
       "  <tbody>\n",
       "    <tr>\n",
       "      <th>0</th>\n",
       "      <td>3</td>\n",
       "    </tr>\n",
       "    <tr>\n",
       "      <th>1</th>\n",
       "      <td>3</td>\n",
       "    </tr>\n",
       "    <tr>\n",
       "      <th>2</th>\n",
       "      <td>3</td>\n",
       "    </tr>\n",
       "    <tr>\n",
       "      <th>3</th>\n",
       "      <td>1</td>\n",
       "    </tr>\n",
       "    <tr>\n",
       "      <th>4</th>\n",
       "      <td>3</td>\n",
       "    </tr>\n",
       "  </tbody>\n",
       "</table>\n",
       "</div>"
      ],
      "text/plain": [
       "   cluster\n",
       "0        3\n",
       "1        3\n",
       "2        3\n",
       "3        1\n",
       "4        3"
      ]
     },
     "execution_count": 355,
     "metadata": {},
     "output_type": "execute_result"
    }
   ],
   "source": [
    "m3Regression1 = pd.DataFrame(k_means.labels_, columns = ['cluster'])\n",
    "m3Regression1.head()\n",
    "\n"
   ]
  },
  {
   "cell_type": "code",
   "execution_count": 356,
   "metadata": {
    "slideshow": {
     "slide_type": "skip"
    }
   },
   "outputs": [
    {
     "data": {
      "text/html": [
       "<div>\n",
       "<style scoped>\n",
       "    .dataframe tbody tr th:only-of-type {\n",
       "        vertical-align: middle;\n",
       "    }\n",
       "\n",
       "    .dataframe tbody tr th {\n",
       "        vertical-align: top;\n",
       "    }\n",
       "\n",
       "    .dataframe thead th {\n",
       "        text-align: right;\n",
       "    }\n",
       "</style>\n",
       "<table border=\"1\" class=\"dataframe\">\n",
       "  <thead>\n",
       "    <tr style=\"text-align: right;\">\n",
       "      <th></th>\n",
       "      <th>num_critic_for_reviews</th>\n",
       "      <th>duration</th>\n",
       "      <th>director_facebook_likes</th>\n",
       "      <th>gross</th>\n",
       "      <th>num_voted_users</th>\n",
       "      <th>cast_total_facebook_likes</th>\n",
       "      <th>num_user_for_reviews</th>\n",
       "      <th>imdb_score</th>\n",
       "      <th>movie_facebook_likes</th>\n",
       "      <th>cluster</th>\n",
       "    </tr>\n",
       "  </thead>\n",
       "  <tbody>\n",
       "    <tr>\n",
       "      <th>0</th>\n",
       "      <td>723.0</td>\n",
       "      <td>178.0</td>\n",
       "      <td>0.0</td>\n",
       "      <td>760505847.0</td>\n",
       "      <td>886204</td>\n",
       "      <td>4834</td>\n",
       "      <td>3054.0</td>\n",
       "      <td>7.9</td>\n",
       "      <td>33000</td>\n",
       "      <td>3</td>\n",
       "    </tr>\n",
       "    <tr>\n",
       "      <th>1</th>\n",
       "      <td>302.0</td>\n",
       "      <td>169.0</td>\n",
       "      <td>563.0</td>\n",
       "      <td>309404152.0</td>\n",
       "      <td>471220</td>\n",
       "      <td>48350</td>\n",
       "      <td>1238.0</td>\n",
       "      <td>7.1</td>\n",
       "      <td>0</td>\n",
       "      <td>3</td>\n",
       "    </tr>\n",
       "    <tr>\n",
       "      <th>2</th>\n",
       "      <td>602.0</td>\n",
       "      <td>148.0</td>\n",
       "      <td>0.0</td>\n",
       "      <td>200074175.0</td>\n",
       "      <td>275868</td>\n",
       "      <td>11700</td>\n",
       "      <td>994.0</td>\n",
       "      <td>6.8</td>\n",
       "      <td>85000</td>\n",
       "      <td>3</td>\n",
       "    </tr>\n",
       "    <tr>\n",
       "      <th>3</th>\n",
       "      <td>813.0</td>\n",
       "      <td>164.0</td>\n",
       "      <td>22000.0</td>\n",
       "      <td>448130642.0</td>\n",
       "      <td>1144337</td>\n",
       "      <td>106759</td>\n",
       "      <td>2701.0</td>\n",
       "      <td>8.5</td>\n",
       "      <td>164000</td>\n",
       "      <td>1</td>\n",
       "    </tr>\n",
       "    <tr>\n",
       "      <th>4</th>\n",
       "      <td>462.0</td>\n",
       "      <td>132.0</td>\n",
       "      <td>475.0</td>\n",
       "      <td>73058679.0</td>\n",
       "      <td>212204</td>\n",
       "      <td>1873</td>\n",
       "      <td>738.0</td>\n",
       "      <td>6.6</td>\n",
       "      <td>24000</td>\n",
       "      <td>3</td>\n",
       "    </tr>\n",
       "  </tbody>\n",
       "</table>\n",
       "</div>"
      ],
      "text/plain": [
       "   num_critic_for_reviews  duration  director_facebook_likes        gross  \\\n",
       "0                   723.0     178.0                      0.0  760505847.0   \n",
       "1                   302.0     169.0                    563.0  309404152.0   \n",
       "2                   602.0     148.0                      0.0  200074175.0   \n",
       "3                   813.0     164.0                  22000.0  448130642.0   \n",
       "4                   462.0     132.0                    475.0   73058679.0   \n",
       "\n",
       "   num_voted_users  cast_total_facebook_likes  num_user_for_reviews  \\\n",
       "0           886204                       4834                3054.0   \n",
       "1           471220                      48350                1238.0   \n",
       "2           275868                      11700                 994.0   \n",
       "3          1144337                     106759                2701.0   \n",
       "4           212204                       1873                 738.0   \n",
       "\n",
       "   imdb_score  movie_facebook_likes  cluster  \n",
       "0         7.9                 33000        3  \n",
       "1         7.1                     0        3  \n",
       "2         6.8                 85000        3  \n",
       "3         8.5                164000        1  \n",
       "4         6.6                 24000        3  "
      ]
     },
     "execution_count": 356,
     "metadata": {},
     "output_type": "execute_result"
    }
   ],
   "source": [
    "m3Regression = m3Regression.reset_index(drop=True)\n",
    "m3Regression1 = m3Regression1.reset_index(drop=True)\n",
    "\n",
    "m3Regression3 = m3Regression.join(m3Regression1)\n",
    "m3Regression3.head()"
   ]
  },
  {
   "cell_type": "code",
   "execution_count": 357,
   "metadata": {
    "scrolled": true,
    "slideshow": {
     "slide_type": "slide"
    }
   },
   "outputs": [
    {
     "data": {
      "text/plain": [
       "<matplotlib.axes._subplots.AxesSubplot at 0x2736c196ef0>"
      ]
     },
     "execution_count": 357,
     "metadata": {},
     "output_type": "execute_result"
    },
    {
     "data": {
      "image/png": "[encoded data removed]",
      "text/plain": [
       "<Figure size 432x288 with 1 Axes>"
      ]
     },
     "metadata": {
      "needs_background": "light"
     },
     "output_type": "display_data"
    }
   ],
   "source": [
    "m3Regression3.groupby('cluster')['imdb_score'].mean().sort_values(ascending=True).plot(kind='barh')\n"
   ]
  },
  {
   "cell_type": "markdown",
   "metadata": {
    "slideshow": {
     "slide_type": "slide"
    }
   },
   "source": [
    "   - Top Performing K Means Cluster (Cluster 3) IMDB Score:  7.50\n",
    "    \n",
    "        - Duration:                  129.93\n",
    "        - Director Facebook Likes:   296\n",
    "        - Gross:                     183.55 Million\n",
    "        - Number Voted Users:        423003\n",
    "        - Cast Total Facebook Likes: 21469\n",
    "        - Number User for Reviews:   1111\n",
    "        - Movie Facebook Likes:      48520\n",
    "        \n"
   ]
  },
  {
   "cell_type": "code",
   "execution_count": 358,
   "metadata": {
    "slideshow": {
     "slide_type": "skip"
    }
   },
   "outputs": [],
   "source": [
    "cluster2 = m3Regression3[(m3Regression3['cluster']==2)]\n",
    "\n",
    " "
   ]
  },
  {
   "cell_type": "code",
   "execution_count": 359,
   "metadata": {
    "slideshow": {
     "slide_type": "skip"
    }
   },
   "outputs": [
    {
     "data": {
      "text/plain": [
       "num_critic_for_reviews       7.691031e+01\n",
       "duration                     9.705830e+01\n",
       "director_facebook_likes      9.746457e+01\n",
       "gross                        3.231123e+07\n",
       "num_voted_users              2.199383e+04\n",
       "cast_total_facebook_likes    6.870847e+03\n",
       "num_user_for_reviews         1.332601e+02\n",
       "imdb_score                   4.958565e+00\n",
       "movie_facebook_likes         1.149995e+03\n",
       "cluster                      2.000000e+00\n",
       "dtype: float64"
      ]
     },
     "execution_count": 359,
     "metadata": {},
     "output_type": "execute_result"
    }
   ],
   "source": [
    "cluster2.mean()"
   ]
  },
  {
   "cell_type": "code",
   "execution_count": 360,
   "metadata": {
    "slideshow": {
     "slide_type": "skip"
    }
   },
   "outputs": [
    {
     "data": {
      "text/html": [
       "<div>\n",
       "<style scoped>\n",
       "    .dataframe tbody tr th:only-of-type {\n",
       "        vertical-align: middle;\n",
       "    }\n",
       "\n",
       "    .dataframe tbody tr th {\n",
       "        vertical-align: top;\n",
       "    }\n",
       "\n",
       "    .dataframe thead th {\n",
       "        text-align: right;\n",
       "    }\n",
       "</style>\n",
       "<table border=\"1\" class=\"dataframe\">\n",
       "  <thead>\n",
       "    <tr style=\"text-align: right;\">\n",
       "      <th></th>\n",
       "      <th>num_critic_for_reviews</th>\n",
       "      <th>duration</th>\n",
       "      <th>director_facebook_likes</th>\n",
       "      <th>gross</th>\n",
       "      <th>num_voted_users</th>\n",
       "      <th>cast_total_facebook_likes</th>\n",
       "      <th>num_user_for_reviews</th>\n",
       "      <th>imdb_score</th>\n",
       "      <th>movie_facebook_likes</th>\n",
       "      <th>cluster</th>\n",
       "    </tr>\n",
       "  </thead>\n",
       "  <tbody>\n",
       "    <tr>\n",
       "      <th>70</th>\n",
       "      <td>85.0</td>\n",
       "      <td>106.0</td>\n",
       "      <td>188.0</td>\n",
       "      <td>113745408.0</td>\n",
       "      <td>129601</td>\n",
       "      <td>15870</td>\n",
       "      <td>648.0</td>\n",
       "      <td>4.8</td>\n",
       "      <td>0</td>\n",
       "      <td>2</td>\n",
       "    </tr>\n",
       "    <tr>\n",
       "      <th>73</th>\n",
       "      <td>186.0</td>\n",
       "      <td>96.0</td>\n",
       "      <td>293.0</td>\n",
       "      <td>100289690.0</td>\n",
       "      <td>115099</td>\n",
       "      <td>108016</td>\n",
       "      <td>257.0</td>\n",
       "      <td>5.4</td>\n",
       "      <td>2000</td>\n",
       "      <td>2</td>\n",
       "    </tr>\n",
       "    <tr>\n",
       "      <th>83</th>\n",
       "      <td>10.0</td>\n",
       "      <td>109.0</td>\n",
       "      <td>596.0</td>\n",
       "      <td>48468407.0</td>\n",
       "      <td>2138</td>\n",
       "      <td>1982</td>\n",
       "      <td>15.0</td>\n",
       "      <td>4.5</td>\n",
       "      <td>677</td>\n",
       "      <td>2</td>\n",
       "    </tr>\n",
       "    <tr>\n",
       "      <th>130</th>\n",
       "      <td>145.0</td>\n",
       "      <td>88.0</td>\n",
       "      <td>12.0</td>\n",
       "      <td>119420252.0</td>\n",
       "      <td>33042</td>\n",
       "      <td>2217</td>\n",
       "      <td>90.0</td>\n",
       "      <td>5.1</td>\n",
       "      <td>0</td>\n",
       "      <td>2</td>\n",
       "    </tr>\n",
       "    <tr>\n",
       "      <th>137</th>\n",
       "      <td>280.0</td>\n",
       "      <td>103.0</td>\n",
       "      <td>0.0</td>\n",
       "      <td>131564731.0</td>\n",
       "      <td>118951</td>\n",
       "      <td>2857</td>\n",
       "      <td>1382.0</td>\n",
       "      <td>4.2</td>\n",
       "      <td>18000</td>\n",
       "      <td>2</td>\n",
       "    </tr>\n",
       "  </tbody>\n",
       "</table>\n",
       "</div>"
      ],
      "text/plain": [
       "     num_critic_for_reviews  duration  director_facebook_likes        gross  \\\n",
       "70                     85.0     106.0                    188.0  113745408.0   \n",
       "73                    186.0      96.0                    293.0  100289690.0   \n",
       "83                     10.0     109.0                    596.0   48468407.0   \n",
       "130                   145.0      88.0                     12.0  119420252.0   \n",
       "137                   280.0     103.0                      0.0  131564731.0   \n",
       "\n",
       "     num_voted_users  cast_total_facebook_likes  num_user_for_reviews  \\\n",
       "70            129601                      15870                 648.0   \n",
       "73            115099                     108016                 257.0   \n",
       "83              2138                       1982                  15.0   \n",
       "130            33042                       2217                  90.0   \n",
       "137           118951                       2857                1382.0   \n",
       "\n",
       "     imdb_score  movie_facebook_likes  cluster  \n",
       "70          4.8                     0        2  \n",
       "73          5.4                  2000        2  \n",
       "83          4.5                   677        2  \n",
       "130         5.1                     0        2  \n",
       "137         4.2                 18000        2  "
      ]
     },
     "execution_count": 360,
     "metadata": {},
     "output_type": "execute_result"
    }
   ],
   "source": [
    "cluster2.head()\n",
    "\n"
   ]
  },
  {
   "cell_type": "code",
   "execution_count": 361,
   "metadata": {
    "slideshow": {
     "slide_type": "skip"
    }
   },
   "outputs": [
    {
     "data": {
      "text/plain": [
       "num_critic_for_reviews       2.467489e+02\n",
       "duration                     1.111489e+02\n",
       "director_facebook_likes      2.314661e+02\n",
       "gross                        5.736119e+07\n",
       "num_voted_users              1.321907e+05\n",
       "cast_total_facebook_likes    1.396910e+04\n",
       "num_user_for_reviews         4.160652e+02\n",
       "imdb_score                   6.814273e+00\n",
       "movie_facebook_likes         1.344160e+04\n",
       "cluster                      0.000000e+00\n",
       "dtype: float64"
      ]
     },
     "execution_count": 361,
     "metadata": {},
     "output_type": "execute_result"
    }
   ],
   "source": [
    "m3Regression3[(m3Regression3['cluster']==0)].mean()"
   ]
  },
  {
   "cell_type": "code",
   "execution_count": 362,
   "metadata": {
    "slideshow": {
     "slide_type": "skip"
    }
   },
   "outputs": [
    {
     "data": {
      "text/plain": [
       "num_critic_for_reviews       2.373161e+02\n",
       "duration                     1.250517e+02\n",
       "director_facebook_likes      1.472989e+04\n",
       "gross                        8.873096e+07\n",
       "num_voted_users              2.672886e+05\n",
       "cast_total_facebook_likes    2.007959e+04\n",
       "num_user_for_reviews         6.493333e+02\n",
       "imdb_score                   7.299425e+00\n",
       "movie_facebook_likes         2.032277e+04\n",
       "cluster                      1.000000e+00\n",
       "dtype: float64"
      ]
     },
     "execution_count": 362,
     "metadata": {},
     "output_type": "execute_result"
    }
   ],
   "source": [
    "m3Regression3[(m3Regression3['cluster']==1)].mean()"
   ]
  },
  {
   "cell_type": "code",
   "execution_count": 363,
   "metadata": {
    "slideshow": {
     "slide_type": "skip"
    }
   },
   "outputs": [
    {
     "data": {
      "text/plain": [
       "num_critic_for_reviews       4.096165e+02\n",
       "duration                     1.299283e+02\n",
       "director_facebook_likes      2.961577e+02\n",
       "gross                        1.835479e+08\n",
       "num_voted_users              4.230025e+05\n",
       "cast_total_facebook_likes    2.146908e+04\n",
       "num_user_for_reviews         1.111416e+03\n",
       "imdb_score                   7.495699e+00\n",
       "movie_facebook_likes         4.851971e+04\n",
       "cluster                      3.000000e+00\n",
       "dtype: float64"
      ]
     },
     "execution_count": 363,
     "metadata": {},
     "output_type": "execute_result"
    }
   ],
   "source": [
    "m3Regression3[(m3Regression3['cluster']==3)].mean()"
   ]
  },
  {
   "cell_type": "code",
   "execution_count": 364,
   "metadata": {
    "slideshow": {
     "slide_type": "skip"
    }
   },
   "outputs": [
    {
     "data": {
      "text/plain": [
       "num_critic_for_reviews       8.676232e+01\n",
       "duration                     1.090701e+02\n",
       "director_facebook_likes      1.377234e+02\n",
       "gross                        3.015287e+07\n",
       "num_voted_users              3.835527e+04\n",
       "cast_total_facebook_likes    7.516075e+03\n",
       "num_user_for_reviews         1.533582e+02\n",
       "imdb_score                   6.795235e+00\n",
       "movie_facebook_likes         1.648225e+03\n",
       "cluster                      4.000000e+00\n",
       "dtype: float64"
      ]
     },
     "execution_count": 364,
     "metadata": {},
     "output_type": "execute_result"
    }
   ],
   "source": [
    "m3Regression3[(m3Regression3['cluster']==4)].mean()"
   ]
  },
  {
   "cell_type": "markdown",
   "metadata": {
    "slideshow": {
     "slide_type": "slide"
    }
   },
   "source": [
    "### Agglomerative Clustering"
   ]
  },
  {
   "cell_type": "code",
   "execution_count": 365,
   "metadata": {
    "slideshow": {
     "slide_type": "skip"
    }
   },
   "outputs": [],
   "source": [
    "from sklearn.cluster import AgglomerativeClustering\n",
    "from sklearn.cluster import ward_tree\n",
    "from scipy.cluster.hierarchy import dendrogram, linkage, ward\n",
    "\n"
   ]
  },
  {
   "cell_type": "code",
   "execution_count": 366,
   "metadata": {
    "slideshow": {
     "slide_type": "skip"
    }
   },
   "outputs": [
    {
     "data": {
      "text/plain": [
       "array([2, 2, 2, ..., 0, 0, 0], dtype=int64)"
      ]
     },
     "execution_count": 366,
     "metadata": {},
     "output_type": "execute_result"
    }
   ],
   "source": [
    "np.random.seed(1) # setting random seed to get the same results each time.\n",
    "\n",
    "agg= AgglomerativeClustering(n_clusters=5, linkage='ward').fit(X_norm)\n",
    "agg.labels_\n"
   ]
  },
  {
   "cell_type": "code",
   "execution_count": 367,
   "metadata": {
    "slideshow": {
     "slide_type": "skip"
    }
   },
   "outputs": [
    {
     "data": {
      "image/png": "[encoded data removed]",
      "text/plain": [
       "<Figure size 1152x576 with 1 Axes>"
      ]
     },
     "metadata": {
      "needs_background": "light"
     },
     "output_type": "display_data"
    }
   ],
   "source": [
    "plt.figure(figsize=(16,8))\n",
    "\n",
    "linkage_matrix = ward(X_norm)\n",
    "dendrogram(linkage_matrix, orientation=\"left\")\n",
    "plt.tight_layout() "
   ]
  },
  {
   "cell_type": "code",
   "execution_count": 368,
   "metadata": {
    "slideshow": {
     "slide_type": "slide"
    }
   },
   "outputs": [
    {
     "data": {
      "image/png": "[encoded data removed]",
      "text/plain": [
       "<Figure size 1152x576 with 1 Axes>"
      ]
     },
     "metadata": {
      "needs_background": "light"
     },
     "output_type": "display_data"
    }
   ],
   "source": [
    "plt.figure(figsize=(16,8))\n",
    "\n",
    "plt.title('Hierarchical Clustering Dendrogram (truncated)')\n",
    "plt.xlabel('sample index or (cluster size)')\n",
    "plt.ylabel('distance')\n",
    "\n",
    "linkage_matrix = ward(X)\n",
    "dendrogram(linkage_matrix, \n",
    "           #truncate_mode='lastp',  # show only the last p merged clusters\n",
    "           #p=12,  # show only the last p merged clusters\n",
    "           #show_leaf_counts=False,  # otherwise numbers in brackets are counts\n",
    "           leaf_rotation=90.,\n",
    "           leaf_font_size=12.,\n",
    "           show_contracted=True,  # to get a distribution impression in truncated branches\n",
    "           orientation=\"top\")\n",
    "plt.tight_layout()\n"
   ]
  },
  {
   "cell_type": "code",
   "execution_count": 369,
   "metadata": {
    "slideshow": {
     "slide_type": "skip"
    }
   },
   "outputs": [
    {
     "data": {
      "text/html": [
       "<div>\n",
       "<style scoped>\n",
       "    .dataframe tbody tr th:only-of-type {\n",
       "        vertical-align: middle;\n",
       "    }\n",
       "\n",
       "    .dataframe tbody tr th {\n",
       "        vertical-align: top;\n",
       "    }\n",
       "\n",
       "    .dataframe thead th {\n",
       "        text-align: right;\n",
       "    }\n",
       "</style>\n",
       "<table border=\"1\" class=\"dataframe\">\n",
       "  <thead>\n",
       "    <tr style=\"text-align: right;\">\n",
       "      <th></th>\n",
       "      <th>cluster</th>\n",
       "    </tr>\n",
       "  </thead>\n",
       "  <tbody>\n",
       "    <tr>\n",
       "      <th>0</th>\n",
       "      <td>2</td>\n",
       "    </tr>\n",
       "    <tr>\n",
       "      <th>1</th>\n",
       "      <td>2</td>\n",
       "    </tr>\n",
       "    <tr>\n",
       "      <th>2</th>\n",
       "      <td>2</td>\n",
       "    </tr>\n",
       "    <tr>\n",
       "      <th>3</th>\n",
       "      <td>1</td>\n",
       "    </tr>\n",
       "    <tr>\n",
       "      <th>4</th>\n",
       "      <td>2</td>\n",
       "    </tr>\n",
       "  </tbody>\n",
       "</table>\n",
       "</div>"
      ],
      "text/plain": [
       "   cluster\n",
       "0        2\n",
       "1        2\n",
       "2        2\n",
       "3        1\n",
       "4        2"
      ]
     },
     "execution_count": 369,
     "metadata": {},
     "output_type": "execute_result"
    }
   ],
   "source": [
    "m3Regression5 = pd.DataFrame(agg.labels_, columns = ['cluster'])\n",
    "m3Regression5.head()"
   ]
  },
  {
   "cell_type": "code",
   "execution_count": 370,
   "metadata": {
    "slideshow": {
     "slide_type": "skip"
    }
   },
   "outputs": [
    {
     "data": {
      "text/html": [
       "<div>\n",
       "<style scoped>\n",
       "    .dataframe tbody tr th:only-of-type {\n",
       "        vertical-align: middle;\n",
       "    }\n",
       "\n",
       "    .dataframe tbody tr th {\n",
       "        vertical-align: top;\n",
       "    }\n",
       "\n",
       "    .dataframe thead th {\n",
       "        text-align: right;\n",
       "    }\n",
       "</style>\n",
       "<table border=\"1\" class=\"dataframe\">\n",
       "  <thead>\n",
       "    <tr style=\"text-align: right;\">\n",
       "      <th></th>\n",
       "      <th>num_critic_for_reviews</th>\n",
       "      <th>duration</th>\n",
       "      <th>director_facebook_likes</th>\n",
       "      <th>gross</th>\n",
       "      <th>num_voted_users</th>\n",
       "      <th>cast_total_facebook_likes</th>\n",
       "      <th>num_user_for_reviews</th>\n",
       "      <th>imdb_score</th>\n",
       "      <th>movie_facebook_likes</th>\n",
       "      <th>cluster</th>\n",
       "    </tr>\n",
       "  </thead>\n",
       "  <tbody>\n",
       "    <tr>\n",
       "      <th>0</th>\n",
       "      <td>723.0</td>\n",
       "      <td>178.0</td>\n",
       "      <td>0.0</td>\n",
       "      <td>760505847.0</td>\n",
       "      <td>886204</td>\n",
       "      <td>4834</td>\n",
       "      <td>3054.0</td>\n",
       "      <td>7.9</td>\n",
       "      <td>33000</td>\n",
       "      <td>2</td>\n",
       "    </tr>\n",
       "    <tr>\n",
       "      <th>1</th>\n",
       "      <td>302.0</td>\n",
       "      <td>169.0</td>\n",
       "      <td>563.0</td>\n",
       "      <td>309404152.0</td>\n",
       "      <td>471220</td>\n",
       "      <td>48350</td>\n",
       "      <td>1238.0</td>\n",
       "      <td>7.1</td>\n",
       "      <td>0</td>\n",
       "      <td>2</td>\n",
       "    </tr>\n",
       "    <tr>\n",
       "      <th>2</th>\n",
       "      <td>602.0</td>\n",
       "      <td>148.0</td>\n",
       "      <td>0.0</td>\n",
       "      <td>200074175.0</td>\n",
       "      <td>275868</td>\n",
       "      <td>11700</td>\n",
       "      <td>994.0</td>\n",
       "      <td>6.8</td>\n",
       "      <td>85000</td>\n",
       "      <td>2</td>\n",
       "    </tr>\n",
       "    <tr>\n",
       "      <th>3</th>\n",
       "      <td>813.0</td>\n",
       "      <td>164.0</td>\n",
       "      <td>22000.0</td>\n",
       "      <td>448130642.0</td>\n",
       "      <td>1144337</td>\n",
       "      <td>106759</td>\n",
       "      <td>2701.0</td>\n",
       "      <td>8.5</td>\n",
       "      <td>164000</td>\n",
       "      <td>1</td>\n",
       "    </tr>\n",
       "    <tr>\n",
       "      <th>4</th>\n",
       "      <td>462.0</td>\n",
       "      <td>132.0</td>\n",
       "      <td>475.0</td>\n",
       "      <td>73058679.0</td>\n",
       "      <td>212204</td>\n",
       "      <td>1873</td>\n",
       "      <td>738.0</td>\n",
       "      <td>6.6</td>\n",
       "      <td>24000</td>\n",
       "      <td>2</td>\n",
       "    </tr>\n",
       "  </tbody>\n",
       "</table>\n",
       "</div>"
      ],
      "text/plain": [
       "   num_critic_for_reviews  duration  director_facebook_likes        gross  \\\n",
       "0                   723.0     178.0                      0.0  760505847.0   \n",
       "1                   302.0     169.0                    563.0  309404152.0   \n",
       "2                   602.0     148.0                      0.0  200074175.0   \n",
       "3                   813.0     164.0                  22000.0  448130642.0   \n",
       "4                   462.0     132.0                    475.0   73058679.0   \n",
       "\n",
       "   num_voted_users  cast_total_facebook_likes  num_user_for_reviews  \\\n",
       "0           886204                       4834                3054.0   \n",
       "1           471220                      48350                1238.0   \n",
       "2           275868                      11700                 994.0   \n",
       "3          1144337                     106759                2701.0   \n",
       "4           212204                       1873                 738.0   \n",
       "\n",
       "   imdb_score  movie_facebook_likes  cluster  \n",
       "0         7.9                 33000        2  \n",
       "1         7.1                     0        2  \n",
       "2         6.8                 85000        2  \n",
       "3         8.5                164000        1  \n",
       "4         6.6                 24000        2  "
      ]
     },
     "execution_count": 370,
     "metadata": {},
     "output_type": "execute_result"
    }
   ],
   "source": [
    "m3Regression = m3Regression.reset_index(drop=True)\n",
    "m3Regression5 = m3Regression5.reset_index(drop=True)\n",
    "\n",
    "m3Regression6 = m3Regression.join(m3Regression5)\n",
    "m3Regression6.head()"
   ]
  },
  {
   "cell_type": "code",
   "execution_count": 371,
   "metadata": {
    "slideshow": {
     "slide_type": "slide"
    }
   },
   "outputs": [
    {
     "data": {
      "text/plain": [
       "<matplotlib.axes._subplots.AxesSubplot at 0x2736d6538d0>"
      ]
     },
     "execution_count": 371,
     "metadata": {},
     "output_type": "execute_result"
    },
    {
     "data": {
      "image/png": "[encoded data removed]",
      "text/plain": [
       "<Figure size 432x288 with 1 Axes>"
      ]
     },
     "metadata": {
      "needs_background": "light"
     },
     "output_type": "display_data"
    }
   ],
   "source": [
    "m3Regression6.groupby('cluster')['imdb_score'].mean().sort_values(ascending=True).plot(kind='barh')\n"
   ]
  },
  {
   "cell_type": "markdown",
   "metadata": {
    "slideshow": {
     "slide_type": "slide"
    }
   },
   "source": [
    "   - Top Performing Aglomerrative (Cluster 2) IMDB Score:  7.44\n",
    "  \n",
    "        - Duration:                  124.45\n",
    "        - Director Facebook Likes:   287\n",
    "        - Gross:                     149.43 Million\n",
    "        - Number Voted Users:        371000\n",
    "        - Cast Total Facebook Likes: 19701\n",
    "        - Number User for Reviews:   985\n",
    "        - Movie Facebook Likes:      42939"
   ]
  },
  {
   "cell_type": "code",
   "execution_count": 372,
   "metadata": {
    "slideshow": {
     "slide_type": "skip"
    }
   },
   "outputs": [
    {
     "data": {
      "text/plain": [
       "num_critic_for_reviews       7.486303e+01\n",
       "duration                     9.767094e+01\n",
       "director_facebook_likes      1.016036e+02\n",
       "gross                        2.825442e+07\n",
       "num_voted_users              2.307047e+04\n",
       "cast_total_facebook_likes    6.638828e+03\n",
       "num_user_for_reviews         1.252116e+02\n",
       "imdb_score                   5.513697e+00\n",
       "movie_facebook_likes         8.499527e+02\n",
       "cluster                      0.000000e+00\n",
       "dtype: float64"
      ]
     },
     "execution_count": 372,
     "metadata": {},
     "output_type": "execute_result"
    }
   ],
   "source": [
    "m3Regression6[(m3Regression6['cluster']==0)].mean()"
   ]
  },
  {
   "cell_type": "code",
   "execution_count": 373,
   "metadata": {
    "slideshow": {
     "slide_type": "skip"
    }
   },
   "outputs": [
    {
     "data": {
      "text/plain": [
       "num_critic_for_reviews       2.365886e+02\n",
       "duration                     1.250629e+02\n",
       "director_facebook_likes      1.470857e+04\n",
       "gross                        8.822565e+07\n",
       "num_voted_users              2.659407e+05\n",
       "cast_total_facebook_likes    1.996940e+04\n",
       "num_user_for_reviews         6.466514e+02\n",
       "imdb_score                   7.282286e+00\n",
       "movie_facebook_likes         2.020664e+04\n",
       "cluster                      1.000000e+00\n",
       "dtype: float64"
      ]
     },
     "execution_count": 373,
     "metadata": {},
     "output_type": "execute_result"
    }
   ],
   "source": [
    "m3Regression6[(m3Regression6['cluster']==1)].mean()"
   ]
  },
  {
   "cell_type": "code",
   "execution_count": 374,
   "metadata": {
    "slideshow": {
     "slide_type": "skip"
    }
   },
   "outputs": [
    {
     "data": {
      "text/plain": [
       "num_critic_for_reviews       3.835929e+02\n",
       "duration                     1.244478e+02\n",
       "director_facebook_likes      2.876107e+02\n",
       "gross                        1.494255e+08\n",
       "num_voted_users              3.709996e+05\n",
       "cast_total_facebook_likes    1.970085e+04\n",
       "num_user_for_reviews         9.851094e+02\n",
       "imdb_score                   7.437913e+00\n",
       "movie_facebook_likes         4.293893e+04\n",
       "cluster                      2.000000e+00\n",
       "dtype: float64"
      ]
     },
     "execution_count": 374,
     "metadata": {},
     "output_type": "execute_result"
    }
   ],
   "source": [
    "m3Regression6[(m3Regression6['cluster']==2)].mean()"
   ]
  },
  {
   "cell_type": "code",
   "execution_count": 375,
   "metadata": {
    "slideshow": {
     "slide_type": "skip"
    }
   },
   "outputs": [
    {
     "data": {
      "text/plain": [
       "num_critic_for_reviews       2.274419e+02\n",
       "duration                     1.083046e+02\n",
       "director_facebook_likes      2.046400e+02\n",
       "gross                        5.797146e+07\n",
       "num_voted_users              1.089867e+05\n",
       "cast_total_facebook_likes    1.415705e+04\n",
       "num_user_for_reviews         3.514437e+02\n",
       "imdb_score                   6.619894e+00\n",
       "movie_facebook_likes         1.050504e+04\n",
       "cluster                      3.000000e+00\n",
       "dtype: float64"
      ]
     },
     "execution_count": 375,
     "metadata": {},
     "output_type": "execute_result"
    }
   ],
   "source": [
    "m3Regression6[(m3Regression6['cluster']==3)].mean()"
   ]
  },
  {
   "cell_type": "code",
   "execution_count": 376,
   "metadata": {
    "slideshow": {
     "slide_type": "skip"
    }
   },
   "outputs": [
    {
     "data": {
      "text/plain": [
       "num_critic_for_reviews       9.216327e+01\n",
       "duration                     1.188533e+02\n",
       "director_facebook_likes      1.618231e+02\n",
       "gross                        3.117196e+07\n",
       "num_voted_users              5.008393e+04\n",
       "cast_total_facebook_likes    7.270346e+03\n",
       "num_user_for_reviews         1.938659e+02\n",
       "imdb_score                   7.203304e+00\n",
       "movie_facebook_likes         2.672380e+03\n",
       "cluster                      4.000000e+00\n",
       "dtype: float64"
      ]
     },
     "execution_count": 376,
     "metadata": {},
     "output_type": "execute_result"
    }
   ],
   "source": [
    "m3Regression6[(m3Regression6['cluster']==4)].mean()"
   ]
  },
  {
   "cell_type": "markdown",
   "metadata": {
    "slideshow": {
     "slide_type": "skip"
    }
   },
   "source": [
    "# References.\n",
    "\n",
    "Includes all references from mid-term project"
   ]
  },
  {
   "cell_type": "markdown",
   "metadata": {
    "slideshow": {
     "slide_type": "skip"
    }
   },
   "source": [
    "github.io, pandas qcut. http://pandas-docs.github.io/pandas-docs-travis/reference/api/pandas.qcut.html?highlight=qcut#pandas.qcut\n",
    "\n",
    "ibm.com, Markdown for Jupyter Notebook Cheatsheet. https://www.ibm.com/support/knowledgecenter/en/SSGNPV_1.1.3/dsx/markd-jupyter.html\n",
    "\n",
    "imdb.com, What is IMDB. https://help.imdb.com/article/imdb/general-information/what-is-imdb/G836CY29Z4SGNMK5?ref_=helpsect_cons_1_1#\n",
    "\n",
    "stackoverflow.com, Convert pandas column to dateline. https://stackoverflow.com/questions/26763344/convert-pandas-column-to-datetime\n",
    "\n",
    "stackoverflow.com, Is there a not equal operator in python. https://stackoverflow.com/questions/11060506/is-there-a-not-equal-operator-in-python\n",
    "\n",
    "stackoverflow.com, Pandas convert column with year integer to datetime. https://stackoverflow.com/questions/46658232/pandas-convert-column-with-year-integer-to-datetime\n",
    "\n",
    "stackoverflow.com, ValueError: Unknown label type: 'continuous'. https://stackoverflow.com/questions/43211239/valueerror-unknown-label-type-continuous\n",
    "\n",
    "stackoverflow.com, What is the difference between pandas qcut and pandas cut. https://stackoverflow.com/questions/30211923/what-is-the-difference-between-pandas-qcut-and-pandas-cut\n",
    "\n",
    "sebastianrascka.com, ipython internal links. https://sebastianraschka.com/Articles/2014_ipython_internal_links.html\n"
   ]
  },
  {
   "cell_type": "markdown",
   "metadata": {
    "slideshow": {
     "slide_type": "skip"
    }
   },
   "source": [
    "# Instructor References\n",
    "\n",
    "Includes references included in MIS665 provided code fpr Elbow Method\n",
    "\n",
    "packthub.com, Big data and business intelligence.  https://www.packtpub.com/big-data-and-business-intelligence/mastering-machine-learning-scikit-learn\n",
    "\n",
    "scipy.org, Spatial distance.  http://docs.scipy.org/doc/scipy/reference/spatial.distance.htm"
   ]
  },
  {
   "cell_type": "code",
   "execution_count": null,
   "metadata": {},
   "outputs": [],
   "source": []
  }
 ],
 "metadata": {
  "celltoolbar": "Slideshow",
  "kernelspec": {
   "display_name": "Python 3",
   "language": "python",
   "name": "python3"
  },
  "language_info": {
   "codemirror_mode": {
    "name": "ipython",
    "version": 3
   },
   "file_extension": ".py",
   "mimetype": "text/x-python",
   "name": "python",
   "nbconvert_exporter": "python",
   "pygments_lexer": "ipython3",
   "version": "3.7.3"
  }
 },
 "nbformat": 4,
 "nbformat_minor": 2
}
